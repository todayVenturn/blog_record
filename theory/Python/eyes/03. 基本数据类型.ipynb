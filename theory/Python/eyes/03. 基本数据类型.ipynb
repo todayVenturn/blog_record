{
 "cells": [
  {
   "cell_type": "markdown",
   "id": "378c82e0",
   "metadata": {},
   "source": [
    "# 第一部分 数字类型\n",
    "\n",
    "## 1.1 数字类型的组成\n",
    "\n",
    "### 1.1.1 整数——不同进制的转换"
   ]
  },
  {
   "cell_type": "markdown",
   "id": "2dbf202f",
   "metadata": {},
   "source": [
    "- 默认输入十进制\n",
    "- 二进制0b、八进制0o、十六进制0x"
   ]
  },
  {
   "cell_type": "code",
   "execution_count": 1,
   "id": "212f29f4",
   "metadata": {},
   "outputs": [
    {
     "data": {
      "text/plain": [
       "True"
      ]
     },
     "execution_count": 1,
     "metadata": {},
     "output_type": "execute_result"
    }
   ],
   "source": [
    "16 == 0b10000 == 0o20 == 0x10"
   ]
  },
  {
   "cell_type": "markdown",
   "id": "bac68a4f",
   "metadata": {},
   "source": [
    "- 十进制与其他进制的转换"
   ]
  },
  {
   "cell_type": "code",
   "execution_count": 2,
   "id": "6ba6b60b",
   "metadata": {},
   "outputs": [
    {
     "name": "stdout",
     "output_type": "stream",
     "text": [
      "0b10000 0o20 0x10\n"
     ]
    }
   ],
   "source": [
    "a = bin(16)   # 转二进制\n",
    "b = oct(16)   # 转八进制\n",
    "c = hex(16)   # 转十六进制\n",
    "print(a,b,c)"
   ]
  },
  {
   "cell_type": "markdown",
   "id": "4a382fb9",
   "metadata": {},
   "source": [
    "**注意：上述转换后结果为字符串类型**"
   ]
  },
  {
   "cell_type": "code",
   "execution_count": 3,
   "id": "c42db7bb",
   "metadata": {},
   "outputs": [
    {
     "data": {
      "text/plain": [
       "False"
      ]
     },
     "execution_count": 3,
     "metadata": {},
     "output_type": "execute_result"
    }
   ],
   "source": [
    "a == b == c"
   ]
  },
  {
   "cell_type": "code",
   "execution_count": 4,
   "id": "72bbfca2",
   "metadata": {},
   "outputs": [
    {
     "data": {
      "text/plain": [
       "str"
      ]
     },
     "execution_count": 4,
     "metadata": {},
     "output_type": "execute_result"
    }
   ],
   "source": [
    "type(a)"
   ]
  },
  {
   "cell_type": "markdown",
   "id": "53000ff9",
   "metadata": {},
   "source": [
    "- 其他进制转十进制"
   ]
  },
  {
   "cell_type": "code",
   "execution_count": 5,
   "id": "2bb6672e",
   "metadata": {},
   "outputs": [
    {
     "name": "stdout",
     "output_type": "stream",
     "text": [
      "16 16 16\n"
     ]
    }
   ],
   "source": [
    "d = int(a,2)    # 二进制转十进制\n",
    "e = int(b,8)    # 八进制转十进制\n",
    "f = int(c,16)   # 十六进制转十进制\n",
    "print(d,e,f)"
   ]
  },
  {
   "cell_type": "markdown",
   "id": "3c2c306a",
   "metadata": {},
   "source": [
    "### 1.1.2 浮点数——不确定性\n",
    "\n",
    "- 不确定小数问题"
   ]
  },
  {
   "cell_type": "code",
   "execution_count": 6,
   "id": "1ff66a78",
   "metadata": {},
   "outputs": [
    {
     "data": {
      "text/plain": [
       "False"
      ]
     },
     "execution_count": 6,
     "metadata": {},
     "output_type": "execute_result"
    }
   ],
   "source": [
    "(0.1+0.2) == 0.3"
   ]
  },
  {
   "cell_type": "code",
   "execution_count": 7,
   "id": "acb50a3a",
   "metadata": {},
   "outputs": [
    {
     "data": {
      "text/plain": [
       "0.30000000000000004"
      ]
     },
     "execution_count": 7,
     "metadata": {},
     "output_type": "execute_result"
    }
   ],
   "source": [
    "0.1+0.2"
   ]
  },
  {
   "cell_type": "markdown",
   "id": "19ef2382",
   "metadata": {},
   "source": [
    "**计算机采用二进制小数来表示浮点数的小数部分**\n",
    "\n",
    "- 部分小数不能用二进制小数完全表示"
   ]
  },
  {
   "cell_type": "raw",
   "id": "f09b3205",
   "metadata": {},
   "source": [
    "       二进制           十进制\n",
    "0.00011001100110011001   0.09999942779541016\n",
    "0.0011001100110011      0.1999969482421875\n",
    "0.01001100110011001     0.29999542236328125\n",
    "0.01100110011001101     0.40000152587890625\n",
    "0.1                     0.5"
   ]
  },
  {
   "cell_type": "markdown",
   "id": "0c8241c0",
   "metadata": {},
   "source": [
    "- 通常情况不会影响计算精度"
   ]
  },
  {
   "cell_type": "code",
   "execution_count": 8,
   "id": "e95cb8ec",
   "metadata": {},
   "outputs": [
    {
     "data": {
      "text/plain": [
       "0.7999999999999999"
      ]
     },
     "execution_count": 8,
     "metadata": {},
     "output_type": "execute_result"
    }
   ],
   "source": [
    "0.1+0.7"
   ]
  },
  {
   "cell_type": "markdown",
   "id": "ddb0a2b4",
   "metadata": {},
   "source": [
    "- 四舍五入获得精确解"
   ]
  },
  {
   "cell_type": "code",
   "execution_count": 10,
   "id": "e8df30af",
   "metadata": {},
   "outputs": [
    {
     "name": "stdout",
     "output_type": "stream",
     "text": [
      "0.30000000000000004\n"
     ]
    }
   ],
   "source": [
    "a =  3*0.1\n",
    "print(a)"
   ]
  },
  {
   "cell_type": "code",
   "execution_count": 11,
   "id": "213b889d",
   "metadata": {},
   "outputs": [
    {
     "name": "stdout",
     "output_type": "stream",
     "text": [
      "0.3\n"
     ]
    },
    {
     "data": {
      "text/plain": [
       "True"
      ]
     },
     "execution_count": 11,
     "metadata": {},
     "output_type": "execute_result"
    }
   ],
   "source": [
    "b = round(a,1)\n",
    "print(b)\n",
    "b == 0.3"
   ]
  },
  {
   "cell_type": "markdown",
   "id": "eceb9374",
   "metadata": {},
   "source": [
    "## 1.2 数字运算操作符（a操作符b）\n",
    "\n",
    "- 加减乘除运算  +  -  /  *"
   ]
  },
  {
   "cell_type": "code",
   "execution_count": 12,
   "id": "0421553e",
   "metadata": {},
   "outputs": [
    {
     "data": {
      "text/plain": [
       "-0.8"
      ]
     },
     "execution_count": 12,
     "metadata": {},
     "output_type": "execute_result"
    }
   ],
   "source": [
    "(1+3-4*2)/5"
   ]
  },
  {
   "cell_type": "markdown",
   "id": "b11d1915",
   "metadata": {},
   "source": [
    "- 取反"
   ]
  },
  {
   "cell_type": "code",
   "execution_count": 13,
   "id": "a7fa9998",
   "metadata": {},
   "outputs": [
    {
     "data": {
      "text/plain": [
       "-1"
      ]
     },
     "execution_count": 13,
     "metadata": {},
     "output_type": "execute_result"
    }
   ],
   "source": [
    "x = 1\n",
    "-x"
   ]
  },
  {
   "cell_type": "markdown",
   "id": "450441cb",
   "metadata": {},
   "source": [
    "- 乘方运算 **"
   ]
  },
  {
   "cell_type": "code",
   "execution_count": 14,
   "id": "12f97afb",
   "metadata": {},
   "outputs": [
    {
     "data": {
      "text/plain": [
       "8"
      ]
     },
     "execution_count": 14,
     "metadata": {},
     "output_type": "execute_result"
    }
   ],
   "source": [
    "2**3"
   ]
  },
  {
   "cell_type": "markdown",
   "id": "65490e81",
   "metadata": {},
   "source": [
    "- 整数商// 和 模运算%"
   ]
  },
  {
   "cell_type": "code",
   "execution_count": 15,
   "id": "e7379a61",
   "metadata": {},
   "outputs": [
    {
     "data": {
      "text/plain": [
       "2"
      ]
     },
     "execution_count": 15,
     "metadata": {},
     "output_type": "execute_result"
    }
   ],
   "source": [
    "13//5      # 整数商     x/y向下取整数"
   ]
  },
  {
   "cell_type": "code",
   "execution_count": 16,
   "id": "0126bf0a",
   "metadata": {},
   "outputs": [
    {
     "data": {
      "text/plain": [
       "3"
      ]
     },
     "execution_count": 16,
     "metadata": {},
     "output_type": "execute_result"
    }
   ],
   "source": [
    "13 % 5     # 模运算     余数 13=2*5+3"
   ]
  },
  {
   "cell_type": "markdown",
   "id": "a5ec8942",
   "metadata": {},
   "source": [
    "**几点说明**\n",
    "\n",
    "- 整数与浮点数运算结果是浮点数\n",
    "- 除法运算的结果是浮点数"
   ]
  },
  {
   "cell_type": "code",
   "execution_count": 17,
   "id": "27044d99",
   "metadata": {},
   "outputs": [
    {
     "data": {
      "text/plain": [
       "2.5"
      ]
     },
     "execution_count": 17,
     "metadata": {},
     "output_type": "execute_result"
    }
   ],
   "source": [
    "1+1.5"
   ]
  },
  {
   "cell_type": "code",
   "execution_count": 18,
   "id": "24835473",
   "metadata": {},
   "outputs": [
    {
     "data": {
      "text/plain": [
       "0.4"
      ]
     },
     "execution_count": 18,
     "metadata": {},
     "output_type": "execute_result"
    }
   ],
   "source": [
    "2/5"
   ]
  },
  {
   "cell_type": "code",
   "execution_count": 19,
   "id": "714b9130",
   "metadata": {},
   "outputs": [
    {
     "data": {
      "text/plain": [
       "2.0"
      ]
     },
     "execution_count": 19,
     "metadata": {},
     "output_type": "execute_result"
    }
   ],
   "source": [
    "8/4"
   ]
  },
  {
   "cell_type": "markdown",
   "id": "7636bf38",
   "metadata": {},
   "source": [
    "## 1.3 数字运算操作函数 function(x,...)"
   ]
  },
  {
   "cell_type": "markdown",
   "id": "f5912017",
   "metadata": {},
   "source": [
    "- 求绝对值 abs()"
   ]
  },
  {
   "cell_type": "code",
   "execution_count": 21,
   "id": "05bc20fd",
   "metadata": {},
   "outputs": [
    {
     "data": {
      "text/plain": [
       "5"
      ]
     },
     "execution_count": 21,
     "metadata": {},
     "output_type": "execute_result"
    }
   ],
   "source": [
    "abs(-5)"
   ]
  },
  {
   "cell_type": "markdown",
   "id": "2d3e19fd",
   "metadata": {},
   "source": [
    "- 幂次方pow()"
   ]
  },
  {
   "cell_type": "code",
   "execution_count": 22,
   "id": "3d083eec",
   "metadata": {},
   "outputs": [
    {
     "data": {
      "text/plain": [
       "32"
      ]
     },
     "execution_count": 22,
     "metadata": {},
     "output_type": "execute_result"
    }
   ],
   "source": [
    "pow(2, 5)      # pow(x,n)  x的n次方  等价于x ** n"
   ]
  },
  {
   "cell_type": "code",
   "execution_count": 24,
   "id": "13571147",
   "metadata": {},
   "outputs": [
    {
     "data": {
      "text/plain": [
       "2"
      ]
     },
     "execution_count": 24,
     "metadata": {},
     "output_type": "execute_result"
    }
   ],
   "source": [
    "pow(2, 5 ,3)    #2的5次方再对3取余"
   ]
  },
  {
   "cell_type": "markdown",
   "id": "0f2244f3",
   "metadata": {},
   "source": [
    "- 四舍五入round(x,n)"
   ]
  },
  {
   "cell_type": "code",
   "execution_count": 25,
   "id": "e4d29fd6",
   "metadata": {},
   "outputs": [
    {
     "name": "stdout",
     "output_type": "stream",
     "text": [
      "2\n"
     ]
    }
   ],
   "source": [
    "a = 1.618\n",
    "print(round(a))       # 默认四舍五入为整数"
   ]
  },
  {
   "cell_type": "code",
   "execution_count": 26,
   "id": "b55a3927",
   "metadata": {},
   "outputs": [
    {
     "name": "stdout",
     "output_type": "stream",
     "text": [
      "1.62\n"
     ]
    }
   ],
   "source": [
    "print(round(a, 2))    # 参数2表示四舍五入后保留2位小数"
   ]
  },
  {
   "cell_type": "code",
   "execution_count": 27,
   "id": "5d7903f5",
   "metadata": {},
   "outputs": [
    {
     "name": "stdout",
     "output_type": "stream",
     "text": [
      "1.618\n"
     ]
    }
   ],
   "source": [
    "print(round(a, 5))    # 位数不足，无需补齐"
   ]
  },
  {
   "cell_type": "markdown",
   "id": "87393d0c",
   "metadata": {},
   "source": [
    "- 整数商和模运算 divmod(x,y)\n",
    "- 等价返回二元元组 (x//y,x%y)"
   ]
  },
  {
   "cell_type": "code",
   "execution_count": 28,
   "id": "ab766ff7",
   "metadata": {},
   "outputs": [
    {
     "data": {
      "text/plain": [
       "(2, 3)"
      ]
     },
     "execution_count": 28,
     "metadata": {},
     "output_type": "execute_result"
    }
   ],
   "source": [
    "divmod(13, 5)     # 较（x//y,x % y）更快，只执行了 一次x/y"
   ]
  },
  {
   "cell_type": "markdown",
   "id": "81f1bdf8",
   "metadata": {},
   "source": [
    "- 序列最大/最小 max() min()"
   ]
  },
  {
   "cell_type": "code",
   "execution_count": 31,
   "id": "7bc715d3",
   "metadata": {},
   "outputs": [
    {
     "data": {
      "text/plain": [
       "9"
      ]
     },
     "execution_count": 31,
     "metadata": {},
     "output_type": "execute_result"
    }
   ],
   "source": [
    "max(3, 2, 3, 6, 9, 4, 6)"
   ]
  },
  {
   "cell_type": "code",
   "execution_count": 32,
   "id": "f8007c50",
   "metadata": {},
   "outputs": [
    {
     "name": "stdout",
     "output_type": "stream",
     "text": [
      "max: 9\n",
      "min: 2\n"
     ]
    }
   ],
   "source": [
    "a = [3, 2, 3, 6, 9, 4, 6]\n",
    "print(\"max:\",max(a))\n",
    "print(\"min:\",min(a))"
   ]
  },
  {
   "cell_type": "markdown",
   "id": "e015419e",
   "metadata": {},
   "source": [
    "- 求和sum(x)"
   ]
  },
  {
   "cell_type": "code",
   "execution_count": 33,
   "id": "d528a522",
   "metadata": {},
   "outputs": [
    {
     "data": {
      "text/plain": [
       "33"
      ]
     },
     "execution_count": 33,
     "metadata": {},
     "output_type": "execute_result"
    }
   ],
   "source": [
    "sum([3, 2, 3, 6, 9, 4, 6])"
   ]
  },
  {
   "cell_type": "markdown",
   "id": "031d0d7b",
   "metadata": {},
   "source": [
    "- 借助科学计算库 math/scipy/numpy"
   ]
  },
  {
   "cell_type": "code",
   "execution_count": 4,
   "id": "d6a2d936",
   "metadata": {},
   "outputs": [
    {
     "name": "stdout",
     "output_type": "stream",
     "text": [
      "2.718281828459045\n",
      "1.0\n",
      "2.0\n"
     ]
    }
   ],
   "source": [
    "import math   # 导入库\n",
    "print(math.exp(1))   # 指数运算 e^x\n",
    "print(math.log2(2))  # 对数运算\n",
    "print(math.sqrt(4))  # 开平方运算  等价于4^0.5"
   ]
  },
  {
   "cell_type": "code",
   "execution_count": 3,
   "id": "a1de1c23",
   "metadata": {},
   "outputs": [
    {
     "name": "stdout",
     "output_type": "stream",
     "text": [
      "3.0\n",
      "3.0\n",
      "1.4142135623730951\n"
     ]
    }
   ],
   "source": [
    "import numpy as np\n",
    "a = [1, 2, 3, 4, 5]\n",
    "print(np.mean(a))    # 求均值\n",
    "print(np.median(a))  # 求中位数\n",
    "print(np.std(a))     # 求标准差"
   ]
  },
  {
   "cell_type": "markdown",
   "id": "21f700b6",
   "metadata": {},
   "source": [
    "# 第二部分 字符串类型\n",
    "\n",
    "## 2.1 字符串的表达\n",
    "\n",
    "- 用\"\"或''括起来的任意字符"
   ]
  },
  {
   "cell_type": "code",
   "execution_count": 35,
   "id": "d56f3e58",
   "metadata": {},
   "outputs": [
    {
     "name": "stdout",
     "output_type": "stream",
     "text": [
      "Python\n"
     ]
    }
   ],
   "source": [
    "print(\"Python\")"
   ]
  },
  {
   "cell_type": "markdown",
   "id": "1944d329",
   "metadata": {},
   "source": [
    "- 字符串中有双引号或者单引号的情况"
   ]
  },
  {
   "cell_type": "markdown",
   "id": "44c283b9",
   "metadata": {},
   "source": [
    "**双中有单**"
   ]
  },
  {
   "cell_type": "code",
   "execution_count": 37,
   "id": "59f95915",
   "metadata": {},
   "outputs": [
    {
     "name": "stdout",
     "output_type": "stream",
     "text": [
      "I'm 18 years old\n"
     ]
    }
   ],
   "source": [
    "print(\"I'm 18 years old\")"
   ]
  },
  {
   "cell_type": "markdown",
   "id": "cc653a47",
   "metadata": {},
   "source": [
    "**单中有双**"
   ]
  },
  {
   "cell_type": "code",
   "execution_count": 38,
   "id": "7c360d5c",
   "metadata": {},
   "outputs": [
    {
     "name": "stdout",
     "output_type": "stream",
     "text": [
      "\"Python\" is good\n"
     ]
    }
   ],
   "source": [
    "print('\"Python\" is good')"
   ]
  },
  {
   "cell_type": "markdown",
   "id": "2803ea35",
   "metadata": {},
   "source": [
    "**双中有双，单中有单**——转义符  \\"
   ]
  },
  {
   "cell_type": "code",
   "execution_count": 39,
   "id": "aa4e7801",
   "metadata": {},
   "outputs": [
    {
     "name": "stdout",
     "output_type": "stream",
     "text": [
      "\"Python\" is good\n"
     ]
    }
   ],
   "source": [
    "print(\"\\\"Python\\\" is good\")"
   ]
  },
  {
   "cell_type": "markdown",
   "id": "5ac4d1d8",
   "metadata": {},
   "source": [
    "## 2.2 字符串的性质\n",
    "\n",
    "### 2.2.1 字符串的索引"
   ]
  },
  {
   "cell_type": "code",
   "execution_count": 40,
   "id": "525ca997",
   "metadata": {},
   "outputs": [],
   "source": [
    "s = \"My name is Peppa Pig\""
   ]
  },
  {
   "cell_type": "markdown",
   "id": "9885bd7b",
   "metadata": {},
   "source": [
    "**变量名[位置编号]**\n",
    "\n",
    "- 正向索引——从零开始递增\n",
    "- 位置编号不能超过字符串长度"
   ]
  },
  {
   "cell_type": "code",
   "execution_count": 60,
   "id": "db61767e",
   "metadata": {},
   "outputs": [
    {
     "name": "stdout",
     "output_type": "stream",
     "text": [
      "1\n",
      "3\n",
      "6\n"
     ]
    }
   ],
   "source": [
    "print(s[0])\n",
    "print(s[2])        # 空格\n",
    "print(s[5])"
   ]
  },
  {
   "cell_type": "markdown",
   "id": "61c03163",
   "metadata": {},
   "source": [
    "- 反向索引——从-1开始递减"
   ]
  },
  {
   "cell_type": "code",
   "execution_count": 42,
   "id": "47556195",
   "metadata": {},
   "outputs": [
    {
     "name": "stdout",
     "output_type": "stream",
     "text": [
      "g\n",
      "P\n",
      "a\n"
     ]
    }
   ],
   "source": [
    "print(s[-1])\n",
    "print(s[-3])\n",
    "print(s[-5])"
   ]
  },
  {
   "cell_type": "markdown",
   "id": "ac00b5e1",
   "metadata": {},
   "source": [
    "**索引只能获取一个字符，如何获得多个字符？**"
   ]
  },
  {
   "cell_type": "markdown",
   "id": "26a50f86",
   "metadata": {},
   "source": [
    "### 2.2.2 字符串的切片\n",
    "\n",
    "**变量名[开始位置:结束位置:切片间隔]**"
   ]
  },
  {
   "cell_type": "markdown",
   "id": "ef6e9996",
   "metadata": {},
   "source": [
    "- 切片间隔如不设置默认为1，可省略\n",
    "- 切片范围不包含结束位置"
   ]
  },
  {
   "cell_type": "code",
   "execution_count": 46,
   "id": "ba64a64d",
   "metadata": {},
   "outputs": [
    {
     "name": "stdout",
     "output_type": "stream",
     "text": [
      "Pyt\n"
     ]
    }
   ],
   "source": [
    "s = \"Python\"\n",
    "print(s[0:3:1])"
   ]
  },
  {
   "cell_type": "code",
   "execution_count": 47,
   "id": "2bcc5cb2",
   "metadata": {},
   "outputs": [
    {
     "name": "stdout",
     "output_type": "stream",
     "text": [
      "Pt\n"
     ]
    }
   ],
   "source": [
    "print(s[0:3:2])"
   ]
  },
  {
   "cell_type": "code",
   "execution_count": 48,
   "id": "4129f134",
   "metadata": {},
   "outputs": [
    {
     "name": "stdout",
     "output_type": "stream",
     "text": [
      "Pyt\n"
     ]
    }
   ],
   "source": [
    "print(s[0:3])"
   ]
  },
  {
   "cell_type": "markdown",
   "id": "80dfc5b5",
   "metadata": {},
   "source": [
    "- 起始位置是0可以省略\n",
    "- 结束位置可以省略，代表可以取到最后一个字符\n",
    "- 可以使用反向索引"
   ]
  },
  {
   "cell_type": "code",
   "execution_count": 49,
   "id": "39ee1a8b",
   "metadata": {},
   "outputs": [
    {
     "name": "stdout",
     "output_type": "stream",
     "text": [
      "Python\n"
     ]
    }
   ],
   "source": [
    "s = \"Python\"\n",
    "print(s[0:6])"
   ]
  },
  {
   "cell_type": "code",
   "execution_count": 50,
   "id": "618a3833",
   "metadata": {},
   "outputs": [
    {
     "name": "stdout",
     "output_type": "stream",
     "text": [
      "Python\n"
     ]
    }
   ],
   "source": [
    "print(s[:6])"
   ]
  },
  {
   "cell_type": "code",
   "execution_count": 51,
   "id": "2dae1feb",
   "metadata": {},
   "outputs": [
    {
     "name": "stdout",
     "output_type": "stream",
     "text": [
      "Python\n"
     ]
    }
   ],
   "source": [
    "print(s[:])"
   ]
  },
  {
   "cell_type": "code",
   "execution_count": 52,
   "id": "bca5bb89",
   "metadata": {},
   "outputs": [
    {
     "name": "stdout",
     "output_type": "stream",
     "text": [
      "Python\n"
     ]
    }
   ],
   "source": [
    "print(s[-6:])"
   ]
  },
  {
   "cell_type": "markdown",
   "id": "117fc064",
   "metadata": {},
   "source": [
    "**反向切片**\n",
    "\n",
    "- 起始位置是-1也可以省略\n",
    "- 结束位置省略，代表可以取到第一个字符"
   ]
  },
  {
   "cell_type": "code",
   "execution_count": 53,
   "id": "683a361a",
   "metadata": {},
   "outputs": [
    {
     "name": "stdout",
     "output_type": "stream",
     "text": [
      "\n"
     ]
    }
   ],
   "source": [
    "s = \"123456789\"\n",
    "print(s[-1:-10])"
   ]
  },
  {
   "cell_type": "code",
   "execution_count": 54,
   "id": "137047f8",
   "metadata": {},
   "outputs": [
    {
     "name": "stdout",
     "output_type": "stream",
     "text": [
      "987654321\n"
     ]
    }
   ],
   "source": [
    "print(s[-1:-10:-1])"
   ]
  },
  {
   "cell_type": "code",
   "execution_count": 55,
   "id": "9a102e29",
   "metadata": {},
   "outputs": [
    {
     "name": "stdout",
     "output_type": "stream",
     "text": [
      "987654321\n"
     ]
    }
   ],
   "source": [
    "print(s[:-10:-1])"
   ]
  },
  {
   "cell_type": "code",
   "execution_count": 56,
   "id": "6ce30ef2",
   "metadata": {},
   "outputs": [
    {
     "name": "stdout",
     "output_type": "stream",
     "text": [
      "987654321\n"
     ]
    }
   ],
   "source": [
    "print(s[::-1])"
   ]
  },
  {
   "cell_type": "markdown",
   "id": "5a283130",
   "metadata": {},
   "source": [
    "## 2.3 字符串操作符\n",
    "\n",
    "### 2.3.1 字符串的拼接\n",
    "\n",
    "- 字符串1+字符串2"
   ]
  },
  {
   "cell_type": "code",
   "execution_count": 57,
   "id": "b0f6d8e3",
   "metadata": {},
   "outputs": [
    {
     "data": {
      "text/plain": [
       "'I like Python'"
      ]
     },
     "execution_count": 57,
     "metadata": {},
     "output_type": "execute_result"
    }
   ],
   "source": [
    "a = \"I like \"\n",
    "b = \"Python\"\n",
    "a+b"
   ]
  },
  {
   "cell_type": "markdown",
   "id": "2596086b",
   "metadata": {},
   "source": [
    "### 字符串的成倍复制\n",
    "\n",
    "- 字符串\\*n   或者      n\\*字符串"
   ]
  },
  {
   "cell_type": "code",
   "execution_count": 59,
   "id": "f5e01dc8",
   "metadata": {},
   "outputs": [
    {
     "name": "stdout",
     "output_type": "stream",
     "text": [
      "I like PythonI like PythonI like Python\n",
      "I like PythonI like PythonI like Python\n"
     ]
    }
   ],
   "source": [
    "c = a+b\n",
    "print(c*3)\n",
    "print(3*c)"
   ]
  },
  {
   "cell_type": "markdown",
   "id": "134fcdcf",
   "metadata": {},
   "source": [
    "### 2.2.3 成员运算\n",
    "\n",
    "- **子集in全集**  任何一个连续的切片都是原字符串的子集 "
   ]
  },
  {
   "cell_type": "code",
   "execution_count": 2,
   "id": "a5affecc",
   "metadata": {},
   "outputs": [
    {
     "data": {
      "text/plain": [
       "True"
      ]
     },
     "execution_count": 2,
     "metadata": {},
     "output_type": "execute_result"
    }
   ],
   "source": [
    "folk_singers = \"Peter, Paul and Mary\"\n",
    "\"Peter\" in folk_singers"
   ]
  },
  {
   "cell_type": "code",
   "execution_count": 3,
   "id": "ecf69f7a",
   "metadata": {},
   "outputs": [
    {
     "data": {
      "text/plain": [
       "False"
      ]
     },
     "execution_count": 3,
     "metadata": {},
     "output_type": "execute_result"
    }
   ],
   "source": [
    "\"PPM\" in folk_singers"
   ]
  },
  {
   "cell_type": "markdown",
   "id": "e873a36a",
   "metadata": {},
   "source": [
    "* **遍历字符串字符** &ensp;  for 临时变量 in 字符串"
   ]
  },
  {
   "cell_type": "code",
   "execution_count": 4,
   "id": "64ef8b2a",
   "metadata": {},
   "outputs": [
    {
     "name": "stdout",
     "output_type": "stream",
     "text": [
      "P\n",
      "y\n",
      "t\n",
      "h\n",
      "o\n",
      "n\n"
     ]
    }
   ],
   "source": [
    "for i in \"Python\":\n",
    "    print(i)"
   ]
  },
  {
   "cell_type": "markdown",
   "id": "8895de1d",
   "metadata": {},
   "source": [
    "## 2.4 字符串处理函数 "
   ]
  },
  {
   "cell_type": "markdown",
   "id": "268d1e9e",
   "metadata": {},
   "source": [
    "### 2.4.1 字符串的长度\n",
    "\n",
    "- 所含字符的个数"
   ]
  },
  {
   "cell_type": "code",
   "execution_count": 5,
   "id": "e554958e",
   "metadata": {},
   "outputs": [
    {
     "data": {
      "text/plain": [
       "3"
      ]
     },
     "execution_count": 5,
     "metadata": {},
     "output_type": "execute_result"
    }
   ],
   "source": [
    "a = \"小码王\"\n",
    "len(a)"
   ]
  },
  {
   "cell_type": "markdown",
   "id": "429b3c45",
   "metadata": {},
   "source": [
    "### 2.4.2 字符编码"
   ]
  },
  {
   "cell_type": "markdown",
   "id": "7348c80a",
   "metadata": {},
   "source": [
    "**将中文字库、英文字母、数字、特殊字符转化成计算机可识别的二进制数**"
   ]
  },
  {
   "cell_type": "markdown",
   "id": "8c5a7ab0",
   "metadata": {},
   "source": [
    "- 每个单一字符对应一个唯一的互不重复的二进制编码\n",
    "- Python中使用的是Unicode编码"
   ]
  },
  {
   "cell_type": "markdown",
   "id": "80c2ea7a",
   "metadata": {},
   "source": [
    "**将字符转换成Unicode码**——ord(待转化的字符)，返回值是对应字符的Unicode编码"
   ]
  },
  {
   "cell_type": "code",
   "execution_count": 6,
   "id": "9be72a17",
   "metadata": {},
   "outputs": [
    {
     "name": "stdout",
     "output_type": "stream",
     "text": [
      "49\n",
      "50\n",
      "97\n",
      "20013\n",
      "22269\n"
     ]
    }
   ],
   "source": [
    "print(ord(\"1\"))\n",
    "print(ord(\"2\"))\n",
    "print(ord(\"a\"))\n",
    "print(ord(\"中\"))\n",
    "print(ord(\"国\"))"
   ]
  },
  {
   "cell_type": "markdown",
   "id": "9c7a243f",
   "metadata": {},
   "source": [
    "**将Unicode码转化为字符**——chr(Unicode码)"
   ]
  },
  {
   "cell_type": "code",
   "execution_count": 9,
   "id": "7fa31b8a",
   "metadata": {},
   "outputs": [
    {
     "name": "stdout",
     "output_type": "stream",
     "text": [
      "中\n",
      "ߐ\n",
      "✐\n",
      "害\n"
     ]
    }
   ],
   "source": [
    "print(chr(20013))\n",
    "print(chr(2000))\n",
    "print(chr(10000))\n",
    "print(chr(23475))"
   ]
  },
  {
   "cell_type": "markdown",
   "id": "c15e7ae6",
   "metadata": {},
   "source": [
    "## 2.5字符串的处理方法"
   ]
  },
  {
   "cell_type": "markdown",
   "id": "26f049d8",
   "metadata": {},
   "source": [
    "### 2.5.1 字符串的分割——字符串.split(分割符)\n",
    "\n",
    "- 返回一个列表\n",
    "- 原字符串不变"
   ]
  },
  {
   "cell_type": "markdown",
   "id": "bda01a1f",
   "metadata": {},
   "source": [
    "**上述特征适合以下所有字符串处理方法**"
   ]
  },
  {
   "cell_type": "code",
   "execution_count": 12,
   "id": "3002a712",
   "metadata": {},
   "outputs": [
    {
     "name": "stdout",
     "output_type": "stream",
     "text": [
      "涛涛 小码君 Python 潇博士\n",
      "['涛涛', '小码君', 'Python', '潇博士']\n"
     ]
    }
   ],
   "source": [
    "names = \"涛涛 小码君 Python 潇博士\"\n",
    "namesList = names.split(\" \")\n",
    "print(names)\n",
    "print(namesList)"
   ]
  },
  {
   "cell_type": "markdown",
   "id": "bbec6b86",
   "metadata": {},
   "source": [
    "### 2.5.2 字符串的连接——\"连接符\".join(序列类型)\n",
    "\n",
    "- 序列也称可迭代数据类型 如：字符串, 列表"
   ]
  },
  {
   "cell_type": "code",
   "execution_count": 14,
   "id": "d3141ae4",
   "metadata": {},
   "outputs": [
    {
     "data": {
      "text/plain": [
       "'1-2-3-4-5'"
      ]
     },
     "execution_count": 14,
     "metadata": {},
     "output_type": "execute_result"
    }
   ],
   "source": [
    "a = \"12345\"\n",
    "a_join = \"-\".join(a)\n",
    "a_join"
   ]
  },
  {
   "cell_type": "markdown",
   "id": "08e32644",
   "metadata": {},
   "source": [
    "- 序列类型的元素必须是字符类型"
   ]
  },
  {
   "cell_type": "code",
   "execution_count": 16,
   "id": "6e793ca6",
   "metadata": {},
   "outputs": [
    {
     "data": {
      "text/plain": [
       "'1*2*3*4*5'"
      ]
     },
     "execution_count": 16,
     "metadata": {},
     "output_type": "execute_result"
    }
   ],
   "source": [
    "#s = [1, 2, 3, 4, 5]\n",
    "s = [\"1\", \"2\", \"3\", \"4\", \"5\"]\n",
    "\"*\".join(s)"
   ]
  },
  {
   "cell_type": "markdown",
   "id": "02e9bd3e",
   "metadata": {},
   "source": [
    "### 2.5.3 删除两端特定字符——字符串.strip(删除字符)\n",
    "\n",
    "- strip从两侧开始搜索，遇到指定字符执行删除，遇到非指定字符，搜索停止\n",
    "- 类似的还有**左侧删除lstrip**和**右侧删除rstrip**"
   ]
  },
  {
   "cell_type": "code",
   "execution_count": 18,
   "id": "7028283e",
   "metadata": {},
   "outputs": [
    {
     "name": "stdout",
     "output_type": "stream",
     "text": [
      "Everything is struggle\n",
      "Everything is struggle           \n",
      "               Everything is struggle\n"
     ]
    }
   ],
   "source": [
    "a = \"               Everything is struggle           \"\n",
    "print(a.strip(\" \"))\n",
    "print(a.lstrip(\" \"))\n",
    "print(a.rstrip(\" \"))"
   ]
  },
  {
   "cell_type": "markdown",
   "id": "a7ff9fb4",
   "metadata": {},
   "source": [
    "### 2.5.4 字符串的替换——字符串.replace(\"被替换\",\"替换成\")\n",
    "\n",
    "- 本质上是根据原来的字符串创建了一个新的字符串"
   ]
  },
  {
   "cell_type": "code",
   "execution_count": 20,
   "id": "cd2ce09e",
   "metadata": {},
   "outputs": [
    {
     "name": "stdout",
     "output_type": "stream",
     "text": [
      "原来的 谁是Python达人\n",
      "replace后产生的 我是Python达人\n"
     ]
    }
   ],
   "source": [
    "s = \"谁是Python达人\"\n",
    "s1 = s.replace(\"谁\",\"我\")\n",
    "print(\"原来的\",s)\n",
    "print(\"replace后产生的\",s1)"
   ]
  },
  {
   "cell_type": "markdown",
   "id": "a445201e",
   "metadata": {},
   "source": [
    "### 2.5.5 字符串统计——字符串.count(\"待统计字符串\")"
   ]
  },
  {
   "cell_type": "code",
   "execution_count": 21,
   "id": "2f602d04",
   "metadata": {},
   "outputs": [
    {
     "name": "stdout",
     "output_type": "stream",
     "text": [
      "an: 2\n",
      "e: 4\n"
     ]
    }
   ],
   "source": [
    "a = \"Python is an excellent language\"\n",
    "print(\"an:\",a.count(\"an\"))\n",
    "print(\"e:\",a.count(\"e\"))"
   ]
  },
  {
   "cell_type": "markdown",
   "id": "0d0fb2fb",
   "metadata": {},
   "source": [
    "### 2.5.6 字符串字母大小写\n",
    "\n",
    "- 字符串.upper()字母全部大写"
   ]
  },
  {
   "cell_type": "code",
   "execution_count": 29,
   "id": "35e0c596",
   "metadata": {},
   "outputs": [
    {
     "data": {
      "text/plain": [
       "'PYTHON'"
      ]
     },
     "execution_count": 29,
     "metadata": {},
     "output_type": "execute_result"
    }
   ],
   "source": [
    "s = \"PyThon\"\n",
    "s.upper()"
   ]
  },
  {
   "cell_type": "markdown",
   "id": "235b4c56",
   "metadata": {},
   "source": [
    "- 字符串.lower()字母全部小写"
   ]
  },
  {
   "cell_type": "code",
   "execution_count": 27,
   "id": "b58099c2",
   "metadata": {},
   "outputs": [
    {
     "data": {
      "text/plain": [
       "'python'"
      ]
     },
     "execution_count": 27,
     "metadata": {},
     "output_type": "execute_result"
    }
   ],
   "source": [
    "s.lower()"
   ]
  },
  {
   "cell_type": "markdown",
   "id": "38e72980",
   "metadata": {},
   "source": [
    "- 字符串.title()首字母大写,其他变小写"
   ]
  },
  {
   "cell_type": "code",
   "execution_count": 33,
   "id": "ae1ec789",
   "metadata": {},
   "outputs": [
    {
     "data": {
      "text/plain": [
       "'Pythonn'"
      ]
     },
     "execution_count": 33,
     "metadata": {},
     "output_type": "execute_result"
    }
   ],
   "source": [
    "s = \"pyThON\"\n",
    "s.title()"
   ]
  },
  {
   "cell_type": "markdown",
   "id": "54f35eb8",
   "metadata": {},
   "source": [
    "# 第三部分 布尔类型  True  or  False"
   ]
  },
  {
   "cell_type": "markdown",
   "id": "537db6f1",
   "metadata": {},
   "source": [
    "## 3.1 逻辑运算的结果"
   ]
  },
  {
   "cell_type": "code",
   "execution_count": 1,
   "id": "12472049",
   "metadata": {},
   "outputs": [
    {
     "name": "stdout",
     "output_type": "stream",
     "text": [
      "True\n",
      "False\n",
      "False\n"
     ]
    }
   ],
   "source": [
    "a = 10\n",
    "print(a > 8)\n",
    "print(a == 8)\n",
    "print(a < 5)"
   ]
  },
  {
   "cell_type": "markdown",
   "id": "c16ea706",
   "metadata": {},
   "source": [
    "## 3.2 指示条件"
   ]
  },
  {
   "cell_type": "code",
   "execution_count": 5,
   "id": "1ac4f6f7",
   "metadata": {},
   "outputs": [
    {
     "name": "stdout",
     "output_type": "stream",
     "text": [
      "请输入一个正整数：28\n",
      "小了\n",
      "请输入一个正整数：3000\n",
      "大了\n",
      "请输入一个正整数：2800\n",
      "猜对了\n"
     ]
    }
   ],
   "source": [
    "n = 2800\n",
    "while True:\n",
    "    m = eval(input(\"请输入一个正整数：\"))\n",
    "    if m == n:\n",
    "        print(\"猜对了\")\n",
    "        break\n",
    "    elif m > n:\n",
    "        print(\"大了\")\n",
    "    else:\n",
    "        print(\"小了\")"
   ]
  },
  {
   "cell_type": "markdown",
   "id": "c3151518",
   "metadata": {},
   "source": [
    "## 3.2 作为掩码"
   ]
  },
  {
   "cell_type": "code",
   "execution_count": 6,
   "id": "12e1c7f5",
   "metadata": {},
   "outputs": [
    {
     "name": "stdout",
     "output_type": "stream",
     "text": [
      "[[False False False  True  True]]\n"
     ]
    },
    {
     "data": {
      "text/plain": [
       "array([5, 7])"
      ]
     },
     "execution_count": 6,
     "metadata": {},
     "output_type": "execute_result"
    }
   ],
   "source": [
    "import numpy as np\n",
    "x = np.array([[1, 3, 2, 5, 7]])     # 定义一个numpy数组\n",
    "print(x > 3)\n",
    "x[x > 3]"
   ]
  },
  {
   "cell_type": "markdown",
   "id": "07e1551c",
   "metadata": {},
   "source": [
    "# 第四部分 类型判别及类型转换"
   ]
  },
  {
   "cell_type": "markdown",
   "id": "58cd6ec4",
   "metadata": {},
   "source": [
    "## 4.1类型判别\n",
    "\n",
    "- type(待判别的数据)"
   ]
  },
  {
   "cell_type": "code",
   "execution_count": 7,
   "id": "25a42965",
   "metadata": {},
   "outputs": [
    {
     "name": "stdout",
     "output_type": "stream",
     "text": [
      "<class 'int'>\n",
      "<class 'str'>\n"
     ]
    }
   ],
   "source": [
    "age = 22\n",
    "name = \"涛涛\"\n",
    "print(type(age))\n",
    "print(type(name))"
   ]
  },
  {
   "cell_type": "markdown",
   "id": "0855dff7",
   "metadata": {},
   "source": [
    "- isinstance(变量，预判类型) **承认继承**\n",
    "- 变量类型是预判类型的子类型，则为真，否则为假"
   ]
  },
  {
   "cell_type": "code",
   "execution_count": 8,
   "id": "10954db1",
   "metadata": {},
   "outputs": [
    {
     "name": "stdout",
     "output_type": "stream",
     "text": [
      "True\n",
      "True\n",
      "True\n"
     ]
    }
   ],
   "source": [
    "print(isinstance(age, int))       # 承认继承\n",
    "print(isinstance(age, object))\n",
    "print(isinstance(name, object))    # object是老祖宗"
   ]
  },
  {
   "cell_type": "markdown",
   "id": "69d59760",
   "metadata": {},
   "source": [
    "- 字符串检查方法"
   ]
  },
  {
   "cell_type": "markdown",
   "id": "54810fdb",
   "metadata": {},
   "source": [
    "**字符串.isdigit()字符是否只有数字组成**"
   ]
  },
  {
   "cell_type": "markdown",
   "id": "92d34ad5",
   "metadata": {},
   "source": [
    "age = \"22\"\n",
    "name = \"涛涛\""
   ]
  },
  {
   "cell_type": "code",
   "execution_count": 10,
   "id": "1b1fb7ac",
   "metadata": {},
   "outputs": [
    {
     "data": {
      "text/plain": [
       "True"
      ]
     },
     "execution_count": 10,
     "metadata": {},
     "output_type": "execute_result"
    }
   ],
   "source": [
    "age.isdigit()"
   ]
  },
  {
   "cell_type": "code",
   "execution_count": 11,
   "id": "d6eb9425",
   "metadata": {},
   "outputs": [
    {
     "data": {
      "text/plain": [
       "False"
      ]
     },
     "execution_count": 11,
     "metadata": {},
     "output_type": "execute_result"
    }
   ],
   "source": [
    "name.isdigit()"
   ]
  },
  {
   "cell_type": "markdown",
   "id": "e48ba7d7",
   "metadata": {},
   "source": [
    "**字符串.isalpha()字符是否只有字幕组成**"
   ]
  },
  {
   "cell_type": "code",
   "execution_count": 12,
   "id": "f8130854",
   "metadata": {},
   "outputs": [
    {
     "data": {
      "text/plain": [
       "True"
      ]
     },
     "execution_count": 12,
     "metadata": {},
     "output_type": "execute_result"
    }
   ],
   "source": [
    "name.isalpha()"
   ]
  },
  {
   "cell_type": "code",
   "execution_count": 13,
   "id": "e68a8af3",
   "metadata": {},
   "outputs": [
    {
     "data": {
      "text/plain": [
       "False"
      ]
     },
     "execution_count": 13,
     "metadata": {},
     "output_type": "execute_result"
    }
   ],
   "source": [
    "age.isalpha()"
   ]
  },
  {
   "cell_type": "markdown",
   "id": "5fff6bb7",
   "metadata": {},
   "source": [
    "**字符串.isalnum()字符是否只有数字和字母组成**"
   ]
  },
  {
   "cell_type": "code",
   "execution_count": 15,
   "id": "ac828436",
   "metadata": {},
   "outputs": [
    {
     "data": {
      "text/plain": [
       "True"
      ]
     },
     "execution_count": 15,
     "metadata": {},
     "output_type": "execute_result"
    }
   ],
   "source": [
    "\"涛涛22\".isalnum()      # 比如用于判断用户名是否合法"
   ]
  },
  {
   "cell_type": "markdown",
   "id": "b196c3b3",
   "metadata": {},
   "source": [
    "## 4.2 类型转换\n",
    "\n",
    "- 数字类型转字符串    str(数字类型) "
   ]
  },
  {
   "cell_type": "code",
   "execution_count": 16,
   "id": "ba1ea236",
   "metadata": {},
   "outputs": [
    {
     "name": "stdout",
     "output_type": "stream",
     "text": [
      "My age is 22\n"
     ]
    }
   ],
   "source": [
    "age = 22\n",
    "print(\"My age is \" + str(age))"
   ]
  },
  {
   "cell_type": "markdown",
   "id": "40b52a35",
   "metadata": {},
   "source": [
    "- 仅有数字组成的字符串转数字  int()  float() eval()"
   ]
  },
  {
   "cell_type": "code",
   "execution_count": 17,
   "id": "3a9788b2",
   "metadata": {},
   "outputs": [],
   "source": [
    "s1 = \"20\"\n",
    "s2 = \"10.1\""
   ]
  },
  {
   "cell_type": "code",
   "execution_count": 18,
   "id": "06b2cfd9",
   "metadata": {},
   "outputs": [
    {
     "data": {
      "text/plain": [
       "20"
      ]
     },
     "execution_count": 18,
     "metadata": {},
     "output_type": "execute_result"
    }
   ],
   "source": [
    "int(s1)      # 仅整数"
   ]
  },
  {
   "cell_type": "code",
   "execution_count": 19,
   "id": "99b24e0c",
   "metadata": {},
   "outputs": [
    {
     "ename": "ValueError",
     "evalue": "invalid literal for int() with base 10: '10.1'",
     "output_type": "error",
     "traceback": [
      "\u001b[1;31m---------------------------------------------------------------------------\u001b[0m",
      "\u001b[1;31mValueError\u001b[0m                                Traceback (most recent call last)",
      "\u001b[1;32m<ipython-input-19-40e5c06a2e43>\u001b[0m in \u001b[0;36m<module>\u001b[1;34m\u001b[0m\n\u001b[1;32m----> 1\u001b[1;33m \u001b[0mint\u001b[0m\u001b[1;33m(\u001b[0m\u001b[0ms2\u001b[0m\u001b[1;33m)\u001b[0m\u001b[1;33m\u001b[0m\u001b[1;33m\u001b[0m\u001b[0m\n\u001b[0m",
      "\u001b[1;31mValueError\u001b[0m: invalid literal for int() with base 10: '10.1'"
     ]
    }
   ],
   "source": [
    "int(s2)"
   ]
  },
  {
   "cell_type": "code",
   "execution_count": 21,
   "id": "5b4e6a93",
   "metadata": {},
   "outputs": [
    {
     "data": {
      "text/plain": [
       "20.0"
      ]
     },
     "execution_count": 21,
     "metadata": {},
     "output_type": "execute_result"
    }
   ],
   "source": [
    "float(s1)"
   ]
  },
  {
   "cell_type": "code",
   "execution_count": 22,
   "id": "14c9e528",
   "metadata": {},
   "outputs": [
    {
     "data": {
      "text/plain": [
       "10.1"
      ]
     },
     "execution_count": 22,
     "metadata": {},
     "output_type": "execute_result"
    }
   ],
   "source": [
    "float(s2)"
   ]
  },
  {
   "cell_type": "code",
   "execution_count": 23,
   "id": "5bdcda75",
   "metadata": {},
   "outputs": [
    {
     "data": {
      "text/plain": [
       "20"
      ]
     },
     "execution_count": 23,
     "metadata": {},
     "output_type": "execute_result"
    }
   ],
   "source": [
    "eval(s1)"
   ]
  },
  {
   "cell_type": "code",
   "execution_count": 24,
   "id": "61df946d",
   "metadata": {},
   "outputs": [
    {
     "data": {
      "text/plain": [
       "10.1"
      ]
     },
     "execution_count": 24,
     "metadata": {},
     "output_type": "execute_result"
    }
   ],
   "source": [
    "eval(s2)"
   ]
  },
  {
   "cell_type": "code",
   "execution_count": null,
   "id": "89e17727",
   "metadata": {},
   "outputs": [],
   "source": []
  }
 ],
 "metadata": {
  "kernelspec": {
   "display_name": "Python 3",
   "language": "python",
   "name": "python3"
  },
  "language_info": {
   "codemirror_mode": {
    "name": "ipython",
    "version": 3
   },
   "file_extension": ".py",
   "mimetype": "text/x-python",
   "name": "python",
   "nbconvert_exporter": "python",
   "pygments_lexer": "ipython3",
   "version": "3.8.8"
  }
 },
 "nbformat": 4,
 "nbformat_minor": 5
}
