{
 "cells": [
  {
   "cell_type": "markdown",
   "id": "d8c22cfb",
   "metadata": {},
   "source": [
    "# 第五章 程序控制结构"
   ]
  },
  {
   "cell_type": "markdown",
   "id": "c10684ed",
   "metadata": {},
   "source": [
    "非顺序式的程序控制，往往需要根据一定的条件，决定程序运行的路线。因此，我们首先来认识一下什么叫条件测试。"
   ]
  },
  {
   "cell_type": "markdown",
   "id": "fc29f129",
   "metadata": {},
   "source": [
    "## 第一部分 条件测试"
   ]
  },
  {
   "cell_type": "markdown",
   "id": "827c972d",
   "metadata": {},
   "source": [
    "### 1. 比较运算"
   ]
  },
  {
   "cell_type": "code",
   "execution_count": 1,
   "id": "19471ed8",
   "metadata": {},
   "outputs": [
    {
     "name": "stdout",
     "output_type": "stream",
     "text": [
      "True\n",
      "True\n"
     ]
    }
   ],
   "source": [
    "a = 10\n",
    "b = 8\n",
    "print(a > b)      # 大于\n",
    "print(a < b)      # 小于\n",
    "print(a >= b)     # 大于等于\n",
    "print(a >= b)     # 小于等于\n",
    "print(a == b)     # 等于\n",
    "print(a != b)     # 不等于"
   ]
  },
  {
   "cell_type": "markdown",
   "id": "4907f013",
   "metadata": {},
   "source": [
    "- 非空"
   ]
  },
  {
   "cell_type": "code",
   "execution_count": 2,
   "id": "83765178",
   "metadata": {},
   "outputs": [
    {
     "name": "stdout",
     "output_type": "stream",
     "text": [
      "空的\n"
     ]
    }
   ],
   "source": [
    "ls = []\n",
    "if ls:         # 数据结构不为空、变量不为0、None、False则条件成立\n",
    "    print(\"非空\")\n",
    "else:\n",
    "    print(\"空的\")"
   ]
  },
  {
   "cell_type": "markdown",
   "id": "f07f31db",
   "metadata": {},
   "source": [
    "### 2. 逻辑运算"
   ]
  },
  {
   "cell_type": "markdown",
   "id": "a28bf39e",
   "metadata": {},
   "source": [
    "- 与、或、非"
   ]
  },
  {
   "cell_type": "code",
   "execution_count": 3,
   "id": "eb36702f",
   "metadata": {},
   "outputs": [
    {
     "data": {
      "text/plain": [
       "False"
      ]
     },
     "execution_count": 3,
     "metadata": {},
     "output_type": "execute_result"
    }
   ],
   "source": [
    "True and False      # 与"
   ]
  },
  {
   "cell_type": "code",
   "execution_count": 4,
   "id": "167c4c13",
   "metadata": {},
   "outputs": [
    {
     "data": {
      "text/plain": [
       "True"
      ]
     },
     "execution_count": 4,
     "metadata": {},
     "output_type": "execute_result"
    }
   ],
   "source": [
    "True or False       # 或 "
   ]
  },
  {
   "cell_type": "code",
   "execution_count": 5,
   "id": "33e298d7",
   "metadata": {},
   "outputs": [
    {
     "data": {
      "text/plain": [
       "True"
      ]
     },
     "execution_count": 5,
     "metadata": {},
     "output_type": "execute_result"
    }
   ],
   "source": [
    "not False           # 非"
   ]
  },
  {
   "cell_type": "markdown",
   "id": "a8322706",
   "metadata": {},
   "source": [
    "* 复合逻辑运算的优先级  \n",
    "非 > 与 > 或"
   ]
  },
  {
   "cell_type": "code",
   "execution_count": 1,
   "id": "52ea3128",
   "metadata": {},
   "outputs": [
    {
     "name": "stdout",
     "output_type": "stream",
     "text": [
      "True\n"
     ]
    }
   ],
   "source": [
    "print(True or True and False)"
   ]
  },
  {
   "cell_type": "code",
   "execution_count": 2,
   "id": "0a1d9ada",
   "metadata": {},
   "outputs": [
    {
     "name": "stdout",
     "output_type": "stream",
     "text": [
      "False\n"
     ]
    }
   ],
   "source": [
    "print((True or True) and False)"
   ]
  },
  {
   "cell_type": "markdown",
   "id": "d57147ed",
   "metadata": {},
   "source": [
    "### 3. 存在运算"
   ]
  },
  {
   "cell_type": "markdown",
   "id": "0b28e166",
   "metadata": {},
   "source": [
    "**元素 in 序列类型**"
   ]
  },
  {
   "cell_type": "code",
   "execution_count": 6,
   "id": "13e089ad",
   "metadata": {},
   "outputs": [],
   "source": [
    "temp = [\"A\",\"B\",\"C\",\"D\"]"
   ]
  },
  {
   "cell_type": "code",
   "execution_count": 7,
   "id": "9bb63e25",
   "metadata": {},
   "outputs": [
    {
     "data": {
      "text/plain": [
       "True"
      ]
     },
     "execution_count": 7,
     "metadata": {},
     "output_type": "execute_result"
    }
   ],
   "source": [
    "\"A\" in temp"
   ]
  },
  {
   "cell_type": "code",
   "execution_count": 8,
   "id": "c30241ea",
   "metadata": {},
   "outputs": [
    {
     "data": {
      "text/plain": [
       "False"
      ]
     },
     "execution_count": 8,
     "metadata": {},
     "output_type": "execute_result"
    }
   ],
   "source": [
    "\"E\" in temp"
   ]
  },
  {
   "cell_type": "markdown",
   "id": "8e235917",
   "metadata": {},
   "source": [
    "**元素 not in 序列类型**"
   ]
  },
  {
   "cell_type": "code",
   "execution_count": 9,
   "id": "dc943297",
   "metadata": {},
   "outputs": [
    {
     "data": {
      "text/plain": [
       "False"
      ]
     },
     "execution_count": 9,
     "metadata": {},
     "output_type": "execute_result"
    }
   ],
   "source": [
    "\"A\" not in temp"
   ]
  },
  {
   "cell_type": "code",
   "execution_count": 10,
   "id": "4955e8ba",
   "metadata": {},
   "outputs": [
    {
     "data": {
      "text/plain": [
       "True"
      ]
     },
     "execution_count": 10,
     "metadata": {},
     "output_type": "execute_result"
    }
   ],
   "source": [
    "\"E\" not in temp"
   ]
  },
  {
   "cell_type": "markdown",
   "id": "360150e5",
   "metadata": {},
   "source": [
    "## 第二部分 分支结构——if语句\n",
    "\n",
    "### 1. 单分支"
   ]
  },
  {
   "cell_type": "markdown",
   "id": "7e7b9cd7",
   "metadata": {},
   "source": [
    "**模板**\n",
    "\n",
    "if 条件：\n",
    "    \n",
    "    缩进的代码块"
   ]
  },
  {
   "cell_type": "code",
   "execution_count": 11,
   "id": "2fda5570",
   "metadata": {},
   "outputs": [
    {
     "name": "stdout",
     "output_type": "stream",
     "text": [
      "小兄弟，你该上学了\n"
     ]
    }
   ],
   "source": [
    "age = 8\n",
    "if age>7:\n",
    "    print(\"小兄弟，你该上学了\")"
   ]
  },
  {
   "cell_type": "markdown",
   "id": "9738d592",
   "metadata": {},
   "source": [
    "### 2. 双分支\n",
    "\n",
    "**模板**\n",
    "\n",
    "if 条件：\n",
    "    \n",
    "    缩进的代码块\n",
    "\n",
    "else:\n",
    "    \n",
    "    缩进的代码块"
   ]
  },
  {
   "cell_type": "code",
   "execution_count": 12,
   "id": "f83ba67f",
   "metadata": {},
   "outputs": [
    {
     "name": "stdout",
     "output_type": "stream",
     "text": [
      "再玩两年泥巴！\n"
     ]
    }
   ],
   "source": [
    "age = 6\n",
    "if age>7:\n",
    "    print(\"小兄弟，你该上学了\")\n",
    "else:\n",
    "    print(\"再玩两年泥巴！\")"
   ]
  },
  {
   "cell_type": "markdown",
   "id": "449782ba",
   "metadata": {},
   "source": [
    "### 3. 多分支"
   ]
  },
  {
   "cell_type": "markdown",
   "id": "3ef8151e",
   "metadata": {},
   "source": [
    "**模板**  \n",
    "    \n",
    "if 条件：  \n",
    "&emsp;&ensp;缩进的代码块  \n",
    "elif 条件：  \n",
    "&emsp;&ensp;缩进的代码块  \n",
    "elif 条件：  \n",
    "&emsp;&ensp;缩进的代码块  \n",
    "...  \n",
    "else：  \n",
    "&emsp;&ensp;缩进的代码块  "
   ]
  },
  {
   "cell_type": "code",
   "execution_count": 13,
   "id": "1d334696",
   "metadata": {},
   "outputs": [
    {
     "name": "stdout",
     "output_type": "stream",
     "text": [
      "辛苦了，各行各业的工作者们\n"
     ]
    }
   ],
   "source": [
    "age = 38\n",
    "if age < 7:\n",
    "    print(\"再玩两年泥巴！\")\n",
    "elif age < 13:\n",
    "    print(\"小兄弟，你该上小学了\")\n",
    "elif age < 16:\n",
    "    print(\"小兄弟，你该上初中了\")\n",
    "elif age < 19:\n",
    "    print(\"小兄弟，你该上高中了\")\n",
    "elif age < 23:\n",
    "    print(\"大学生活好\")\n",
    "elif age < 60:\n",
    "    print(\"辛苦了，各行各业的工作者们\")\n",
    "else:\n",
    "    print(\"享受退休生活吧\")"
   ]
  },
  {
   "cell_type": "markdown",
   "id": "9ebe2587",
   "metadata": {},
   "source": [
    "**不管多少分支，最后只会执行一个分支**"
   ]
  },
  {
   "cell_type": "markdown",
   "id": "a287b121",
   "metadata": {},
   "source": [
    "### 4. 嵌套语句\n",
    "\n",
    "**题目：年满18岁，在非公共场合可抽烟，判断某种情况下是否可以抽烟**"
   ]
  },
  {
   "cell_type": "code",
   "execution_count": 14,
   "id": "4cdf567a",
   "metadata": {},
   "outputs": [
    {
     "name": "stdout",
     "output_type": "stream",
     "text": [
      "请输入年龄18\n",
      "禁止抽烟\n"
     ]
    }
   ],
   "source": [
    "age = eval(input(\"请输入年龄：\"))\n",
    "if age > 18:\n",
    "    isPublicPlace = bool(eval(input(\"公共场合请输入1，非公共场合请输入0：\")))\n",
    "    if not isPublicPlace:\n",
    "        print(\"可以抽烟\")\n",
    "    else:\n",
    "        print(\"禁止抽烟\")\n",
    "else:\n",
    "    print(\"禁止抽烟\")"
   ]
  },
  {
   "cell_type": "markdown",
   "id": "203ea164",
   "metadata": {},
   "source": [
    "## 第三部分——for循环\n",
    "\n",
    "\n",
    "### 1.主要形式：\n",
    "\n",
    "* **for** 元素 **in** 可迭代对象：  \n",
    "&emsp;&emsp;执行语句"
   ]
  },
  {
   "cell_type": "markdown",
   "id": "a8fc72ce",
   "metadata": {},
   "source": [
    "### 2.执行过程：\n",
    "\n",
    "- 从可迭代对象中，依次取出每一个元素，并进行相应的操作"
   ]
  },
  {
   "cell_type": "markdown",
   "id": "b5592de9",
   "metadata": {},
   "source": [
    "1. 直接迭代——列表[]、元素()、集合{}、字符串\"\""
   ]
  },
  {
   "cell_type": "code",
   "execution_count": 16,
   "id": "0ad260c7",
   "metadata": {},
   "outputs": [
    {
     "name": "stdout",
     "output_type": "stream",
     "text": [
      "涛涛\n",
      "66\n",
      "安安\n",
      "鑫鑫\n"
     ]
    }
   ],
   "source": [
    "stus = (\"涛涛\",\"66\",\"安安\",\"鑫鑫\")\n",
    "for stu in stus:\n",
    "    print(stu)"
   ]
  },
  {
   "cell_type": "markdown",
   "id": "2e907fff",
   "metadata": {},
   "source": [
    "2. 变换迭代——字典"
   ]
  },
  {
   "cell_type": "code",
   "execution_count": 18,
   "id": "dd6aef81",
   "metadata": {},
   "outputs": [
    {
     "name": "stdout",
     "output_type": "stream",
     "text": [
      "202101 鑫鑫\n",
      "202103 安安\n",
      "202101\n",
      "202103\n"
     ]
    }
   ],
   "source": [
    "stus = {202101:\"66\", 202101:\"鑫鑫\", 202103:\"安安\"}\n",
    "for k, v in stus.items():\n",
    "    print(k, v)\n",
    "for stu in stus.keys():\n",
    "    print(stu)"
   ]
  },
  {
   "cell_type": "markdown",
   "id": "6544fa94",
   "metadata": {},
   "source": [
    "3. range()对象"
   ]
  },
  {
   "cell_type": "code",
   "execution_count": 22,
   "id": "ca5c6054",
   "metadata": {},
   "outputs": [
    {
     "name": "stdout",
     "output_type": "stream",
     "text": [
      "0\n",
      "1\n",
      "2\n",
      "3\n",
      "4\n"
     ]
    }
   ],
   "source": [
    "for i in range(5):\n",
    "    print(i)"
   ]
  },
  {
   "cell_type": "code",
   "execution_count": 21,
   "id": "70a676a8",
   "metadata": {},
   "outputs": [
    {
     "data": {
      "text/plain": [
       "[1, 3, 5, 7]"
      ]
     },
     "execution_count": 21,
     "metadata": {},
     "output_type": "execute_result"
    }
   ],
   "source": [
    "list(range(1,8,2))"
   ]
  },
  {
   "cell_type": "markdown",
   "id": "b77111bd",
   "metadata": {},
   "source": [
    "## 3.循环控制：break和continue\n",
    "\n",
    "- break结束整个循环"
   ]
  },
  {
   "cell_type": "code",
   "execution_count": 23,
   "id": "fa2dfc15",
   "metadata": {},
   "outputs": [
    {
     "name": "stdout",
     "output_type": "stream",
     "text": [
      "产品抽检不合格\n"
     ]
    }
   ],
   "source": [
    "product_scores = [89, 90, 70, 70, 67, 78, 85, 92]         # 一组产品的性能评分\n",
    "# 如果低于75分的产品超过2个，则该产品不合格\n",
    "i = 0\n",
    "for score in product_scores:\n",
    "    if score < 75:\n",
    "        i += 1\n",
    "    if i == 2:\n",
    "        print(\"产品抽检不合格\")\n",
    "        break"
   ]
  },
  {
   "cell_type": "markdown",
   "id": "2b269d26",
   "metadata": {},
   "source": [
    "- continue 结束本次循环"
   ]
  },
  {
   "cell_type": "code",
   "execution_count": 25,
   "id": "d0feba7a",
   "metadata": {},
   "outputs": [
    {
     "name": "stdout",
     "output_type": "stream",
     "text": [
      "第2个产品，分数为70,不合格\n",
      "第3个产品，分数为70,不合格\n",
      "第4个产品，分数为67,不合格\n"
     ]
    }
   ],
   "source": [
    "product_scores = [89, 90, 70, 70, 67, 78, 85, 92]         # 一组产品的性能评分\n",
    "# 如果低于75分，输出警示\n",
    "bad_products = []\n",
    "for i in range(len(product_scores)):\n",
    "    if product_scores[i] > 75:\n",
    "        continue\n",
    "    print(\"第{0}个产品，分数为{1},不合格\".format(i, product_scores[i]))"
   ]
  },
  {
   "cell_type": "markdown",
   "id": "c1da13fe",
   "metadata": {},
   "source": [
    "## 4.for与else的配合\n",
    "\n",
    "如果for循环全部执行完毕， 没有被break中止，则运行else块"
   ]
  },
  {
   "cell_type": "code",
   "execution_count": 28,
   "id": "90b51921",
   "metadata": {},
   "outputs": [
    {
     "name": "stdout",
     "output_type": "stream",
     "text": [
      "产品抽检合格\n"
     ]
    }
   ],
   "source": [
    "product_scores = [89, 90, 75, 76, 67, 78, 85, 92]         # 一组产品的性能评分\n",
    "#如果低于75分的超过2个，则该组产品不合格\n",
    "i = 0\n",
    "for score in product_scores:\n",
    "    if score < 75:\n",
    "        i += 1\n",
    "    if i == 2:\n",
    "        print(\"产品抽检不合格\")\n",
    "        break\n",
    "else:\n",
    "    print(\"产品抽检合格\")"
   ]
  },
  {
   "cell_type": "markdown",
   "id": "cfc207db",
   "metadata": {},
   "source": [
    "## 第四部分 无限循环——while循环\n",
    "\n",
    "### 1. 为什么要用while循环\n",
    "\n",
    "- 经典题目：猜数字"
   ]
  },
  {
   "cell_type": "code",
   "execution_count": 30,
   "id": "62c76700",
   "metadata": {},
   "outputs": [
    {
     "name": "stdout",
     "output_type": "stream",
     "text": [
      ">>:15\n",
      "小了\n",
      ">>:52\n",
      "大了\n"
     ]
    }
   ],
   "source": [
    "albert_age = 18\n",
    "#第1次\n",
    "guess = int(input(\">>:\"))\n",
    "if guess > albert_age :\n",
    "    print(\"猜的太大了，往小里试试...\")\n",
    "elif guess < albert_age :\n",
    "    print(\"猜的太小了，往大里试试...\")\n",
    "else:\n",
    "    print(\"恭喜你，猜对了...\")\n",
    "#第2次\n",
    "guess = int(input(\">>:\"))\n",
    "if guess > albert_age :\n",
    "    print(\"猜的太大了，往小里试试...\")\n",
    "elif guess < albert_age :\n",
    "    print(\"猜的太小了，往大里试试...\")\n",
    "else:\n",
    "    print(\"恭喜你，猜对了...\")"
   ]
  },
  {
   "cell_type": "markdown",
   "id": "754c1703",
   "metadata": {},
   "source": [
    "**代码可能需要重复执行，可是又不知道具体要执行多少次**"
   ]
  },
  {
   "cell_type": "markdown",
   "id": "fa5524a1",
   "metadata": {},
   "source": [
    "## 2. while循环的一般形式\n",
    "\n",
    "### 主要形式：\n",
    "\n",
    "- while 判断条件：\n",
    "\n",
    "        执行语句\n",
    "        \n",
    "**条件为真，执行语句**\n",
    "**条件为假，while循环结束**"
   ]
  },
  {
   "cell_type": "code",
   "execution_count": 5,
   "id": "20f5bff2",
   "metadata": {},
   "outputs": [
    {
     "name": "stdout",
     "output_type": "stream",
     "text": [
      ">>:15\n",
      "猜的太小了，往大里试试...\n",
      ">>:19\n",
      "猜的太大了，往小里试试...\n",
      ">>:18\n",
      "恭喜你，猜对了...\n"
     ]
    }
   ],
   "source": [
    "albert_age = 18 \n",
    "guess = int(input(\">>:\"))\n",
    "while guess != albert_age: \n",
    "    if guess > albert_age :\n",
    "        print(\"猜的太大了，往小里试试...\")\n",
    "    elif guess < albert_age :\n",
    "        print(\"猜的太小了，往大里试试...\")\n",
    "    guess = int(input(\">>:\"))\n",
    "print(\"恭喜你，猜对了...\")"
   ]
  },
  {
   "cell_type": "markdown",
   "id": "bc9e1911",
   "metadata": {},
   "source": [
    "### 3. while与风向标"
   ]
  },
  {
   "cell_type": "code",
   "execution_count": 4,
   "id": "900140bb",
   "metadata": {},
   "outputs": [
    {
     "name": "stdout",
     "output_type": "stream",
     "text": [
      ">>:15\n",
      "猜的太小了，往大里试试...\n",
      ">>:19\n",
      "猜的太大了，往小里试试...\n",
      ">>:18\n",
      "恭喜你，猜对了...\n"
     ]
    }
   ],
   "source": [
    "albert_age = 18 \n",
    "flag = True     # 布尔类型\n",
    "while flag:\n",
    "    guess = int(input(\">>:\"))\n",
    "    if guess > albert_age :\n",
    "        print(\"猜的太大了，往小里试试...\")\n",
    "    elif guess < albert_age :\n",
    "        print(\"猜的太小了，往大里试试...\")\n",
    "    else:\n",
    "        print(\"恭喜你，猜对了...\")\n",
    "        flag = False    # 当诉求得到满足，就让风向变一下"
   ]
  },
  {
   "cell_type": "code",
   "execution_count": null,
   "id": "9465cdb6",
   "metadata": {},
   "outputs": [],
   "source": [
    "flag=True  \n",
    "while flag:  \n",
    "    pass  \n",
    "    while flag:  \n",
    "        pass  \n",
    "        while flag:     \n",
    "            flag=False     # 循环逐层判断，当flag为false时，循环会逐层退出"
   ]
  },
  {
   "cell_type": "markdown",
   "id": "0462299a",
   "metadata": {},
   "source": [
    "### 4. while与循环控制break、continue"
   ]
  },
  {
   "cell_type": "code",
   "execution_count": 6,
   "id": "5792d5a1",
   "metadata": {},
   "outputs": [
    {
     "name": "stdout",
     "output_type": "stream",
     "text": [
      ">>:15\n",
      "猜的太小了，往大里试试...\n",
      ">>:19\n",
      "猜的太大了，往小里试试...\n",
      ">>:18\n",
      "恭喜你，猜对了...\n"
     ]
    }
   ],
   "source": [
    "albert_age = 18 \n",
    "while True:\n",
    "    guess = int(input(\">>:\"))\n",
    "    if guess > albert_age :\n",
    "        print(\"猜的太大了，往小里试试...\")\n",
    "    elif guess < albert_age :\n",
    "        print(\"猜的太小了，往大里试试...\")\n",
    "    else:\n",
    "        print(\"恭喜你，猜对了...\")\n",
    "        break    # 当诉求得到满足，就跳出循环"
   ]
  },
  {
   "cell_type": "markdown",
   "id": "3ba40d5f",
   "metadata": {},
   "source": [
    "输出10以内的奇数"
   ]
  },
  {
   "cell_type": "code",
   "execution_count": 38,
   "id": "6418eb92",
   "metadata": {},
   "outputs": [
    {
     "name": "stdout",
     "output_type": "stream",
     "text": [
      "1\n",
      "3\n",
      "5\n",
      "7\n",
      "9\n"
     ]
    }
   ],
   "source": [
    "i = 0 \n",
    "while i < 10:\n",
    "    i += 1\n",
    "    if i % 2 == 0:\n",
    "        continue        # 跳出本次循环，进入下一次循环\n",
    "    print(i)"
   ]
  },
  {
   "cell_type": "markdown",
   "id": "75d1719e",
   "metadata": {},
   "source": [
    "### 5. while与else"
   ]
  },
  {
   "cell_type": "markdown",
   "id": "23f79e39",
   "metadata": {},
   "source": [
    "如果while循环全部执行完毕，没有被break中止，则运行else块"
   ]
  },
  {
   "cell_type": "code",
   "execution_count": 39,
   "id": "ad43fcd9",
   "metadata": {},
   "outputs": [
    {
     "name": "stdout",
     "output_type": "stream",
     "text": [
      "Loop 1\n",
      "Loop 2\n",
      "Loop 3\n",
      "Loop 4\n",
      "Loop 5\n",
      "Loop 6\n",
      "循环正常执行完了\n"
     ]
    }
   ],
   "source": [
    "count = 0\n",
    "while count <= 5:\n",
    "    count += 1\n",
    "    print(\"Loop\",count)\n",
    "else:\n",
    "    print(\"循环正常执行完了\")"
   ]
  },
  {
   "cell_type": "markdown",
   "id": "8b9ea3d5",
   "metadata": {},
   "source": [
    "### 6.再看两个例子"
   ]
  },
  {
   "cell_type": "markdown",
   "id": "416001de",
   "metadata": {},
   "source": [
    "【小例子】删除列表中的特定值"
   ]
  },
  {
   "cell_type": "code",
   "execution_count": 40,
   "id": "4e37cf1b",
   "metadata": {},
   "outputs": [],
   "source": [
    "pets = [\"dog\",\"cat\",\"dog\",\"pig\",\"dog\",\"rabbit\",\"goldfish\"]"
   ]
  },
  {
   "cell_type": "code",
   "execution_count": 42,
   "id": "a8c5718d",
   "metadata": {},
   "outputs": [
    {
     "data": {
      "text/plain": [
       "['cat', 'pig', 'rabbit', 'goldfish']"
      ]
     },
     "execution_count": 42,
     "metadata": {},
     "output_type": "execute_result"
    }
   ],
   "source": [
    "while \"dog\" in pets:\n",
    "    pets.remove(\"dog\")\n",
    "pets"
   ]
  },
  {
   "cell_type": "markdown",
   "id": "b5af3c18",
   "metadata": {},
   "source": [
    "【小例子】将未读书籍列表中书名分别输出后，存入已读书籍列表"
   ]
  },
  {
   "cell_type": "code",
   "execution_count": 7,
   "id": "c0dfab10",
   "metadata": {},
   "outputs": [
    {
     "name": "stdout",
     "output_type": "stream",
     "text": [
      "我已经读过《西游记》了\n",
      "我已经读过《三国演义》了\n",
      "我已经读过《水浒传》了\n",
      "我已经读过《红楼梦》了\n",
      "[]\n",
      "['西游记', '三国演义', '水浒传', '红楼梦']\n"
     ]
    }
   ],
   "source": [
    "not_read = [\"红楼梦\", \"水浒传\", \"三国演义\", \"西游记\"]\n",
    "have_read = []\n",
    "while not_read:     # not_read非空，循环继续，否则中止\n",
    "    book = not_read.pop()\n",
    "    have_read.append(book)\n",
    "    print(\"我已经读过《{}》了\".format(book))\n",
    "print(not_read)\n",
    "print(have_read)"
   ]
  },
  {
   "cell_type": "markdown",
   "id": "f006c674",
   "metadata": {},
   "source": [
    "## 第五部分 控制语句注意问题\n",
    "\n",
    "### 1. 尽可能减少多层嵌套\n",
    "\n",
    "- 可读性差，容易把人搞疯"
   ]
  },
  {
   "cell_type": "code",
   "execution_count": null,
   "id": "afad962c",
   "metadata": {},
   "outputs": [],
   "source": [
    "if 条件:\n",
    "    执行语句\n",
    "    if 条件:\n",
    "        执行语句\n",
    "        if 条件:\n",
    "            ......"
   ]
  },
  {
   "cell_type": "markdown",
   "id": "79bb591b",
   "metadata": {},
   "source": [
    "### 2.  避免死循环\n",
    "\n",
    "条件一直成立，循环永无止境"
   ]
  },
  {
   "cell_type": "code",
   "execution_count": null,
   "id": "1df9911d",
   "metadata": {},
   "outputs": [],
   "source": [
    "while True:\n",
    "    print(\"lalalalalalalalalalalala\")"
   ]
  },
  {
   "cell_type": "markdown",
   "id": "44642bae",
   "metadata": {},
   "source": [
    "### 3. 封装过于复杂的判断条件"
   ]
  },
  {
   "cell_type": "markdown",
   "id": "9bdda031",
   "metadata": {},
   "source": [
    "如果条件判断里的表达式过于复杂"
   ]
  },
  {
   "cell_type": "markdown",
   "id": "d1471643",
   "metadata": {},
   "source": [
    "出现了太多的not/and/or等"
   ]
  },
  {
   "cell_type": "markdown",
   "id": "68c58f89",
   "metadata": {},
   "source": [
    "导致可读性大打折扣"
   ]
  },
  {
   "cell_type": "markdown",
   "id": "7108d524",
   "metadata": {},
   "source": [
    "**考虑将条件封装成函数**"
   ]
  },
  {
   "cell_type": "code",
   "execution_count": 8,
   "id": "bea9ac48",
   "metadata": {},
   "outputs": [
    {
     "name": "stdout",
     "output_type": "stream",
     "text": [
      "我已经晕鸟\n"
     ]
    }
   ],
   "source": [
    "a, b, c, d, e = 10, 8, 6, 2, 0\n",
    "if (a > b) and (c >d) and (not e):\n",
    "    print(\"我已经晕鸟\")"
   ]
  },
  {
   "cell_type": "code",
   "execution_count": 9,
   "id": "f88b17fa",
   "metadata": {},
   "outputs": [
    {
     "name": "stdout",
     "output_type": "stream",
     "text": [
      "就是这个feel，biu倍儿爽\n"
     ]
    }
   ],
   "source": [
    "numbers = (10, 8, 6, 2, 0)\n",
    "\n",
    "\n",
    "def judge(num):\n",
    "    a, b, c, d, e = num\n",
    "    x = a > b\n",
    "    y = c > d\n",
    "    z = not e\n",
    "    return x and y and z\n",
    "\n",
    "\n",
    "if judge(numbers):\n",
    "    print(\"就是这个feel，biu倍儿爽\")"
   ]
  },
  {
   "cell_type": "code",
   "execution_count": null,
   "id": "9dc7a8a0",
   "metadata": {},
   "outputs": [],
   "source": []
  }
 ],
 "metadata": {
  "kernelspec": {
   "display_name": "Python 3",
   "language": "python",
   "name": "python3"
  },
  "language_info": {
   "codemirror_mode": {
    "name": "ipython",
    "version": 3
   },
   "file_extension": ".py",
   "mimetype": "text/x-python",
   "name": "python",
   "nbconvert_exporter": "python",
   "pygments_lexer": "ipython3",
   "version": "3.8.8"
  }
 },
 "nbformat": 4,
 "nbformat_minor": 5
}
