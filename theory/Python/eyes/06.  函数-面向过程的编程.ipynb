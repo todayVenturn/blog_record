{
 "cells": [
  {
   "cell_type": "markdown",
   "metadata": {},
   "source": [
    "# 第六章 函数\n",
    "\n",
    "## 6.1 函数的定义及调用\n",
    "\n",
    "### 6.1.1 为什么要使用函数\n",
    "\n",
    "1. 提高代码复用性——抽象出来，封装为函数\n",
    "2. 将复杂的问题分解成一系列小问题，分而治之——模块化设计的思想\n",
    "3. 利于代码的维护和管理"
   ]
  },
  {
   "cell_type": "markdown",
   "metadata": {},
   "source": [
    "**顺序式**"
   ]
  },
  {
   "cell_type": "code",
   "execution_count": 1,
   "metadata": {},
   "outputs": [
    {
     "name": "stdout",
     "output_type": "stream",
     "text": [
      "120\n",
      "2432902008176640000\n"
     ]
    }
   ],
   "source": [
    "# 5的阶乘\n",
    "n = 5\n",
    "res = 1\n",
    "for i in range(1,n+1):\n",
    "    res *= i\n",
    "print(res)\n",
    "\n",
    "# 20的阶乘\n",
    "n = 20\n",
    "res = 1\n",
    "for i in range(1,n+1):\n",
    "    res *= i\n",
    "print(res)"
   ]
  },
  {
   "cell_type": "markdown",
   "metadata": {},
   "source": [
    "**抽象成函数**"
   ]
  },
  {
   "cell_type": "code",
   "execution_count": 2,
   "metadata": {},
   "outputs": [
    {
     "name": "stdout",
     "output_type": "stream",
     "text": [
      "120\n",
      "2432902008176640000\n"
     ]
    }
   ],
   "source": [
    "def factoria(n):\n",
    "    res = 1\n",
    "    for i in range(1,n+1):\n",
    "        res *= i\n",
    "    return res\n",
    "\n",
    "print(factoria(5))\n",
    "print(factoria(20))"
   ]
  },
  {
   "cell_type": "markdown",
   "metadata": {},
   "source": [
    "### 6.1.2 函数的定义及调用\n",
    "\n",
    "#### 白箱子：输入——处理——输出\n",
    "#### 三要素：参数、函数体、返回值\n",
    "\n",
    "**1. 定义**"
   ]
  },
  {
   "cell_type": "markdown",
   "metadata": {},
   "source": [
    "def&nbsp; 函数名（参数）：\n",
    "  \n",
    "&emsp;  函数体  \n",
    "  \n",
    "&emsp;  return 返回值\n"
   ]
  },
  {
   "cell_type": "code",
   "execution_count": 5,
   "metadata": {},
   "outputs": [],
   "source": [
    "# 求正方形的面积\n",
    "def area_of_square(length_of_side):\n",
    "    square_area = pow(length_of_side, 2)\n",
    "    return square_area"
   ]
  },
  {
   "cell_type": "markdown",
   "metadata": {},
   "source": [
    "**2. 调用**\n",
    "\n",
    "函数名(参数)"
   ]
  },
  {
   "cell_type": "code",
   "execution_count": 7,
   "metadata": {},
   "outputs": [
    {
     "data": {
      "text/plain": [
       "25"
      ]
     },
     "execution_count": 7,
     "metadata": {},
     "output_type": "execute_result"
    }
   ],
   "source": [
    "area = area_of_square(5)\n",
    "area"
   ]
  },
  {
   "cell_type": "markdown",
   "metadata": {},
   "source": [
    "### 6.1.3参数传递\n",
    "\n",
    "**1. 形参与实参**\n",
    "\n",
    "- 形参（形式参数）：函数**定义时**的参数，实际上就是变量名\n",
    "\n",
    "\n",
    "- 实参（实际参数）：函数**调用时**的参数，实际上就是变量的值"
   ]
  },
  {
   "cell_type": "markdown",
   "metadata": {},
   "source": [
    "**2.位置参数**\n",
    "\n",
    "- 严格按照位置顺序，用实参对形参进行赋值（关联）\n",
    "\n",
    "- 一般用再参数比较少的时候"
   ]
  },
  {
   "cell_type": "code",
   "execution_count": 8,
   "metadata": {},
   "outputs": [
    {
     "name": "stdout",
     "output_type": "stream",
     "text": [
      "1 2 3\n"
     ]
    }
   ],
   "source": [
    "def function(x, y, z):\n",
    "    print(x, y, z)\n",
    "    \n",
    "function(1, 2, 3)         # x = 1;y = 2; z = 3"
   ]
  },
  {
   "cell_type": "markdown",
   "metadata": {},
   "source": [
    "- 实参和形参个数必须一一对应，一个不能多，一个不能少"
   ]
  },
  {
   "cell_type": "code",
   "execution_count": null,
   "metadata": {},
   "outputs": [],
   "source": [
    "function(1, 2)      # 报错\n",
    "function(1, 2, 3)   # 正常"
   ]
  },
  {
   "cell_type": "markdown",
   "metadata": {},
   "source": [
    "**3.关键字参数**\n",
    "\n",
    "- 打破位置限制，直呼其名的进行值得传递（形参=实参）\n",
    "\n",
    "\n",
    "- 必须遵守实参与形参数量上——对应\n",
    "\n",
    "\n",
    "- 多用在参数比较多的场合"
   ]
  },
  {
   "cell_type": "code",
   "execution_count": 10,
   "metadata": {},
   "outputs": [
    {
     "name": "stdout",
     "output_type": "stream",
     "text": [
      "2 1 3\n"
     ]
    }
   ],
   "source": [
    "def function(x, y, z):\n",
    "    print(x, y, z)\n",
    "    \n",
    "function(y = 1, x = 2, z = 3)         # x = 2;y = 1; z = 3"
   ]
  },
  {
   "cell_type": "markdown",
   "metadata": {},
   "source": [
    "- 位置参数可以与关键字参数混合使用\n",
    "\n",
    "\n",
    "- 但是，位置参数必须放在关键字参数的前面"
   ]
  },
  {
   "cell_type": "code",
   "execution_count": 11,
   "metadata": {},
   "outputs": [
    {
     "name": "stdout",
     "output_type": "stream",
     "text": [
      "1 3 2\n"
     ]
    }
   ],
   "source": [
    "function(1, z = 2, y = 3)"
   ]
  },
  {
   "cell_type": "code",
   "execution_count": 12,
   "metadata": {},
   "outputs": [
    {
     "name": "stdout",
     "output_type": "stream",
     "text": [
      "1 2 3\n"
     ]
    }
   ],
   "source": [
    "function(1, 2, z = 3)"
   ]
  },
  {
   "cell_type": "markdown",
   "metadata": {},
   "source": [
    "- 不能为同一个形参重复传值"
   ]
  },
  {
   "cell_type": "code",
   "execution_count": 15,
   "metadata": {},
   "outputs": [
    {
     "ename": "TypeError",
     "evalue": "function() got multiple values for argument 'x'",
     "output_type": "error",
     "traceback": [
      "\u001b[1;31m---------------------------------------------------------------------------\u001b[0m",
      "\u001b[1;31mTypeError\u001b[0m                                 Traceback (most recent call last)",
      "\u001b[1;32m<ipython-input-15-b61289893f51>\u001b[0m in \u001b[0;36m<module>\u001b[1;34m\u001b[0m\n\u001b[0;32m      2\u001b[0m     \u001b[0mprint\u001b[0m\u001b[1;33m(\u001b[0m\u001b[0mx\u001b[0m\u001b[1;33m,\u001b[0m \u001b[0my\u001b[0m\u001b[1;33m,\u001b[0m \u001b[0mz\u001b[0m\u001b[1;33m)\u001b[0m\u001b[1;33m\u001b[0m\u001b[1;33m\u001b[0m\u001b[0m\n\u001b[0;32m      3\u001b[0m \u001b[1;33m\u001b[0m\u001b[0m\n\u001b[1;32m----> 4\u001b[1;33m \u001b[0mfunction\u001b[0m\u001b[1;33m(\u001b[0m\u001b[1;36m1\u001b[0m\u001b[1;33m,\u001b[0m \u001b[0mz\u001b[0m \u001b[1;33m=\u001b[0m \u001b[1;36m2\u001b[0m\u001b[1;33m,\u001b[0m \u001b[0mx\u001b[0m \u001b[1;33m=\u001b[0m \u001b[1;36m3\u001b[0m\u001b[1;33m)\u001b[0m\u001b[1;33m\u001b[0m\u001b[1;33m\u001b[0m\u001b[0m\n\u001b[0m",
      "\u001b[1;31mTypeError\u001b[0m: function() got multiple values for argument 'x'"
     ]
    }
   ],
   "source": [
    "def function(x, y, z):\n",
    "    print(x, y, z)\n",
    "    \n",
    "function(1, z = 2, x = 3)  "
   ]
  },
  {
   "cell_type": "markdown",
   "metadata": {},
   "source": [
    "**4. 默认参数**\n",
    "\n",
    "- 在定义阶段就给新形参赋值——该形参的常用值\n",
    "\n",
    "\n",
    "- 机器学习库中类的方法里非常常见\n",
    "\n",
    "\n",
    "- **调用函数时，可以不对该形参传值**"
   ]
  },
  {
   "cell_type": "markdown",
   "metadata": {},
   "source": [
    "* **默认参数必须放在非默认参数后面**"
   ]
  },
  {
   "cell_type": "code",
   "execution_count": 1,
   "metadata": {},
   "outputs": [
    {
     "name": "stdout",
     "output_type": "stream",
     "text": [
      "涛涛 22 male\n"
     ]
    }
   ],
   "source": [
    "def register(name, age, sex = \"male\"):\n",
    "    print(name, age, sex)\n",
    "    \n",
    "register(\"涛涛\", 22)"
   ]
  },
  {
   "cell_type": "markdown",
   "metadata": {},
   "source": [
    "- 也可以按正常的形参进行传值"
   ]
  },
  {
   "cell_type": "code",
   "execution_count": 18,
   "metadata": {},
   "outputs": [
    {
     "name": "stdout",
     "output_type": "stream",
     "text": [
      "66老师 24 female\n"
     ]
    }
   ],
   "source": [
    "register(\"66老师\", 24, \"female\")"
   ]
  },
  {
   "cell_type": "markdown",
   "metadata": {},
   "source": [
    "- 默认参数应该设置为不可变类型（数字、字符串、元祖）"
   ]
  },
  {
   "cell_type": "markdown",
   "metadata": {},
   "source": [
    "- 位置形参必须在默认形参的前面"
   ]
  },
  {
   "cell_type": "code",
   "execution_count": 23,
   "metadata": {},
   "outputs": [
    {
     "ename": "SyntaxError",
     "evalue": "non-default argument follows default argument (<ipython-input-23-3a80360590e1>, line 1)",
     "output_type": "error",
     "traceback": [
      "\u001b[1;36m  File \u001b[1;32m\"<ipython-input-23-3a80360590e1>\"\u001b[1;36m, line \u001b[1;32m1\u001b[0m\n\u001b[1;33m    def register(sex = \"male\", name, age):\u001b[0m\n\u001b[1;37m                 ^\u001b[0m\n\u001b[1;31mSyntaxError\u001b[0m\u001b[1;31m:\u001b[0m non-default argument follows default argument\n"
     ]
    }
   ],
   "source": [
    "def register(sex = \"male\", name, age):\n",
    "    print(name, age, sex)\n",
    "    \n",
    "register(\"female\", \"66老师\", 24)"
   ]
  },
  {
   "cell_type": "markdown",
   "metadata": {},
   "source": [
    "* **让参数变成可选的**"
   ]
  },
  {
   "cell_type": "code",
   "execution_count": 2,
   "metadata": {},
   "outputs": [
    {
     "name": "stdout",
     "output_type": "stream",
     "text": [
      "涛涛\n",
      "段涛锦\n"
     ]
    }
   ],
   "source": [
    "def name(first_name, last_name, middle_name=None):\n",
    "    if middle_name:\n",
    "        return first_name+middle_name+last_name\n",
    "    else:\n",
    "        return first_name+last_name\n",
    "    \n",
    "    \n",
    "print(name(\"涛\",\"涛\"))\n",
    "print(name(\"段\", \"锦\", \"涛\"))"
   ]
  },
  {
   "cell_type": "markdown",
   "metadata": {},
   "source": [
    "**5. 可变长参数 *args**"
   ]
  },
  {
   "cell_type": "markdown",
   "metadata": {},
   "source": [
    "- 不知道会传过来多少参数\n",
    "\n",
    "\n",
    "- 该形参必须放在参数列表的最后"
   ]
  },
  {
   "cell_type": "code",
   "execution_count": 1,
   "metadata": {},
   "outputs": [
    {
     "name": "stdout",
     "output_type": "stream",
     "text": [
      "1 2 3\n",
      "(4, 5, 6)\n"
     ]
    }
   ],
   "source": [
    "def foo(x, y, z, *args):\n",
    "    print(x, y, z)\n",
    "    print(args)\n",
    "    \n",
    "foo(1, 2, 3, 4, 5, 6)      # 多余的参数，打包传递给args"
   ]
  },
  {
   "cell_type": "markdown",
   "metadata": {},
   "source": [
    "- 实参打散"
   ]
  },
  {
   "cell_type": "code",
   "execution_count": 3,
   "metadata": {},
   "outputs": [
    {
     "name": "stdout",
     "output_type": "stream",
     "text": [
      "1 2 3\n",
      "([4, 5, 6],)\n"
     ]
    }
   ],
   "source": [
    "def foo(x, y, z, *args):\n",
    "    print(x, y, z)\n",
    "    print(args)\n",
    "    \n",
    "foo(1, 2, 3, [4,5,6])"
   ]
  },
  {
   "cell_type": "code",
   "execution_count": 4,
   "metadata": {},
   "outputs": [
    {
     "name": "stdout",
     "output_type": "stream",
     "text": [
      "1 2 3\n",
      "(4, 5, 6)\n"
     ]
    }
   ],
   "source": [
    "foo(1, 2, 3, *[4,5,6])    # 打散列表、字符串、元素或者集合，变成一个个元素"
   ]
  },
  {
   "cell_type": "markdown",
   "metadata": {},
   "source": [
    "**6. 可变长参数 **kwargs**"
   ]
  },
  {
   "cell_type": "code",
   "execution_count": 5,
   "metadata": {},
   "outputs": [
    {
     "name": "stdout",
     "output_type": "stream",
     "text": [
      "1 2 3\n",
      "{'a': 4, 'b': 5, 'c': 6}\n"
     ]
    }
   ],
   "source": [
    "def foo(x, y, z, **kwargs):\n",
    "    print(x, y, z)\n",
    "    print(kwargs)\n",
    "    \n",
    "foo(1, 2, 3, a=4, b=5, c=6)     # 多余的参数，以字典的形式打包传递给kwargs"
   ]
  },
  {
   "cell_type": "markdown",
   "metadata": {},
   "source": [
    "- 字典实参打散"
   ]
  },
  {
   "cell_type": "code",
   "execution_count": 7,
   "metadata": {},
   "outputs": [
    {
     "name": "stdout",
     "output_type": "stream",
     "text": [
      "1 2 3\n",
      "{'a': 4, 'b': 5, 'c': 6}\n"
     ]
    }
   ],
   "source": [
    "def foo(x, y, z, **kwargs):\n",
    "    print(x, y, z)\n",
    "    print(kwargs)\n",
    "    \n",
    "foo(1, 2, 3, **{\"a\":4, \"b\":5, \"c\":6})"
   ]
  },
  {
   "cell_type": "markdown",
   "metadata": {},
   "source": [
    "- **可变长参数的组合使用**"
   ]
  },
  {
   "cell_type": "code",
   "execution_count": 8,
   "metadata": {},
   "outputs": [
    {
     "name": "stdout",
     "output_type": "stream",
     "text": [
      "(1, 2, 3)\n",
      "{'a': 4, 'b': 5, 'c': 6}\n"
     ]
    }
   ],
   "source": [
    "def foo(*args, **kwargs):\n",
    "    print(args)\n",
    "    print(kwargs)\n",
    "    \n",
    "foo(1, 2, 3, a=4, b=5, c=6)"
   ]
  },
  {
   "cell_type": "markdown",
   "metadata": {},
   "source": [
    "### 6.1.4 函数体与变量作用域\n",
    "\n",
    "- 函数体就是一段只在函数被调用时，才会执行的代码，代码构成与其他代码并无不同\n",
    "\n",
    "\n",
    "\n",
    "- **局部变量**——仅在函数体内定义和发挥作用"
   ]
  },
  {
   "cell_type": "code",
   "execution_count": 9,
   "metadata": {},
   "outputs": [
    {
     "ename": "NameError",
     "evalue": "name 'z' is not defined",
     "output_type": "error",
     "traceback": [
      "\u001b[1;31m---------------------------------------------------------------------------\u001b[0m",
      "\u001b[1;31mNameError\u001b[0m                                 Traceback (most recent call last)",
      "\u001b[1;32m<ipython-input-9-13b11f495ba3>\u001b[0m in \u001b[0;36m<module>\u001b[1;34m\u001b[0m\n\u001b[0;32m      4\u001b[0m \u001b[1;33m\u001b[0m\u001b[0m\n\u001b[0;32m      5\u001b[0m \u001b[0mmul\u001b[0m\u001b[1;33m(\u001b[0m\u001b[1;36m2\u001b[0m\u001b[1;33m,\u001b[0m \u001b[1;36m9\u001b[0m\u001b[1;33m)\u001b[0m\u001b[1;33m\u001b[0m\u001b[1;33m\u001b[0m\u001b[0m\n\u001b[1;32m----> 6\u001b[1;33m \u001b[0mprint\u001b[0m\u001b[1;33m(\u001b[0m\u001b[0mz\u001b[0m\u001b[1;33m)\u001b[0m               \u001b[1;31m# 函数执行完毕，局部变量z已经被释放掉了\u001b[0m\u001b[1;33m\u001b[0m\u001b[1;33m\u001b[0m\u001b[0m\n\u001b[0m",
      "\u001b[1;31mNameError\u001b[0m: name 'z' is not defined"
     ]
    }
   ],
   "source": [
    "def mul(x, y):\n",
    "    z = x*y\n",
    "    return z\n",
    "\n",
    "mul(2, 9)\n",
    "print(z)               # 函数执行完毕，局部变量z已经被释放掉了"
   ]
  },
  {
   "cell_type": "markdown",
   "metadata": {},
   "source": [
    "- **全局变量**——外部定义的都是全局变量\n",
    "\n",
    "\n",
    "- 全局变量可以在函数体内直接被使用"
   ]
  },
  {
   "cell_type": "code",
   "execution_count": 10,
   "metadata": {},
   "outputs": [
    {
     "name": "stdout",
     "output_type": "stream",
     "text": [
      "54\n"
     ]
    },
    {
     "data": {
      "text/plain": [
       "[0, 54]"
      ]
     },
     "execution_count": 10,
     "metadata": {},
     "output_type": "execute_result"
    }
   ],
   "source": [
    "n = 3\n",
    "ls = [0]\n",
    "\n",
    "def mul(x, y):\n",
    "    global z\n",
    "    z = n*x*y\n",
    "    ls.append(z)\n",
    "    return z\n",
    "\n",
    "print(mul(2, 9))\n",
    "ls"
   ]
  },
  {
   "cell_type": "markdown",
   "metadata": {},
   "source": [
    "- 通过global 在函数体内定义全局变量"
   ]
  },
  {
   "cell_type": "code",
   "execution_count": 13,
   "metadata": {},
   "outputs": [
    {
     "name": "stdout",
     "output_type": "stream",
     "text": [
      "18\n"
     ]
    }
   ],
   "source": [
    "def mul(x, y):\n",
    "    global z\n",
    "    z = x*y\n",
    "    return z\n",
    "\n",
    "mul(2, 9)\n",
    "print(z)               "
   ]
  },
  {
   "cell_type": "markdown",
   "metadata": {},
   "source": [
    "### 6.1.5 返回值\n",
    "\n",
    "**1. 单个返回值**"
   ]
  },
  {
   "cell_type": "code",
   "execution_count": 14,
   "metadata": {},
   "outputs": [],
   "source": [
    "def foo(x):\n",
    "    return x**2"
   ]
  },
  {
   "cell_type": "markdown",
   "metadata": {},
   "source": [
    "**2. 多个返回值**——以元组的形式"
   ]
  },
  {
   "cell_type": "code",
   "execution_count": 15,
   "metadata": {},
   "outputs": [
    {
     "name": "stdout",
     "output_type": "stream",
     "text": [
      "(1, 3, 9, 27)\n",
      "1\n",
      "3\n",
      "9\n",
      "27\n"
     ]
    }
   ],
   "source": [
    "def foo(x):\n",
    "    return 1, x, x**2, x**3        # 逗号分开，打包返回\n",
    "\n",
    "print(foo(3))\n",
    "a, b, c, d = foo(3)       # 解包赋值\n",
    "print(a)\n",
    "print(b)\n",
    "print(c)\n",
    "print(d)"
   ]
  },
  {
   "cell_type": "markdown",
   "metadata": {},
   "source": [
    "**3. 可以有多个return语句，一旦其中一个执行，代表了函数运行的结束**"
   ]
  },
  {
   "cell_type": "code",
   "execution_count": 16,
   "metadata": {},
   "outputs": [
    {
     "name": "stdout",
     "output_type": "stream",
     "text": [
      "Is holiday\n",
      "Not holiday\n"
     ]
    }
   ],
   "source": [
    "def is_holiday(day):\n",
    "    if day in [\"Sunday\",\"Saturday\"]:\n",
    "        return \"Is holiday\"\n",
    "    else:\n",
    "        return \"Not holiday\"\n",
    "    print(\"根本没机会运行的代码\")\n",
    "    \n",
    "print(is_holiday(\"Sunday\"))\n",
    "print(is_holiday(\"Monday\"))"
   ]
  },
  {
   "cell_type": "markdown",
   "metadata": {},
   "source": [
    "**4. 没有return语句，返回值为None**"
   ]
  },
  {
   "cell_type": "code",
   "execution_count": 17,
   "metadata": {},
   "outputs": [
    {
     "name": "stdout",
     "output_type": "stream",
     "text": [
      "没有return语句\n",
      "None\n"
     ]
    }
   ],
   "source": [
    "def foo():\n",
    "    print(\"没有return语句\")\n",
    "    \n",
    "res = foo()\n",
    "print(res)"
   ]
  },
  {
   "cell_type": "markdown",
   "metadata": {},
   "source": [
    "### 6.1.6 几点建议\n",
    "\n",
    "\n",
    "**1. 函数及其参数的命名参照变量命名**\n",
    "\n",
    "- 字母小写及下划线组合\n",
    "\n",
    "\n",
    "- 有实际意义\n",
    "\n",
    "\n",
    "**2. 应包含简要阐述函数功能的注释，注释紧跟函数定义后面**"
   ]
  },
  {
   "cell_type": "code",
   "execution_count": 18,
   "metadata": {},
   "outputs": [],
   "source": [
    "def foo():\n",
    "    # 这个函数的作用是：巴拉巴拉巴拉巴拉\n",
    "    pass"
   ]
  },
  {
   "cell_type": "markdown",
   "metadata": {},
   "source": [
    "**3. 函数定义前后各空两行**"
   ]
  },
  {
   "cell_type": "code",
   "execution_count": null,
   "metadata": {},
   "outputs": [],
   "source": [
    "def f1():\n",
    "    pass\n",
    "\n",
    "\n",
    "def f2():\n",
    "    pass\n",
    "\n",
    "\n",
    "def f3():\n",
    "    pass"
   ]
  },
  {
   "cell_type": "markdown",
   "metadata": {},
   "source": [
    "## 6.2 函数式编程实例"
   ]
  },
  {
   "cell_type": "markdown",
   "metadata": {},
   "source": [
    "**模块化编程思想**"
   ]
  },
  {
   "cell_type": "markdown",
   "metadata": {},
   "source": [
    "- 自顶向下、分而治之"
   ]
  },
  {
   "cell_type": "markdown",
   "metadata": {},
   "source": [
    "**【问题描述】**\n",
    "\n",
    "- 小丹和小伟羽毛球打得不错，但是水平小丹略胜一筹，基本上，打100个球，小丹能赢55次，小伟能赢45次\n",
    "\n",
    "\n",
    "- 但是每次大型比赛（1局定胜负，谁先赢得21分，谁就获胜），小丹赢的概率远远大于小伟，小伟很不服气\n",
    "\n",
    "\n",
    "- 你能通过模拟实验，来揭示其中的奥妙吗？\n"
   ]
  },
  {
   "cell_type": "markdown",
   "metadata": {},
   "source": [
    "**【问题抽象】**\n",
    "\n",
    "1. 在小丹VS小伟的二元比赛系统中，小丹每球获胜概率55%，小伟每球获胜概率45%\n",
    "\n",
    "\n",
    "2. 每局比赛，先赢21球（获得21分）着获胜\n",
    "\n",
    "\n",
    "3. 假设进行n = 1000场独立的比赛，小丹会获胜多少场？（n较大的 时候，实验结果≈真实期望）"
   ]
  },
  {
   "cell_type": "markdown",
   "metadata": {},
   "source": [
    "**【问题分解】**"
   ]
  },
  {
   "cell_type": "code",
   "execution_count": 19,
   "metadata": {},
   "outputs": [],
   "source": [
    "def main():\n",
    "    # 主要逻辑\n",
    "    pro_A, pro_B, num_of_games = get_input()                  # 获取原始数据\n",
    "    win_A, win_B = sim_n_games(pro_A, pro_B, num_of_games)    # 获取模拟结果\n",
    "    print_summary(win_A, win_B, num_of_games)                 # 结果汇总输出"
   ]
  },
  {
   "cell_type": "markdown",
   "metadata": {},
   "source": [
    "**1. 输入原始数据**"
   ]
  },
  {
   "cell_type": "code",
   "execution_count": 21,
   "metadata": {},
   "outputs": [],
   "source": [
    "def get_input():\n",
    "    # 输入原始数据\n",
    "    pro_A = eval(input(\"请输入运动员A的每球获胜概率（0~1）:\"))\n",
    "    pro_B = round(1-pro_A, 2)\n",
    "    num_of_games = eval(input(\"请输入模拟的场次（正整数）:\"))\n",
    "    print(\"模拟比赛总次数：\",num_of_games)\n",
    "    print(\"A 选手每球获胜的概率：\",pro_A)\n",
    "    print(\"B 选手每球获胜的概率：\",pro_B)\n",
    "    return pro_A, pro_B,num_of_games"
   ]
  },
  {
   "cell_type": "markdown",
   "metadata": {},
   "source": [
    "**单元测试**"
   ]
  },
  {
   "cell_type": "code",
   "execution_count": 22,
   "metadata": {},
   "outputs": [
    {
     "name": "stdout",
     "output_type": "stream",
     "text": [
      "请输入运动员A的每球获胜概率（0~1）:0.55\n",
      "请输入模拟的场次（正整数）:100\n",
      "模拟比赛总次数： 100\n",
      "A 选手每球获胜的概率： 0.55\n",
      "B 选手每球获胜的概率： 0.45\n"
     ]
    }
   ],
   "source": [
    "pro_A, pro_B, num_of_games = get_input()"
   ]
  },
  {
   "cell_type": "markdown",
   "metadata": {},
   "source": [
    "**2. 多场比赛模拟**"
   ]
  },
  {
   "cell_type": "code",
   "execution_count": 23,
   "metadata": {},
   "outputs": [],
   "source": [
    "def sim_n_games(pro_A, pro_B, num_of_games):\n",
    "    # 模拟多场比赛的结果\n",
    "    win_A, win_B = 0, 0                # 初始化A， B获胜的场次\n",
    "    for i in range(num_of_games):     # 迭代num_of_games次\n",
    "        score_A, score_B = sim_one_game(pro_A, pro_B)\n",
    "        if score_A > score_B:\n",
    "            win_A += 1\n",
    "        else:\n",
    "            win_B += 1\n",
    "    return win_A, win_B"
   ]
  },
  {
   "cell_type": "code",
   "execution_count": 24,
   "metadata": {},
   "outputs": [],
   "source": [
    "import random\n",
    "def sim_one_game(pro_A, pro_B):\n",
    "    # 模拟一场比赛的结果\n",
    "    score_A, score_B = 0, 0\n",
    "    while not game_over(score_A, score_B):\n",
    "        if random.random() < pro_A:        # random.random()生成（0,1）之间的随机小数，均匀分布\n",
    "            score_A += 1\n",
    "        else:\n",
    "            score_B += 1\n",
    "    return score_A, score_B\n"
   ]
  },
  {
   "cell_type": "code",
   "execution_count": 25,
   "metadata": {},
   "outputs": [],
   "source": [
    "def game_over(score_A, score_B):\n",
    "    # 单场模拟结束条件，一方先达到21分，比赛结束\n",
    "    return score_A == 21 or score_B == 21"
   ]
  },
  {
   "cell_type": "markdown",
   "metadata": {},
   "source": [
    "**单元测试 用assert——断言进行**\n",
    "\n",
    "- assert expression\n",
    "\n",
    "\n",
    "- 表达式结果为False的时候触发异常"
   ]
  },
  {
   "cell_type": "code",
   "execution_count": 30,
   "metadata": {},
   "outputs": [],
   "source": [
    "assert game_over(21, 8) == True \n",
    "assert game_over(9, 21) == True \n",
    "assert game_over(11, 8) == False"
   ]
  },
  {
   "cell_type": "code",
   "execution_count": 28,
   "metadata": {},
   "outputs": [
    {
     "name": "stdout",
     "output_type": "stream",
     "text": [
      "(18, 21)\n",
      "(21, 9)\n",
      "(5, 21)\n"
     ]
    }
   ],
   "source": [
    "print(sim_one_game(0.55, 0.45))\n",
    "print(sim_one_game(0.7, 0.3))\n",
    "print(sim_one_game(0.2, 0.8))"
   ]
  },
  {
   "cell_type": "code",
   "execution_count": 29,
   "metadata": {},
   "outputs": [
    {
     "name": "stdout",
     "output_type": "stream",
     "text": [
      "(741, 259)\n"
     ]
    }
   ],
   "source": [
    "print(sim_n_games(0.55, 0.45, 1000))"
   ]
  },
  {
   "cell_type": "markdown",
   "metadata": {},
   "source": [
    "**3. 结果汇总输出**"
   ]
  },
  {
   "cell_type": "code",
   "execution_count": 31,
   "metadata": {},
   "outputs": [],
   "source": [
    "def print_summary(win_A, win_B, num_of_games):\n",
    "    # 结果汇总输出\n",
    "    print(\"共模拟了{}场比赛\".format(num_of_games))\n",
    "    print(\"选手A获胜{0}场，占比{1:.1%}\".format(win_A, win_A/num_of_games))\n",
    "    print(\"选手B获胜{0}场，占比{1:.1%}\".format(win_B, win_B/num_of_games))"
   ]
  },
  {
   "cell_type": "code",
   "execution_count": 32,
   "metadata": {},
   "outputs": [
    {
     "name": "stdout",
     "output_type": "stream",
     "text": [
      "共模拟了1000场比赛\n",
      "选手A获胜741场，占比74.1%\n",
      "选手B获胜259场，占比25.9%\n"
     ]
    }
   ],
   "source": [
    "print_summary(741, 259, 1000)"
   ]
  },
  {
   "cell_type": "code",
   "execution_count": 3,
   "metadata": {},
   "outputs": [
    {
     "name": "stdout",
     "output_type": "stream",
     "text": [
      "请输入运动员A的每球获胜概率（0~1）:0.52\n",
      "请输入模拟的场次（正整数）:10000\n",
      "模拟比赛总次数： 10000\n",
      "A 选手每球获胜的概率： 0.52\n",
      "B 选手每球获胜的概率： 0.48\n",
      "共模拟了10000场比赛\n",
      "\u001b[31m选手A获胜5997场，占比60.0%\n",
      "选手B获胜4003场，占比40.0%\n"
     ]
    }
   ],
   "source": [
    "import random\n",
    "\n",
    "\n",
    "def get_input():\n",
    "    # 输入原始数据\n",
    "    pro_A = eval(input(\"请输入运动员A的每球获胜概率（0~1）:\"))\n",
    "    pro_B = round(1-pro_A, 2)\n",
    "    num_of_games = eval(input(\"请输入模拟的场次（正整数）:\"))\n",
    "    print(\"模拟比赛总次数：\",num_of_games)\n",
    "    print(\"A 选手每球获胜的概率：\",pro_A)\n",
    "    print(\"B 选手每球获胜的概率：\",pro_B)\n",
    "    return pro_A, pro_B,num_of_games\n",
    "\n",
    "\n",
    "def game_over(score_A, score_B):\n",
    "    # 单场模拟结束条件，一方先达到21分，比赛结束\n",
    "    return score_A == 21 or score_B == 21\n",
    "\n",
    "\n",
    "def sim_one_game(pro_A, pro_B):\n",
    "    # 模拟一场比赛的结果\n",
    "    score_A, score_B = 0, 0\n",
    "    while not game_over(score_A, score_B):\n",
    "        if random.random() < pro_A:        # random.random()生成（0,1）之间的随机小数，均匀分布\n",
    "            score_A += 1\n",
    "        else:\n",
    "            score_B += 1\n",
    "    return score_A, score_B\n",
    "\n",
    "\n",
    "def sim_n_games(pro_A, pro_B, num_of_games):\n",
    "    # 模拟多场比赛的结果\n",
    "    win_A, win_B = 0, 0                # 初始化A， B获胜的场次\n",
    "    for i in range(num_of_games):     # 迭代num_of_games次\n",
    "        score_A, score_B = sim_one_game(pro_A, pro_B)\n",
    "        if score_A > score_B:\n",
    "            win_A += 1\n",
    "        else:\n",
    "            win_B += 1\n",
    "    return win_A, win_B\n",
    "\n",
    "\n",
    "def print_summary(win_A, win_B, num_of_games):\n",
    "    # 结果汇总输出\n",
    "    print(\"共模拟了{}场比赛\".format(num_of_games))\n",
    "    print(\"\\033[31m选手A获胜{0}场，占比{1:.1%}\".format(win_A, win_A/num_of_games))\n",
    "    print(\"选手B获胜{0}场，占比{1:.1%}\".format(win_B, win_B/num_of_games))\n",
    "    \n",
    "    \n",
    "def main():\n",
    "    # 主要逻辑\n",
    "    pro_A, pro_B, num_of_games = get_input()                  # 获取原始数据\n",
    "    win_A, win_B = sim_n_games(pro_A, pro_B, num_of_games)    # 获取模拟结果\n",
    "    print_summary(win_A, win_B, num_of_games)                 # 结果汇总输出\n",
    "    \n",
    "    \n",
    "if __name__ == \"__main__\":\n",
    "    main()"
   ]
  },
  {
   "cell_type": "markdown",
   "metadata": {},
   "source": [
    "经统计，小丹跟小伟14年职业生涯，共交手40次，小丹以28:12遥遥领先。\n",
    "\n",
    "\n",
    "其中两人共交战整整100局：\n",
    "\n",
    "小丹获胜61局，占比61%；\n",
    "\n",
    "小伟获胜39局，占比39%。"
   ]
  },
  {
   "cell_type": "markdown",
   "metadata": {},
   "source": [
    "## 你以为你跟别人的差距只是一点点，实际上，非常大"
   ]
  },
  {
   "cell_type": "markdown",
   "metadata": {},
   "source": [
    "## 6.3 匿名函数\n",
    "\n",
    "**1. 基本形式**"
   ]
  },
  {
   "cell_type": "markdown",
   "metadata": {},
   "source": [
    "lambda 变量: 函数体"
   ]
  },
  {
   "cell_type": "markdown",
   "metadata": {},
   "source": [
    "**2. 常见用法**"
   ]
  },
  {
   "cell_type": "markdown",
   "metadata": {},
   "source": [
    "在参数列表中最适合使用匿名函数，尤其是与key = 搭配"
   ]
  },
  {
   "cell_type": "markdown",
   "metadata": {},
   "source": [
    "- 排序sort()      sorted()"
   ]
  },
  {
   "cell_type": "code",
   "execution_count": 42,
   "metadata": {},
   "outputs": [
    {
     "data": {
      "text/plain": [
       "[(60, 45), (93, 88), (97, 95), (99, 91), (100, 59)]"
      ]
     },
     "execution_count": 42,
     "metadata": {},
     "output_type": "execute_result"
    }
   ],
   "source": [
    "ls = [(93, 88),(97, 95),(100, 59),(60, 45),(99,91)]\n",
    "ls.sort()\n",
    "ls"
   ]
  },
  {
   "cell_type": "code",
   "execution_count": 43,
   "metadata": {},
   "outputs": [
    {
     "data": {
      "text/plain": [
       "[(60, 45), (100, 59), (93, 88), (99, 91), (97, 95)]"
      ]
     },
     "execution_count": 43,
     "metadata": {},
     "output_type": "execute_result"
    }
   ],
   "source": [
    "ls.sort(key = lambda x:x[1])\n",
    "ls"
   ]
  },
  {
   "cell_type": "code",
   "execution_count": 44,
   "metadata": {},
   "outputs": [
    {
     "data": {
      "text/plain": [
       "[(6, 4), (5, 5), (2, 7), (3, 8), (9, 10)]"
      ]
     },
     "execution_count": 44,
     "metadata": {},
     "output_type": "execute_result"
    }
   ],
   "source": [
    "ls = [(3, 8),(9, 10),(2, 7),(5, 5),(6, 4)]\n",
    "temp = sorted(ls, key = lambda x:x[1])\n",
    "temp"
   ]
  },
  {
   "cell_type": "markdown",
   "metadata": {},
   "source": [
    "- max() min()"
   ]
  },
  {
   "cell_type": "code",
   "execution_count": 45,
   "metadata": {},
   "outputs": [
    {
     "data": {
      "text/plain": [
       "(9, 10)"
      ]
     },
     "execution_count": 45,
     "metadata": {},
     "output_type": "execute_result"
    }
   ],
   "source": [
    "n = max(ls, key = lambda x:x[1])\n",
    "n"
   ]
  },
  {
   "cell_type": "code",
   "execution_count": 47,
   "metadata": {},
   "outputs": [
    {
     "data": {
      "text/plain": [
       "(6, 4)"
      ]
     },
     "execution_count": 47,
     "metadata": {},
     "output_type": "execute_result"
    }
   ],
   "source": [
    "n = min(ls, key = lambda x:x[1])\n",
    "n"
   ]
  },
  {
   "cell_type": "markdown",
   "metadata": {},
   "source": [
    "## 6.4 面向过程和面向对象\n",
    "\n",
    "\n",
    "**面向过程**——以过程为中心的编程思想，以“什么正在发生”为目标进行编辑。\n",
    "\n",
    "\n",
    "**面向对象**——将现实世界的事物抽象成对象，更关注“谁在受影响”，更贴近现实\n",
    "\n",
    "\n",
    "- **以公共汽车为例**\n"
   ]
  },
  {
   "cell_type": "markdown",
   "metadata": {},
   "source": [
    "**“面向过程”**：汽车启动是一个事件，汽车到站是另一个事件。。。。\n",
    "\n",
    "\n",
    "在编写程序的时候我们关心的是某一个事件，而不是汽车本身。\n",
    "\n",
    "\n",
    "我们分别对启动和到站编写程序"
   ]
  },
  {
   "cell_type": "markdown",
   "metadata": {},
   "source": [
    "**“面向对象”**：构造“汽车”这个对象。\n",
    "\n",
    "对象包含动力、运营时间、生产厂家等等一系列的“属性”\n",
    "\n",
    "也包含加油、启动、加速、刹车、拐弯等一系列的“方法”\n",
    "\n",
    "通过对象的行为表达相关的事件"
   ]
  },
  {
   "cell_type": "code",
   "execution_count": null,
   "metadata": {},
   "outputs": [],
   "source": []
  }
 ],
 "metadata": {
  "kernelspec": {
   "display_name": "Python 3",
   "language": "python",
   "name": "python3"
  },
  "language_info": {
   "codemirror_mode": {
    "name": "ipython",
    "version": 3
   },
   "file_extension": ".py",
   "mimetype": "text/x-python",
   "name": "python",
   "nbconvert_exporter": "python",
   "pygments_lexer": "ipython3",
   "version": "3.8.8"
  }
 },
 "nbformat": 4,
 "nbformat_minor": 4
}
