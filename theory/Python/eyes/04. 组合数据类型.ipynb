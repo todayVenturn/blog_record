{
 "cells": [
  {
   "cell_type": "markdown",
   "id": "fdc14feb",
   "metadata": {},
   "source": [
    "# 4.1 列表"
   ]
  },
  {
   "cell_type": "markdown",
   "id": "e6625d7f",
   "metadata": {},
   "source": [
    "## 4.1.1 列表的表达"
   ]
  },
  {
   "cell_type": "markdown",
   "id": "67dc1802",
   "metadata": {},
   "source": [
    "- 序列类型：内部元素有位置关系，能通过位置序号访问其中元素\n",
    "- 列表是一个可以使用多种类型元素，支持元素的增、删、查、改操作的序列类型"
   ]
  },
  {
   "cell_type": "code",
   "execution_count": 2,
   "id": "8eebb8a1",
   "metadata": {},
   "outputs": [
    {
     "data": {
      "text/plain": [
       "['Python', 7788, True, [1, 2, 3], {202101: '小码君'}]"
      ]
     },
     "execution_count": 2,
     "metadata": {},
     "output_type": "execute_result"
    }
   ],
   "source": [
    "ls = [\"Python\",7788,True,[1,2,3],{202101:\"小码君\"}]\n",
    "ls"
   ]
  },
  {
   "cell_type": "markdown",
   "id": "ec66ef19",
   "metadata": {},
   "source": [
    "- 另一种产生方式：list(可迭代对象)\n",
    "- 可迭代对象包括：字符串、元组、集合、range()等"
   ]
  },
  {
   "cell_type": "markdown",
   "id": "ff340f0c",
   "metadata": {},
   "source": [
    "**字符串转列表**"
   ]
  },
  {
   "cell_type": "code",
   "execution_count": 3,
   "id": "be71c450",
   "metadata": {},
   "outputs": [
    {
     "data": {
      "text/plain": [
       "['人', '工', '智', '能', '是', '未', '来', '的', '趋', '势']"
      ]
     },
     "execution_count": 3,
     "metadata": {},
     "output_type": "execute_result"
    }
   ],
   "source": [
    "list(\"人工智能是未来的趋势\")"
   ]
  },
  {
   "cell_type": "markdown",
   "id": "c4f97c7b",
   "metadata": {},
   "source": [
    "**元组转列表**"
   ]
  },
  {
   "cell_type": "code",
   "execution_count": 4,
   "id": "b05d396d",
   "metadata": {},
   "outputs": [
    {
     "data": {
      "text/plain": [
       "['我', '们', '是', '冠', '军']"
      ]
     },
     "execution_count": 4,
     "metadata": {},
     "output_type": "execute_result"
    }
   ],
   "source": [
    "list((\"我\",\"们\",\"是\",\"冠\",\"军\"))"
   ]
  },
  {
   "cell_type": "markdown",
   "id": "dbad381b",
   "metadata": {},
   "source": [
    "**集合转列表**"
   ]
  },
  {
   "cell_type": "code",
   "execution_count": 5,
   "id": "904eb8c5",
   "metadata": {},
   "outputs": [
    {
     "data": {
      "text/plain": [
       "[('水杯', '桌子', '台灯', '电脑')]"
      ]
     },
     "execution_count": 5,
     "metadata": {},
     "output_type": "execute_result"
    }
   ],
   "source": [
    "list({(\"水杯\",\"桌子\",\"台灯\",\"电脑\")})"
   ]
  },
  {
   "cell_type": "markdown",
   "id": "1a9e4c1a",
   "metadata": {},
   "source": [
    "**特殊的range()**"
   ]
  },
  {
   "cell_type": "code",
   "execution_count": 6,
   "id": "a409fa67",
   "metadata": {},
   "outputs": [
    {
     "name": "stdout",
     "output_type": "stream",
     "text": [
      "0\n",
      "1\n",
      "2\n",
      "3\n",
      "4\n"
     ]
    }
   ],
   "source": [
    "for i in [0, 1, 2, 3, 4]:\n",
    "    print(i)"
   ]
  },
  {
   "cell_type": "code",
   "execution_count": 8,
   "id": "287861f8",
   "metadata": {},
   "outputs": [
    {
     "name": "stdout",
     "output_type": "stream",
     "text": [
      "0\n",
      "1\n",
      "2\n",
      "3\n",
      "4\n"
     ]
    }
   ],
   "source": [
    "for i in range(5):\n",
    "    print(i)"
   ]
  },
  {
   "cell_type": "markdown",
   "id": "1a97a5c5",
   "metadata": {},
   "source": [
    "* range(起始数字,中止数字，数字间隔)"
   ]
  },
  {
   "cell_type": "markdown",
   "id": "4111b3ff",
   "metadata": {},
   "source": [
    "**1. 如果起始数字缺省，默认为0**\n",
    "\n",
    "**2. 不包含中止数字**\n",
    "\n",
    "**3. 数字间隔缺省，默认为1**"
   ]
  },
  {
   "cell_type": "code",
   "execution_count": 9,
   "id": "374a550f",
   "metadata": {},
   "outputs": [
    {
     "name": "stdout",
     "output_type": "stream",
     "text": [
      "1\n",
      "3\n",
      "5\n",
      "7\n",
      "9\n"
     ]
    }
   ],
   "source": [
    "for i in range(1, 11, 2):\n",
    "    print(i)"
   ]
  },
  {
   "cell_type": "markdown",
   "id": "d2435b26",
   "metadata": {},
   "source": [
    "* range()转列表"
   ]
  },
  {
   "cell_type": "code",
   "execution_count": 10,
   "id": "ae0909b2",
   "metadata": {},
   "outputs": [
    {
     "data": {
      "text/plain": [
       "[1, 3, 5, 7, 9]"
      ]
     },
     "execution_count": 10,
     "metadata": {},
     "output_type": "execute_result"
    }
   ],
   "source": [
    "list(range(1, 11, 2))"
   ]
  },
  {
   "cell_type": "markdown",
   "id": "45d31bf8",
   "metadata": {},
   "source": [
    "## 4.1.2 列表的性质"
   ]
  },
  {
   "cell_type": "markdown",
   "id": "3b3031db",
   "metadata": {},
   "source": [
    "- 列表的长度——len(列表)"
   ]
  },
  {
   "cell_type": "code",
   "execution_count": 12,
   "id": "74e188c3",
   "metadata": {},
   "outputs": [
    {
     "data": {
      "text/plain": [
       "4"
      ]
     },
     "execution_count": 12,
     "metadata": {},
     "output_type": "execute_result"
    }
   ],
   "source": [
    "ls = [1, 2, 3, 4]\n",
    "len(ls)"
   ]
  },
  {
   "cell_type": "markdown",
   "id": "7d8b5970",
   "metadata": {},
   "source": [
    "- 列表的索引——**同为序列类型的字符串完全相同**"
   ]
  },
  {
   "cell_type": "markdown",
   "id": "21d5ba4a",
   "metadata": {},
   "source": [
    "**变量名[位置编号]**"
   ]
  },
  {
   "cell_type": "markdown",
   "id": "686a1a27",
   "metadata": {},
   "source": [
    "正向索引从0开始  \n",
    "反向索引从-1开始"
   ]
  },
  {
   "cell_type": "code",
   "execution_count": 13,
   "id": "75ade053",
   "metadata": {},
   "outputs": [],
   "source": [
    "cars = [\"BYD\",\"BMW\",\"AUDI\",\"TOYOTA\"]"
   ]
  },
  {
   "cell_type": "code",
   "execution_count": 14,
   "id": "411f10e6",
   "metadata": {},
   "outputs": [
    {
     "name": "stdout",
     "output_type": "stream",
     "text": [
      "BYD\n",
      "TOYOTA\n"
     ]
    }
   ],
   "source": [
    "print(cars[0])\n",
    "print(cars[-1])"
   ]
  },
  {
   "cell_type": "markdown",
   "id": "6ba9f04f",
   "metadata": {},
   "source": [
    "- 列表切片"
   ]
  },
  {
   "cell_type": "markdown",
   "id": "bc998cf6",
   "metadata": {},
   "source": [
    "**变量名[开始位置:中止位置:切片间隔]**"
   ]
  },
  {
   "cell_type": "code",
   "execution_count": 15,
   "id": "162c473e",
   "metadata": {},
   "outputs": [],
   "source": [
    "cars = [\"BYD\",\"BMW\",\"AUDI\",\"TOYOTA\"]"
   ]
  },
  {
   "cell_type": "markdown",
   "id": "d78c70af",
   "metadata": {},
   "source": [
    "- 正向切片"
   ]
  },
  {
   "cell_type": "code",
   "execution_count": 16,
   "id": "f8a6d394",
   "metadata": {},
   "outputs": [
    {
     "name": "stdout",
     "output_type": "stream",
     "text": [
      "['BMW', 'AUDI']\n"
     ]
    }
   ],
   "source": [
    "print(cars[1:3])      # 切片间隔缺省默认为1"
   ]
  },
  {
   "cell_type": "code",
   "execution_count": 17,
   "id": "0f235b64",
   "metadata": {},
   "outputs": [
    {
     "name": "stdout",
     "output_type": "stream",
     "text": [
      "['BYD', 'BMW', 'AUDI']\n"
     ]
    }
   ],
   "source": [
    "print(cars[:3])       # 前三个元素，开始位置缺省，默认为"
   ]
  },
  {
   "cell_type": "code",
   "execution_count": 18,
   "id": "d48d26b0",
   "metadata": {},
   "outputs": [
    {
     "name": "stdout",
     "output_type": "stream",
     "text": [
      "['BMW', 'TOYOTA']\n"
     ]
    }
   ],
   "source": [
    "print(cars[1:4:2])    # 第二个到第四个元素 前后索引差为2"
   ]
  },
  {
   "cell_type": "code",
   "execution_count": 19,
   "id": "099f73e0",
   "metadata": {},
   "outputs": [
    {
     "name": "stdout",
     "output_type": "stream",
     "text": [
      "['BYD', 'BMW', 'AUDI', 'TOYOTA']\n"
     ]
    }
   ],
   "source": [
    "print(cars[:])"
   ]
  },
  {
   "cell_type": "code",
   "execution_count": 22,
   "id": "90f09603",
   "metadata": {},
   "outputs": [
    {
     "name": "stdout",
     "output_type": "stream",
     "text": [
      "['BYD', 'BMW']\n"
     ]
    }
   ],
   "source": [
    "print(cars[-4:-2])     # 获取前两个元素"
   ]
  },
  {
   "cell_type": "markdown",
   "id": "052fb0cc",
   "metadata": {},
   "source": [
    "- 反向切片"
   ]
  },
  {
   "cell_type": "code",
   "execution_count": 23,
   "id": "c756c3e3",
   "metadata": {},
   "outputs": [],
   "source": [
    "cars = [\"BYD\",\"BMW\",\"AUDI\",\"TOYOTA\"]"
   ]
  },
  {
   "cell_type": "code",
   "execution_count": 24,
   "id": "4c0206ec",
   "metadata": {},
   "outputs": [
    {
     "name": "stdout",
     "output_type": "stream",
     "text": [
      "['TOYOTA', 'AUDI', 'BMW']\n"
     ]
    }
   ],
   "source": [
    "print(cars[:-4:-1])       # 开始位置缺省，默认为-1"
   ]
  },
  {
   "cell_type": "code",
   "execution_count": 26,
   "id": "ff0c1bd8",
   "metadata": {},
   "outputs": [
    {
     "name": "stdout",
     "output_type": "stream",
     "text": [
      "['TOYOTA', 'AUDI', 'BMW', 'BYD']\n"
     ]
    }
   ],
   "source": [
    "print(cars[::-1])        #  获得反向列表"
   ]
  },
  {
   "cell_type": "markdown",
   "id": "a729d341",
   "metadata": {},
   "source": [
    "## 4.1.3 列表的操作符"
   ]
  },
  {
   "cell_type": "markdown",
   "id": "a2fe8948",
   "metadata": {},
   "source": [
    "* 用**&ensp;list1+lis2&ensp;**的形式实现列表的拼接 "
   ]
  },
  {
   "cell_type": "code",
   "execution_count": 1,
   "id": "092c0b09",
   "metadata": {},
   "outputs": [
    {
     "data": {
      "text/plain": [
       "[1, 2, 3, 4]"
      ]
     },
     "execution_count": 1,
     "metadata": {},
     "output_type": "execute_result"
    }
   ],
   "source": [
    "a = [1, 2]\n",
    "b = [3, 4]\n",
    "a + b"
   ]
  },
  {
   "cell_type": "markdown",
   "id": "7086148b",
   "metadata": {},
   "source": [
    "- 用n\\*list 或者 list\\*n实现列表的成倍复制"
   ]
  },
  {
   "cell_type": "markdown",
   "id": "3ad71326",
   "metadata": {},
   "source": [
    "**初始化列表的一种方式**"
   ]
  },
  {
   "cell_type": "code",
   "execution_count": 2,
   "id": "9ead9cb0",
   "metadata": {},
   "outputs": [
    {
     "data": {
      "text/plain": [
       "[0, 0, 0, 0, 0, 0, 0, 0, 0, 0]"
      ]
     },
     "execution_count": 2,
     "metadata": {},
     "output_type": "execute_result"
    }
   ],
   "source": [
    "[0]*10"
   ]
  },
  {
   "cell_type": "markdown",
   "id": "def47953",
   "metadata": {},
   "source": [
    "## 4.1.4列表的操作方法\n",
    "\n",
    "**1. 增加元素**\n",
    "\n",
    "- 在末尾增加元素——列表.append(待增元素)"
   ]
  },
  {
   "cell_type": "code",
   "execution_count": 3,
   "id": "68863144",
   "metadata": {},
   "outputs": [],
   "source": [
    "language = [\"Python\",\"C++\",\"R\"]"
   ]
  },
  {
   "cell_type": "code",
   "execution_count": 4,
   "id": "85fa18ae",
   "metadata": {},
   "outputs": [
    {
     "data": {
      "text/plain": [
       "['Python', 'C++', 'R', 'Java']"
      ]
     },
     "execution_count": 4,
     "metadata": {},
     "output_type": "execute_result"
    }
   ],
   "source": [
    "language.append(\"Java\")\n",
    "language"
   ]
  },
  {
   "cell_type": "markdown",
   "id": "0f584809",
   "metadata": {},
   "source": [
    "- **在任意位置插入元素——列表.insert(位置索引, 待增元素)**"
   ]
  },
  {
   "cell_type": "code",
   "execution_count": 5,
   "id": "b5777ead",
   "metadata": {},
   "outputs": [
    {
     "data": {
      "text/plain": [
       "['Python', 'C', 'C++', 'R', 'Java']"
      ]
     },
     "execution_count": 5,
     "metadata": {},
     "output_type": "execute_result"
    }
   ],
   "source": [
    "language.insert(1, \"C\")\n",
    "language"
   ]
  },
  {
   "cell_type": "markdown",
   "id": "064ba68d",
   "metadata": {},
   "source": [
    "- **在末尾整体并入另一个列表——列表1.extend(列表2)**\n",
    "\n",
    "append将列表2整体作为一个元素添加到列表1中"
   ]
  },
  {
   "cell_type": "code",
   "execution_count": 6,
   "id": "4be0ec04",
   "metadata": {},
   "outputs": [
    {
     "data": {
      "text/plain": [
       "['Python', 'C', 'C++', 'R', 'Java', ['Ruby', 'PHP']]"
      ]
     },
     "execution_count": 6,
     "metadata": {},
     "output_type": "execute_result"
    }
   ],
   "source": [
    "language = [\"Python\",\"C++\",\"R\"]\n",
    "language.append([\"Ruby\", \"PHP\"])\n",
    "language"
   ]
  },
  {
   "cell_type": "markdown",
   "id": "ad0d67b8",
   "metadata": {},
   "source": [
    "extend 将待列表2内的元素逐个添加到列表1中"
   ]
  },
  {
   "cell_type": "code",
   "execution_count": 8,
   "id": "da2dca94",
   "metadata": {},
   "outputs": [
    {
     "data": {
      "text/plain": [
       "['Python', 'C++', 'R', 'Ruby', 'PHP']"
      ]
     },
     "execution_count": 8,
     "metadata": {},
     "output_type": "execute_result"
    }
   ],
   "source": [
    "language = [\"Python\",\"C++\",\"R\"]\n",
    "language.extend([\"Ruby\", \"PHP\"])\n",
    "language"
   ]
  },
  {
   "cell_type": "markdown",
   "id": "ac2c2cec",
   "metadata": {},
   "source": [
    "**2. 删除元素**\n",
    "\n",
    "- **删除列表对应索引的元素  列表.pop(索引)**"
   ]
  },
  {
   "cell_type": "code",
   "execution_count": 9,
   "id": "bfbab8ac",
   "metadata": {},
   "outputs": [
    {
     "data": {
      "text/plain": [
       "['Python', 'C++', 'R', 'Java']"
      ]
     },
     "execution_count": 9,
     "metadata": {},
     "output_type": "execute_result"
    }
   ],
   "source": [
    "language = [\"Python\",\"C\",\"C++\",\"R\",\"Java\"]\n",
    "language.pop(1)\n",
    "language"
   ]
  },
  {
   "cell_type": "markdown",
   "id": "c25225b5",
   "metadata": {},
   "source": [
    "- **不写位置信息，默认删除最后一个元素**"
   ]
  },
  {
   "cell_type": "code",
   "execution_count": 10,
   "id": "45e9117c",
   "metadata": {},
   "outputs": [
    {
     "data": {
      "text/plain": [
       "['Python', 'C', 'C++', 'R']"
      ]
     },
     "execution_count": 10,
     "metadata": {},
     "output_type": "execute_result"
    }
   ],
   "source": [
    "language = [\"Python\",\"C\",\"C++\",\"R\",\"Java\"]\n",
    "language.pop()\n",
    "language"
   ]
  },
  {
   "cell_type": "markdown",
   "id": "857674ef",
   "metadata": {},
   "source": [
    "- **pop函数有返回值，返回值就是删除的元素**"
   ]
  },
  {
   "cell_type": "code",
   "execution_count": 12,
   "id": "97598afd",
   "metadata": {},
   "outputs": [
    {
     "data": {
      "text/plain": [
       "'Java'"
      ]
     },
     "execution_count": 12,
     "metadata": {},
     "output_type": "execute_result"
    }
   ],
   "source": [
    "language = [\"Python\",\"C\",\"C++\",\"R\",\"Java\"]\n",
    "dv = language.pop()\n",
    "dv"
   ]
  },
  {
   "cell_type": "markdown",
   "id": "5c176375",
   "metadata": {},
   "source": [
    "- **删除列表中第一次出现的待删元素  列表.remove(待删元素)**"
   ]
  },
  {
   "cell_type": "code",
   "execution_count": 13,
   "id": "a155b213",
   "metadata": {},
   "outputs": [
    {
     "data": {
      "text/plain": [
       "['Python', 'C++', 'R', 'Java']"
      ]
     },
     "execution_count": 13,
     "metadata": {},
     "output_type": "execute_result"
    }
   ],
   "source": [
    "language = [\"Python\",\"C\",\"C++\",\"R\",\"Java\"]\n",
    "language.remove(\"C\")\n",
    "language"
   ]
  },
  {
   "cell_type": "markdown",
   "id": "c217620c",
   "metadata": {},
   "source": [
    "**删除列表中所有值为0的元素**"
   ]
  },
  {
   "cell_type": "code",
   "execution_count": 14,
   "id": "138b8570",
   "metadata": {},
   "outputs": [
    {
     "data": {
      "text/plain": [
       "[1, 3, 5, 1, 4, 6]"
      ]
     },
     "execution_count": 14,
     "metadata": {},
     "output_type": "execute_result"
    }
   ],
   "source": [
    "num = [0, 1, 3, 0, 5, 1, 4, 0, 6, 0]\n",
    "\n",
    "while 0 in num:\n",
    "    num.remove(0)\n",
    "num"
   ]
  },
  {
   "cell_type": "markdown",
   "id": "c83bc345",
   "metadata": {},
   "source": [
    "**3. 查找元素**\n",
    "\n",
    "- 列表中第一次出现待查元素的位置 列表.index(待查元素)"
   ]
  },
  {
   "cell_type": "code",
   "execution_count": 15,
   "id": "e51b1916",
   "metadata": {},
   "outputs": [
    {
     "data": {
      "text/plain": [
       "3"
      ]
     },
     "execution_count": 15,
     "metadata": {},
     "output_type": "execute_result"
    }
   ],
   "source": [
    "language = [\"Python\",\"C\",\"C++\",\"R\",\"Java\"]\n",
    "index = language.index(\"R\")\n",
    "index"
   ]
  },
  {
   "cell_type": "markdown",
   "id": "7f95eada",
   "metadata": {},
   "source": [
    "**4. 修改元素**\n",
    "\n",
    "- 通过“先索引后赋值”的方式，对元素进行修改  列表名[位置] = 新值"
   ]
  },
  {
   "cell_type": "code",
   "execution_count": 16,
   "id": "c7887381",
   "metadata": {},
   "outputs": [
    {
     "data": {
      "text/plain": [
       "['Python', 'C++', 'R', 'Java']"
      ]
     },
     "execution_count": 16,
     "metadata": {},
     "output_type": "execute_result"
    }
   ],
   "source": [
    "language = [\"Python\",\"C\",\"R\",\"Java\"]\n",
    "language[1] = \"C++\"\n",
    "language"
   ]
  },
  {
   "cell_type": "markdown",
   "id": "1a734f33",
   "metadata": {},
   "source": [
    "**5. 列表的复制**\n",
    "\n",
    "**错误的方式**"
   ]
  },
  {
   "cell_type": "code",
   "execution_count": 17,
   "id": "12579395",
   "metadata": {},
   "outputs": [
    {
     "name": "stdout",
     "output_type": "stream",
     "text": [
      "['Python', 'C', 'R', 'Java']\n"
     ]
    }
   ],
   "source": [
    "language = [\"Python\",\"C\",\"R\",\"Java\"]\n",
    "language_2 = language\n",
    "print(language_2)"
   ]
  },
  {
   "cell_type": "code",
   "execution_count": 18,
   "id": "179c00ae",
   "metadata": {},
   "outputs": [
    {
     "name": "stdout",
     "output_type": "stream",
     "text": [
      "['Python', 'C', 'R']\n",
      "['Python', 'C', 'R']\n"
     ]
    }
   ],
   "source": [
    "language.pop()\n",
    "print(language)\n",
    "print(language_2)"
   ]
  },
  {
   "cell_type": "markdown",
   "id": "787bae32",
   "metadata": {},
   "source": [
    "**正确的方式——浅拷贝**\n",
    "\n",
    "- 方法一：列表.copy()"
   ]
  },
  {
   "cell_type": "code",
   "execution_count": 20,
   "id": "7031961b",
   "metadata": {},
   "outputs": [
    {
     "name": "stdout",
     "output_type": "stream",
     "text": [
      "['Python', 'C']\n",
      "['Python', 'C', 'R']\n"
     ]
    }
   ],
   "source": [
    "language_2 = language.copy()\n",
    "language.pop()\n",
    "print(language)\n",
    "print(language_2)"
   ]
  },
  {
   "cell_type": "markdown",
   "id": "8db1ca6d",
   "metadata": {},
   "source": [
    "* 方法2：列表[&ensp;:&ensp;]"
   ]
  },
  {
   "cell_type": "code",
   "execution_count": 22,
   "id": "98238ba5",
   "metadata": {},
   "outputs": [
    {
     "name": "stdout",
     "output_type": "stream",
     "text": [
      "['Python', 'C', 'R']\n",
      "['Python', 'C', 'R', 'Java']\n"
     ]
    }
   ],
   "source": [
    "language = [\"Python\",\"C\",\"R\",\"Java\"]\n",
    "language_3 = language[:]\n",
    "language.pop()\n",
    "print(language)\n",
    "print(language_3)"
   ]
  },
  {
   "cell_type": "markdown",
   "id": "b4f1ddd5",
   "metadata": {},
   "source": [
    "**6. 列表的排序**\n",
    "\n",
    "- 使用列表.sort()对列表进行永久排序\n",
    "- 直接在列表上进行操作，无返回值"
   ]
  },
  {
   "cell_type": "code",
   "execution_count": 23,
   "id": "5fece57f",
   "metadata": {},
   "outputs": [
    {
     "data": {
      "text/plain": [
       "[2, 2, 5, 8, 19, 28]"
      ]
     },
     "execution_count": 23,
     "metadata": {},
     "output_type": "execute_result"
    }
   ],
   "source": [
    "ls = [2, 5, 2, 8, 19, 28]\n",
    "ls.sort()\n",
    "ls"
   ]
  },
  {
   "cell_type": "markdown",
   "id": "1516fd7d",
   "metadata": {},
   "source": [
    "- 递减排序"
   ]
  },
  {
   "cell_type": "code",
   "execution_count": 25,
   "id": "ea8a5194",
   "metadata": {},
   "outputs": [
    {
     "data": {
      "text/plain": [
       "[28, 19, 8, 5, 2, 2]"
      ]
     },
     "execution_count": 25,
     "metadata": {},
     "output_type": "execute_result"
    }
   ],
   "source": [
    "ls.sort(reverse = True)\n",
    "ls"
   ]
  },
  {
   "cell_type": "markdown",
   "id": "d64c1610",
   "metadata": {},
   "source": [
    "- 使用sorted(列表)对列表进行临时排序\n",
    "- 原列表保持不变，返回排序后的列表"
   ]
  },
  {
   "cell_type": "code",
   "execution_count": 29,
   "id": "e0488fa7",
   "metadata": {},
   "outputs": [
    {
     "name": "stdout",
     "output_type": "stream",
     "text": [
      "[2, 50, 5, 2, 8, 19, 28]\n",
      "[2, 2, 5, 8, 19, 28, 50]\n"
     ]
    }
   ],
   "source": [
    "ls = [2, 50, 5, 2, 8, 19, 28]\n",
    "ls_2 = sorted(ls)\n",
    "print(ls)\n",
    "print(ls_2)"
   ]
  },
  {
   "cell_type": "code",
   "execution_count": 30,
   "id": "be97428a",
   "metadata": {},
   "outputs": [
    {
     "data": {
      "text/plain": [
       "[50, 28, 19, 8, 5, 2, 2]"
      ]
     },
     "execution_count": 30,
     "metadata": {},
     "output_type": "execute_result"
    }
   ],
   "source": [
    "sorted(ls, reverse = True)"
   ]
  },
  {
   "cell_type": "markdown",
   "id": "e2dbba0d",
   "metadata": {},
   "source": [
    "**7. 列表的翻转**"
   ]
  },
  {
   "cell_type": "markdown",
   "id": "01c6e866",
   "metadata": {},
   "source": [
    "- 使用列表.reverse()对列表进行永久翻转\n",
    "- 直接在列表上进行操作，无返回值"
   ]
  },
  {
   "cell_type": "code",
   "execution_count": 32,
   "id": "f2665c47",
   "metadata": {},
   "outputs": [
    {
     "name": "stdout",
     "output_type": "stream",
     "text": [
      "[5, 4, 3, 2, 1]\n"
     ]
    },
    {
     "data": {
      "text/plain": [
       "[1, 2, 3, 4, 5]"
      ]
     },
     "execution_count": 32,
     "metadata": {},
     "output_type": "execute_result"
    }
   ],
   "source": [
    "ls = [1, 2, 3, 4, 5]\n",
    "print(ls[::-1])\n",
    "ls"
   ]
  },
  {
   "cell_type": "code",
   "execution_count": 35,
   "id": "418b726f",
   "metadata": {},
   "outputs": [
    {
     "data": {
      "text/plain": [
       "[5, 4, 3, 2, 1]"
      ]
     },
     "execution_count": 35,
     "metadata": {},
     "output_type": "execute_result"
    }
   ],
   "source": [
    "ls = [1, 2, 3, 4, 5]\n",
    "ls.reverse()\n",
    "ls"
   ]
  },
  {
   "cell_type": "markdown",
   "id": "a994734f",
   "metadata": {},
   "source": [
    "**8. 使用for循环对列表进行遍历**"
   ]
  },
  {
   "cell_type": "code",
   "execution_count": 36,
   "id": "7471d979",
   "metadata": {},
   "outputs": [
    {
     "name": "stdout",
     "output_type": "stream",
     "text": [
      "5\n",
      "4\n",
      "3\n",
      "2\n",
      "1\n"
     ]
    }
   ],
   "source": [
    "for i in ls:\n",
    "    print(i)"
   ]
  },
  {
   "cell_type": "markdown",
   "id": "11f52280",
   "metadata": {},
   "source": [
    "# 4.2元组\n",
    "\n",
    "## 4.2.1 元组的表达\n",
    "\n",
    "- 元组是一个可以使用多种类型的元素，一旦定义，内部元组不支持增、删和修改操作的序列类型\n",
    "\n",
    "- 元组 = \"不可变的列表\""
   ]
  },
  {
   "cell_type": "code",
   "execution_count": 37,
   "id": "1bea9b65",
   "metadata": {},
   "outputs": [],
   "source": [
    "name = (\"哆啦A梦\",\"大雄\",\"静香\")"
   ]
  },
  {
   "cell_type": "markdown",
   "id": "0e8da53f",
   "metadata": {},
   "source": [
    "## 4.2.2 元组的操作"
   ]
  },
  {
   "cell_type": "markdown",
   "id": "662d94f3",
   "metadata": {},
   "source": [
    "- 不支持元素增加、元素删除、元素修改操作\n",
    "- 其他操作与列表的操作完全一致"
   ]
  },
  {
   "cell_type": "markdown",
   "id": "8dc622c4",
   "metadata": {},
   "source": [
    "## 4.2.3 元组的常见用处\n",
    "\n",
    "**打包与解包**"
   ]
  },
  {
   "cell_type": "markdown",
   "id": "634f3dd0",
   "metadata": {},
   "source": [
    "- 例一"
   ]
  },
  {
   "cell_type": "code",
   "execution_count": 39,
   "id": "d7efcb5b",
   "metadata": {},
   "outputs": [
    {
     "name": "stdout",
     "output_type": "stream",
     "text": [
      "(9, 27)\n",
      "<class 'tuple'>\n"
     ]
    }
   ],
   "source": [
    "def f1(x):               # 返回x的平方和立方\n",
    "    return x**2, x**3    # 实现打包返回\n",
    "\n",
    "print(f1(3))\n",
    "print(type(f1(3)))       # 元组类型"
   ]
  },
  {
   "cell_type": "code",
   "execution_count": 40,
   "id": "25aec96b",
   "metadata": {},
   "outputs": [
    {
     "name": "stdout",
     "output_type": "stream",
     "text": [
      "9\n",
      "27\n"
     ]
    }
   ],
   "source": [
    "a, b = f1(3)             # 实现解包赋值\n",
    "print(a)\n",
    "print(b)"
   ]
  },
  {
   "cell_type": "markdown",
   "id": "17b76b87",
   "metadata": {},
   "source": [
    "- 例2"
   ]
  },
  {
   "cell_type": "code",
   "execution_count": 46,
   "id": "7632fd4d",
   "metadata": {},
   "outputs": [
    {
     "data": {
      "text/plain": [
       "[(202101, '66'), (202102, '鑫鑫'), (202103, '安安')]"
      ]
     },
     "execution_count": 46,
     "metadata": {},
     "output_type": "execute_result"
    }
   ],
   "source": [
    "numbers = [202101, 202102, 202103]\n",
    "names = [\"66\", \"鑫鑫\",\"安安\"]\n",
    "\n",
    "list(zip(numbers, names))"
   ]
  },
  {
   "cell_type": "code",
   "execution_count": 47,
   "id": "d652f29e",
   "metadata": {},
   "outputs": [
    {
     "name": "stdout",
     "output_type": "stream",
     "text": [
      "202101 66\n",
      "202102 鑫鑫\n",
      "202103 安安\n"
     ]
    }
   ],
   "source": [
    "for number, name in zip(numbers,names):     # 每次取到一个元组，立刻进行解包赋值\n",
    "    print(number, name)"
   ]
  },
  {
   "cell_type": "markdown",
   "id": "ecb73b40",
   "metadata": {},
   "source": [
    "# 4.3 字典\n",
    "\n",
    "## 4.3.1 字典的表达\n",
    "\n",
    "- 映射类型：通过“键”-“值”的映射实现数据存储和查找\n",
    "- 常规的字典是无序的"
   ]
  },
  {
   "cell_type": "code",
   "execution_count": 48,
   "id": "e328fc2b",
   "metadata": {},
   "outputs": [
    {
     "data": {
      "text/plain": [
       "{202101: '66', 202102: '鑫鑫', 202103: '安安'}"
      ]
     },
     "execution_count": 48,
     "metadata": {},
     "output_type": "execute_result"
    }
   ],
   "source": [
    "stu = {202101:\"66\", 202102:\"鑫鑫\", 202103:\"安安\"}\n",
    "stu"
   ]
  },
  {
   "cell_type": "markdown",
   "id": "af25d6db",
   "metadata": {},
   "source": [
    "**字典键的要求**\n",
    "\n",
    "- 1. 字典的键不能重复"
   ]
  },
  {
   "cell_type": "code",
   "execution_count": 50,
   "id": "1e9ec025",
   "metadata": {},
   "outputs": [
    {
     "data": {
      "text/plain": [
       "{202101: '鑫鑫', 202103: '安安'}"
      ]
     },
     "execution_count": 50,
     "metadata": {},
     "output_type": "execute_result"
    }
   ],
   "source": [
    "stu = {202101:\"66\", 202101:\"鑫鑫\", 202103:\"安安\"}\n",
    "stu"
   ]
  },
  {
   "cell_type": "markdown",
   "id": "1eaef23f",
   "metadata": {},
   "source": [
    "- 2. 字典的键必须是不可变类型，如果键可变，就找不到对应存储的值了"
   ]
  },
  {
   "cell_type": "markdown",
   "id": "8cb198ac",
   "metadata": {},
   "source": [
    "- 不可变类型：数字、字符串、元组。一旦确定，就不能改变\n",
    "- 可变类型：列表、字典、集合。 可以随意进行增删改"
   ]
  },
  {
   "cell_type": "code",
   "execution_count": 51,
   "id": "5d8121aa",
   "metadata": {},
   "outputs": [],
   "source": [
    "d1 = {1:3}\n",
    "d2 = {\"s\":3}\n",
    "d3 = {(1,2):3}"
   ]
  },
  {
   "cell_type": "code",
   "execution_count": 54,
   "id": "395cc34c",
   "metadata": {},
   "outputs": [
    {
     "ename": "TypeError",
     "evalue": "unhashable type: 'dict'",
     "output_type": "error",
     "traceback": [
      "\u001b[1;31m---------------------------------------------------------------------------\u001b[0m",
      "\u001b[1;31mTypeError\u001b[0m                                 Traceback (most recent call last)",
      "\u001b[1;32m<ipython-input-54-0b066f326e9d>\u001b[0m in \u001b[0;36m<module>\u001b[1;34m\u001b[0m\n\u001b[1;32m----> 1\u001b[1;33m \u001b[0md\u001b[0m \u001b[1;33m=\u001b[0m \u001b[1;33m{\u001b[0m\u001b[1;33m{\u001b[0m\u001b[1;36m1\u001b[0m\u001b[1;33m:\u001b[0m\u001b[1;36m2\u001b[0m\u001b[1;33m}\u001b[0m\u001b[1;33m:\u001b[0m\u001b[1;36m3\u001b[0m\u001b[1;33m}\u001b[0m\u001b[1;33m\u001b[0m\u001b[1;33m\u001b[0m\u001b[0m\n\u001b[0m",
      "\u001b[1;31mTypeError\u001b[0m: unhashable type: 'dict'"
     ]
    }
   ],
   "source": [
    "d = {{1:2}:3}"
   ]
  },
  {
   "cell_type": "code",
   "execution_count": 53,
   "id": "09526ba7",
   "metadata": {},
   "outputs": [
    {
     "ename": "TypeError",
     "evalue": "unhashable type: 'list'",
     "output_type": "error",
     "traceback": [
      "\u001b[1;31m---------------------------------------------------------------------------\u001b[0m",
      "\u001b[1;31mTypeError\u001b[0m                                 Traceback (most recent call last)",
      "\u001b[1;32m<ipython-input-53-305543aa9f7a>\u001b[0m in \u001b[0;36m<module>\u001b[1;34m\u001b[0m\n\u001b[1;32m----> 1\u001b[1;33m \u001b[0md\u001b[0m \u001b[1;33m=\u001b[0m \u001b[1;33m{\u001b[0m\u001b[1;33m[\u001b[0m\u001b[1;36m1\u001b[0m\u001b[1;33m,\u001b[0m \u001b[1;36m2\u001b[0m\u001b[1;33m]\u001b[0m\u001b[1;33m:\u001b[0m\u001b[1;36m3\u001b[0m\u001b[1;33m}\u001b[0m\u001b[1;33m\u001b[0m\u001b[1;33m\u001b[0m\u001b[0m\n\u001b[0m",
      "\u001b[1;31mTypeError\u001b[0m: unhashable type: 'list'"
     ]
    }
   ],
   "source": [
    "d = {[1, 2]:3}"
   ]
  },
  {
   "cell_type": "code",
   "execution_count": 55,
   "id": "f112b9a2",
   "metadata": {},
   "outputs": [
    {
     "ename": "TypeError",
     "evalue": "unhashable type: 'set'",
     "output_type": "error",
     "traceback": [
      "\u001b[1;31m---------------------------------------------------------------------------\u001b[0m",
      "\u001b[1;31mTypeError\u001b[0m                                 Traceback (most recent call last)",
      "\u001b[1;32m<ipython-input-55-a2b67137f8ed>\u001b[0m in \u001b[0;36m<module>\u001b[1;34m\u001b[0m\n\u001b[1;32m----> 1\u001b[1;33m \u001b[0md\u001b[0m \u001b[1;33m=\u001b[0m \u001b[1;33m{\u001b[0m\u001b[1;33m{\u001b[0m\u001b[1;36m1\u001b[0m\u001b[1;33m,\u001b[0m \u001b[1;36m2\u001b[0m\u001b[1;33m}\u001b[0m\u001b[1;33m:\u001b[0m\u001b[1;36m3\u001b[0m\u001b[1;33m}\u001b[0m\u001b[1;33m\u001b[0m\u001b[1;33m\u001b[0m\u001b[0m\n\u001b[0m",
      "\u001b[1;31mTypeError\u001b[0m: unhashable type: 'set'"
     ]
    }
   ],
   "source": [
    "d = {{1, 2}:3}"
   ]
  },
  {
   "cell_type": "markdown",
   "id": "a43c7618",
   "metadata": {},
   "source": [
    "## 4.3.2 字典的性质\n",
    "\n",
    "- 字典的长度——键值对的个数"
   ]
  },
  {
   "cell_type": "code",
   "execution_count": 57,
   "id": "df03cd92",
   "metadata": {},
   "outputs": [
    {
     "data": {
      "text/plain": [
       "3"
      ]
     },
     "execution_count": 57,
     "metadata": {},
     "output_type": "execute_result"
    }
   ],
   "source": [
    "stu = {202101:\"66\", 202102:\"鑫鑫\", 202103:\"安安\"}\n",
    "len(stu)"
   ]
  },
  {
   "cell_type": "markdown",
   "id": "a5791a9e",
   "metadata": {},
   "source": [
    "- 字典的索引\n",
    "\n",
    "通过&ensp; **字典[键]**&ensp;的形式来获取对应的值"
   ]
  },
  {
   "cell_type": "code",
   "execution_count": 58,
   "id": "362992b9",
   "metadata": {},
   "outputs": [
    {
     "data": {
      "text/plain": [
       "'鑫鑫'"
      ]
     },
     "execution_count": 58,
     "metadata": {},
     "output_type": "execute_result"
    }
   ],
   "source": [
    "stu = {202101:\"66\", 202102:\"鑫鑫\", 202103:\"安安\"}\n",
    "\n",
    "stu[202102]"
   ]
  },
  {
   "cell_type": "markdown",
   "id": "488ee809",
   "metadata": {},
   "source": [
    "## 4.3.3 字典的操作方法\n",
    "\n",
    "**1. 增加键值对**\n",
    "\n",
    "- 变量名[新键] = 新值"
   ]
  },
  {
   "cell_type": "code",
   "execution_count": 61,
   "id": "986f132e",
   "metadata": {},
   "outputs": [
    {
     "data": {
      "text/plain": [
       "{202101: '66', 202102: '鑫鑫', 202103: '安安', 202104: '涛涛'}"
      ]
     },
     "execution_count": 61,
     "metadata": {},
     "output_type": "execute_result"
    }
   ],
   "source": [
    "stu = {202101:\"66\", 202102:\"鑫鑫\", 202103:\"安安\"}\n",
    "stu[202104] = \"涛涛\"\n",
    "\n",
    "stu"
   ]
  },
  {
   "cell_type": "markdown",
   "id": "89fb6a7e",
   "metadata": {},
   "source": [
    "**2. 删除键值对**\n",
    "\n",
    "- 通过**del 变量名[待删除键]**"
   ]
  },
  {
   "cell_type": "code",
   "execution_count": 62,
   "id": "8d7cea6d",
   "metadata": {},
   "outputs": [
    {
     "data": {
      "text/plain": [
       "{202101: '66', 202102: '鑫鑫', 202103: '安安'}"
      ]
     },
     "execution_count": 62,
     "metadata": {},
     "output_type": "execute_result"
    }
   ],
   "source": [
    "stu = {202101:\"66\", 202102:\"鑫鑫\", 202103:\"安安\",202104:\"涛涛\"}\n",
    "del stu[202104]\n",
    "stu"
   ]
  },
  {
   "cell_type": "markdown",
   "id": "46e7fdba",
   "metadata": {},
   "source": [
    "- 通过**变量名.pop(待删除键)**"
   ]
  },
  {
   "cell_type": "code",
   "execution_count": 64,
   "id": "61a2fff3",
   "metadata": {},
   "outputs": [
    {
     "name": "stdout",
     "output_type": "stream",
     "text": [
      "涛涛\n",
      "{202101: '66', 202102: '鑫鑫', 202103: '安安'}\n"
     ]
    }
   ],
   "source": [
    "stu = {202101:\"66\", 202102:\"鑫鑫\", 202103:\"安安\",202104:\"涛涛\"}\n",
    "\n",
    "value = stu.pop(202104)      # 删除键值对，通过获得删除键值对的值\n",
    "print(value)\n",
    "print(stu)"
   ]
  },
  {
   "cell_type": "markdown",
   "id": "5a140b67",
   "metadata": {},
   "source": [
    "- 变量名.popitem()随机删除一个键值对，并以元组返回删除键值对"
   ]
  },
  {
   "cell_type": "code",
   "execution_count": 65,
   "id": "21c3b60b",
   "metadata": {},
   "outputs": [
    {
     "name": "stdout",
     "output_type": "stream",
     "text": [
      "202104 涛涛\n",
      "{202101: '66', 202102: '鑫鑫', 202103: '安安'}\n"
     ]
    }
   ],
   "source": [
    "stu = {202101:\"66\", 202102:\"鑫鑫\", 202103:\"安安\",202104:\"涛涛\"}\n",
    "key, value = stu.popitem()\n",
    "print(key, value)\n",
    "print(stu)"
   ]
  },
  {
   "cell_type": "markdown",
   "id": "6c1bac88",
   "metadata": {},
   "source": [
    "**3. 修改值**\n",
    "\n",
    "- 通过先索引后赋值的方式对相应的值进行修改"
   ]
  },
  {
   "cell_type": "code",
   "execution_count": 67,
   "id": "373585f0",
   "metadata": {},
   "outputs": [
    {
     "data": {
      "text/plain": [
       "{202101: '思齐', 202102: '鑫鑫', 202103: '安安', 202104: '涛涛'}"
      ]
     },
     "execution_count": 67,
     "metadata": {},
     "output_type": "execute_result"
    }
   ],
   "source": [
    "stu = {202101:\"66\", 202102:\"鑫鑫\", 202103:\"安安\",202104:\"涛涛\"}\n",
    "stu[202101] = \"思齐\"\n",
    "stu"
   ]
  },
  {
   "cell_type": "markdown",
   "id": "23dd53a3",
   "metadata": {},
   "source": [
    "**4. d.get()方法**\n",
    "\n",
    "d.get(key,default) 从字典中获取键key对应的值，如果没有这个键，则返回default\n",
    "\n",
    "- 小例子：统计\"牛奶奶找刘奶奶买牛奶\"中字符出现的频率"
   ]
  },
  {
   "cell_type": "code",
   "execution_count": 1,
   "id": "91e05add",
   "metadata": {},
   "outputs": [
    {
     "name": "stdout",
     "output_type": "stream",
     "text": [
      "{}\n",
      "{'牛': 1}\n",
      "{'牛': 1, '奶': 1}\n",
      "{'牛': 1, '奶': 2}\n",
      "{'牛': 1, '奶': 2, '找': 1}\n",
      "{'牛': 1, '奶': 2, '找': 1, '刘': 1}\n",
      "{'牛': 1, '奶': 3, '找': 1, '刘': 1}\n",
      "{'牛': 1, '奶': 4, '找': 1, '刘': 1}\n",
      "{'牛': 1, '奶': 4, '找': 1, '刘': 1, '买': 1}\n",
      "{'牛': 2, '奶': 4, '找': 1, '刘': 1, '买': 1}\n",
      "{'牛': 2, '奶': 5, '找': 1, '刘': 1, '买': 1}\n"
     ]
    }
   ],
   "source": [
    "s = \"牛奶奶找刘奶奶买牛奶\"\n",
    "d = {}\n",
    "print(d)\n",
    "for i in s:\n",
    "    d[i] = d.get(i, 0)+1\n",
    "    print(d)\n",
    "# print(d)"
   ]
  },
  {
   "cell_type": "markdown",
   "id": "4904f994",
   "metadata": {},
   "source": [
    "**5. d.keys()  d.values()方法**"
   ]
  },
  {
   "cell_type": "code",
   "execution_count": 70,
   "id": "11af7c10",
   "metadata": {},
   "outputs": [
    {
     "name": "stdout",
     "output_type": "stream",
     "text": [
      "[202101, 202102, 202103, 202104]\n",
      "['66', '鑫鑫', '安安', '涛涛']\n"
     ]
    }
   ],
   "source": [
    "stu = {202101:\"66\", 202102:\"鑫鑫\", 202103:\"安安\",202104:\"涛涛\"}\n",
    "\n",
    "print(list(stu.keys()))\n",
    "print(list(stu.values()))"
   ]
  },
  {
   "cell_type": "markdown",
   "id": "12566dfd",
   "metadata": {},
   "source": [
    "**6. d.items()方法及字典的遍历**"
   ]
  },
  {
   "cell_type": "code",
   "execution_count": 71,
   "id": "a167ac5c",
   "metadata": {},
   "outputs": [
    {
     "name": "stdout",
     "output_type": "stream",
     "text": [
      "[(202101, '66'), (202102, '鑫鑫'), (202103, '安安'), (202104, '涛涛')]\n",
      "202101 66\n",
      "202102 鑫鑫\n",
      "202103 安安\n",
      "202104 涛涛\n"
     ]
    }
   ],
   "source": [
    "print(list(stu.items()))\n",
    "\n",
    "for k, v in stu.items():\n",
    "    print(k, v)"
   ]
  },
  {
   "cell_type": "markdown",
   "id": "bf5f16a2",
   "metadata": {},
   "source": [
    "# 4.4 集合\n",
    "\n",
    "## 4.4.1 集合的表达\n",
    "\n",
    "- 一系列互不相等元素的无序集合\n",
    "- 元素必须是不可变类型：数字、字符串或元组\n",
    "- 可以没有值，或者值为None"
   ]
  },
  {
   "cell_type": "code",
   "execution_count": 74,
   "id": "a7840998",
   "metadata": {},
   "outputs": [
    {
     "data": {
      "text/plain": [
       "{1, None, '书包', '台灯', '电脑'}"
      ]
     },
     "execution_count": 74,
     "metadata": {},
     "output_type": "execute_result"
    }
   ],
   "source": [
    "temp = {\"书包\",\"台灯\",\"电脑\",1,None, \"书包\"}\n",
    "temp"
   ]
  },
  {
   "cell_type": "markdown",
   "id": "b70cffad",
   "metadata": {},
   "source": [
    "## 集合的运算\n",
    "\n",
    "- 小例子 通过集合进行交集和并集的运算"
   ]
  },
  {
   "cell_type": "code",
   "execution_count": 75,
   "id": "f3a238ac",
   "metadata": {},
   "outputs": [
    {
     "data": {
      "text/plain": [
       "{'刘德华', '古天乐', '吴彦祖', '张曼玉', '林青霞'}"
      ]
     },
     "execution_count": 75,
     "metadata": {},
     "output_type": "execute_result"
    }
   ],
   "source": [
    "Chinese_A = {\"古天乐\",\"刘德华\",\"吴彦祖\",\"张曼玉\",\"林青霞\"}\n",
    "Chinese_A"
   ]
  },
  {
   "cell_type": "code",
   "execution_count": 76,
   "id": "0a4e0a3b",
   "metadata": {},
   "outputs": [
    {
     "data": {
      "text/plain": [
       "{'刘德华', '古天乐', '王祖贤', '郭富城'}"
      ]
     },
     "execution_count": 76,
     "metadata": {},
     "output_type": "execute_result"
    }
   ],
   "source": [
    "Math_A = {\"古天乐\",\"刘德华\",\"王祖贤\",\"郭富城\"}\n",
    "Math_A"
   ]
  },
  {
   "cell_type": "markdown",
   "id": "69edfc4b",
   "metadata": {},
   "source": [
    "- 语文和数学两门均为A的学员\n",
    "- S & T 返回一个新集合，包括同时在集合S和T中的元素"
   ]
  },
  {
   "cell_type": "code",
   "execution_count": 78,
   "id": "af53ccc3",
   "metadata": {},
   "outputs": [
    {
     "data": {
      "text/plain": [
       "{'刘德华', '古天乐'}"
      ]
     },
     "execution_count": 78,
     "metadata": {},
     "output_type": "execute_result"
    }
   ],
   "source": [
    "Chinese_A & Math_A"
   ]
  },
  {
   "cell_type": "markdown",
   "id": "56369a54",
   "metadata": {},
   "source": [
    "- 语文和数学两门至少一门为A的学员\n",
    "- S | T 返回一个新集合，包括集合S和T中所有的元素"
   ]
  },
  {
   "cell_type": "code",
   "execution_count": 79,
   "id": "04bf77d7",
   "metadata": {},
   "outputs": [
    {
     "data": {
      "text/plain": [
       "{'刘德华', '古天乐', '吴彦祖', '张曼玉', '林青霞', '王祖贤', '郭富城'}"
      ]
     },
     "execution_count": 79,
     "metadata": {},
     "output_type": "execute_result"
    }
   ],
   "source": [
    "Chinese_A | Math_A"
   ]
  },
  {
   "cell_type": "markdown",
   "id": "3fe7bf68",
   "metadata": {},
   "source": [
    "- 语文和数学只有一门为A的学员\n",
    "- S ^ T 返回一个新集合，包括集合S和T中的非共同元素"
   ]
  },
  {
   "cell_type": "code",
   "execution_count": 80,
   "id": "9cad361b",
   "metadata": {},
   "outputs": [
    {
     "data": {
      "text/plain": [
       "{'吴彦祖', '张曼玉', '林青霞', '王祖贤', '郭富城'}"
      ]
     },
     "execution_count": 80,
     "metadata": {},
     "output_type": "execute_result"
    }
   ],
   "source": [
    "Chinese_A ^ Math_A"
   ]
  },
  {
   "cell_type": "markdown",
   "id": "214faa54",
   "metadata": {},
   "source": [
    "- 语文为A，数学不为A的学员\n",
    "- S - T 返回一个新集合，包括在集合S但不在集合T中的元素"
   ]
  },
  {
   "cell_type": "code",
   "execution_count": 82,
   "id": "2e7aa212",
   "metadata": {},
   "outputs": [
    {
     "data": {
      "text/plain": [
       "{'吴彦祖', '张曼玉', '林青霞'}"
      ]
     },
     "execution_count": 82,
     "metadata": {},
     "output_type": "execute_result"
    }
   ],
   "source": [
    "Chinese_A - Math_A"
   ]
  },
  {
   "cell_type": "markdown",
   "id": "b3e6c3b1",
   "metadata": {},
   "source": [
    "## 4.4.3 集合的操作方法\n",
    "\n",
    "- 增加元素——S.add(x)"
   ]
  },
  {
   "cell_type": "code",
   "execution_count": 1,
   "id": "686927f7",
   "metadata": {},
   "outputs": [
    {
     "data": {
      "text/plain": [
       "{'刘德华', '古天乐', '吴彦祖', '张曼玉', '林青霞', '王祖贤'}"
      ]
     },
     "execution_count": 1,
     "metadata": {},
     "output_type": "execute_result"
    }
   ],
   "source": [
    "stars = {\"古天乐\",\"刘德华\",\"吴彦祖\",\"张曼玉\",\"林青霞\"}\n",
    "stars.add(\"王祖贤\")\n",
    "stars"
   ]
  },
  {
   "cell_type": "markdown",
   "id": "63fea04c",
   "metadata": {},
   "source": [
    "- 移除元素——S.remove(x)"
   ]
  },
  {
   "cell_type": "code",
   "execution_count": 3,
   "id": "0c599643",
   "metadata": {},
   "outputs": [
    {
     "data": {
      "text/plain": [
       "{'刘德华', '古天乐', '吴彦祖', '张曼玉', '林青霞'}"
      ]
     },
     "execution_count": 3,
     "metadata": {},
     "output_type": "execute_result"
    }
   ],
   "source": [
    "stars.remove(\"王祖贤\")\n",
    "stars"
   ]
  },
  {
   "cell_type": "markdown",
   "id": "9a03d4a8",
   "metadata": {},
   "source": [
    "- 集合的长度——len(S)"
   ]
  },
  {
   "cell_type": "code",
   "execution_count": 5,
   "id": "932dea3e",
   "metadata": {},
   "outputs": [
    {
     "data": {
      "text/plain": [
       "5"
      ]
     },
     "execution_count": 5,
     "metadata": {},
     "output_type": "execute_result"
    }
   ],
   "source": [
    "len(stars)"
   ]
  },
  {
   "cell_type": "markdown",
   "id": "59f4f427",
   "metadata": {},
   "source": [
    "- 集合的遍历——借助for循环"
   ]
  },
  {
   "cell_type": "code",
   "execution_count": 7,
   "id": "47a94101",
   "metadata": {},
   "outputs": [
    {
     "name": "stdout",
     "output_type": "stream",
     "text": [
      "刘德华\n",
      "林青霞\n",
      "古天乐\n",
      "张曼玉\n",
      "吴彦祖\n"
     ]
    }
   ],
   "source": [
    "for star in stars:\n",
    "    print(star)"
   ]
  },
  {
   "cell_type": "code",
   "execution_count": null,
   "id": "c73b7f20",
   "metadata": {},
   "outputs": [],
   "source": []
  }
 ],
 "metadata": {
  "kernelspec": {
   "display_name": "Python 3",
   "language": "python",
   "name": "python3"
  },
  "language_info": {
   "codemirror_mode": {
    "name": "ipython",
    "version": 3
   },
   "file_extension": ".py",
   "mimetype": "text/x-python",
   "name": "python",
   "nbconvert_exporter": "python",
   "pygments_lexer": "ipython3",
   "version": "3.8.8"
  }
 },
 "nbformat": 4,
 "nbformat_minor": 5
}
