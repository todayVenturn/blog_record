{
 "cells": [
  {
   "cell_type": "markdown",
   "id": "2bb260f2",
   "metadata": {},
   "source": [
    "## 第一部分 数据类型\n",
    "\n",
    "### 1. 基本类型：数字、字符串、布尔\n",
    "\n",
    "#### 1.1 数字类型\n",
    "\n",
    "- int 整型 整数"
   ]
  },
  {
   "cell_type": "code",
   "execution_count": 1,
   "id": "748a3eb6",
   "metadata": {},
   "outputs": [
    {
     "data": {
      "text/plain": [
       "2"
      ]
     },
     "execution_count": 1,
     "metadata": {},
     "output_type": "execute_result"
    }
   ],
   "source": [
    "2"
   ]
  },
  {
   "cell_type": "markdown",
   "id": "e0c9e0aa",
   "metadata": {},
   "source": [
    "- float浮点类型 带小数的数"
   ]
  },
  {
   "cell_type": "code",
   "execution_count": 2,
   "id": "111142f7",
   "metadata": {},
   "outputs": [
    {
     "data": {
      "text/plain": [
       "2.5"
      ]
     },
     "execution_count": 2,
     "metadata": {},
     "output_type": "execute_result"
    }
   ],
   "source": [
    "2.5"
   ]
  },
  {
   "cell_type": "markdown",
   "id": "e4d352fa",
   "metadata": {},
   "source": [
    "#### 1.2 字符串类型\n",
    "\n",
    "* str 字符串 视作文本\n",
    "* **组成**：由数字、字母、空格、其他字符等组合而成\n",
    "* **表达**：用\" \"或' '"
   ]
  },
  {
   "cell_type": "code",
   "execution_count": 3,
   "id": "7a117e82",
   "metadata": {},
   "outputs": [
    {
     "data": {
      "text/plain": [
       "'你好 123 Python ￥#@%T^'"
      ]
     },
     "execution_count": 3,
     "metadata": {},
     "output_type": "execute_result"
    }
   ],
   "source": [
    "\"你好 123 Python ￥#@%T^\""
   ]
  },
  {
   "cell_type": "markdown",
   "id": "acad88a6",
   "metadata": {},
   "source": [
    "#### 1.3  布尔类型\n",
    "\n",
    "* bool类型\n",
    "* 主要用于逻辑运算"
   ]
  },
  {
   "cell_type": "code",
   "execution_count": 4,
   "id": "ed4f38a6",
   "metadata": {},
   "outputs": [
    {
     "data": {
      "text/plain": [
       "True"
      ]
     },
     "execution_count": 4,
     "metadata": {},
     "output_type": "execute_result"
    }
   ],
   "source": [
    "y = 2 > 1\n",
    "y"
   ]
  },
  {
   "cell_type": "code",
   "execution_count": 5,
   "id": "89248e86",
   "metadata": {},
   "outputs": [
    {
     "data": {
      "text/plain": [
       "False"
      ]
     },
     "execution_count": 5,
     "metadata": {},
     "output_type": "execute_result"
    }
   ],
   "source": [
    "y = 2 < 1\n",
    "y"
   ]
  },
  {
   "cell_type": "markdown",
   "id": "616b3f25",
   "metadata": {},
   "source": [
    "**上述类型均可定义单个数据，如果我们有一组数据，该如何表示？**"
   ]
  },
  {
   "cell_type": "markdown",
   "id": "6ef5dc03",
   "metadata": {},
   "source": [
    "### 2. 组合类型：列表、元组、字典、集合\n",
    "\n",
    "#### 2.1 列表\n",
    "\n",
    "* **list列表** ····   **序列类型：数据有位置顺序**\n",
    "* **表示方式：**   **[data1,data2,...]**"
   ]
  },
  {
   "cell_type": "code",
   "execution_count": 7,
   "id": "7131ccbc",
   "metadata": {},
   "outputs": [
    {
     "data": {
      "text/plain": [
       "[1, 2, 3, 5, 9]"
      ]
     },
     "execution_count": 7,
     "metadata": {},
     "output_type": "execute_result"
    }
   ],
   "source": [
    "[1,2,3,5,9]"
   ]
  },
  {
   "cell_type": "markdown",
   "id": "014d6ad1",
   "metadata": {},
   "source": [
    "**通过索引访问**"
   ]
  },
  {
   "cell_type": "code",
   "execution_count": 9,
   "id": "bd18770e",
   "metadata": {},
   "outputs": [
    {
     "data": {
      "text/plain": [
       "1"
      ]
     },
     "execution_count": 9,
     "metadata": {},
     "output_type": "execute_result"
    }
   ],
   "source": [
    "a = [1,2,3,5,9]\n",
    "a[0]"
   ]
  },
  {
   "cell_type": "markdown",
   "id": "40534ff4",
   "metadata": {},
   "source": [
    "**赋值修改**"
   ]
  },
  {
   "cell_type": "code",
   "execution_count": 23,
   "id": "9ebfd8bd",
   "metadata": {},
   "outputs": [
    {
     "data": {
      "text/plain": [
       "[1, 999, 3, 5, 9]"
      ]
     },
     "execution_count": 23,
     "metadata": {},
     "output_type": "execute_result"
    }
   ],
   "source": [
    "a = [1,2,3,5,9]\n",
    "a[1] = 999\n",
    "a"
   ]
  },
  {
   "cell_type": "markdown",
   "id": "90fb1f13",
   "metadata": {},
   "source": [
    "**列表可以存储任意数据类型的元素**"
   ]
  },
  {
   "cell_type": "code",
   "execution_count": 8,
   "id": "b686f053",
   "metadata": {},
   "outputs": [
    {
     "data": {
      "text/plain": [
       "['你好', 56, None, True]"
      ]
     },
     "execution_count": 8,
     "metadata": {},
     "output_type": "execute_result"
    }
   ],
   "source": [
    "[\"你好\",56,None,True]"
   ]
  },
  {
   "cell_type": "markdown",
   "id": "1f7b9bcd",
   "metadata": {},
   "source": [
    "#### 2.2 元组\n",
    "\n",
    "* tuple元组   **序列类型**\n",
    "* **表示方式：  (data1,data2....)**\n",
    "* 元素不支持修改——\"不可变的列表\""
   ]
  },
  {
   "cell_type": "code",
   "execution_count": 2,
   "id": "a689bb8e",
   "metadata": {},
   "outputs": [
    {
     "data": {
      "text/plain": [
       "1"
      ]
     },
     "execution_count": 2,
     "metadata": {},
     "output_type": "execute_result"
    }
   ],
   "source": [
    "b= (1,\"你好\",True)\n",
    "b[0]"
   ]
  },
  {
   "cell_type": "code",
   "execution_count": 3,
   "id": "332eabb6",
   "metadata": {},
   "outputs": [
    {
     "ename": "TypeError",
     "evalue": "'tuple' object does not support item assignment",
     "output_type": "error",
     "traceback": [
      "\u001b[1;31m---------------------------------------------------------------------------\u001b[0m",
      "\u001b[1;31mTypeError\u001b[0m                                 Traceback (most recent call last)",
      "\u001b[1;32m<ipython-input-3-6017fc5fa59e>\u001b[0m in \u001b[0;36m<module>\u001b[1;34m\u001b[0m\n\u001b[0;32m      1\u001b[0m \u001b[0mb\u001b[0m\u001b[1;33m=\u001b[0m \u001b[1;33m(\u001b[0m\u001b[1;36m1\u001b[0m\u001b[1;33m,\u001b[0m\u001b[1;34m\"你好\"\u001b[0m\u001b[1;33m,\u001b[0m\u001b[1;32mTrue\u001b[0m\u001b[1;33m)\u001b[0m\u001b[1;33m\u001b[0m\u001b[1;33m\u001b[0m\u001b[0m\n\u001b[1;32m----> 2\u001b[1;33m \u001b[0mb\u001b[0m\u001b[1;33m[\u001b[0m\u001b[1;36m2\u001b[0m\u001b[1;33m]\u001b[0m \u001b[1;33m=\u001b[0m \u001b[1;32mFalse\u001b[0m\u001b[1;33m\u001b[0m\u001b[1;33m\u001b[0m\u001b[0m\n\u001b[0m",
      "\u001b[1;31mTypeError\u001b[0m: 'tuple' object does not support item assignment"
     ]
    }
   ],
   "source": [
    "b= (1,\"你好\",True)\n",
    "b[2] = False"
   ]
  },
  {
   "cell_type": "markdown",
   "id": "4412774a",
   "metadata": {},
   "source": [
    "#### 2.3 字典\n",
    "\n",
    "- dict字典 **映射类型：** 通过\"键\"-\"值\"的映射实现数据存储和查找\n",
    "- **表示方式： {key1:value1,key2:value2,...}**"
   ]
  },
  {
   "cell_type": "code",
   "execution_count": 19,
   "id": "72a4e87f",
   "metadata": {},
   "outputs": [
    {
     "data": {
      "text/plain": [
       "'涛涛'"
      ]
     },
     "execution_count": 19,
     "metadata": {},
     "output_type": "execute_result"
    }
   ],
   "source": [
    "student = {202101:\"涛涛\",202102:\"花花\",202103:\"小强\"}\n",
    "student[202101]"
   ]
  },
  {
   "cell_type": "markdown",
   "id": "ad0581c3",
   "metadata": {},
   "source": [
    "#### 2.4 集合\n",
    "\n",
    "- set集合 **一系列互不相等元素的集合，无序的**\n",
    "- **表示方式：{data1,data2,...}**"
   ]
  },
  {
   "cell_type": "code",
   "execution_count": 18,
   "id": "d0210c38",
   "metadata": {},
   "outputs": [
    {
     "data": {
      "text/plain": [
       "{'66', '安安', '小明', '涛涛'}"
      ]
     },
     "execution_count": 18,
     "metadata": {},
     "output_type": "execute_result"
    }
   ],
   "source": [
    "s = {\"66\",\"涛涛\",\"安安\",\"涛涛\",\"小明\",\"安安\"}\n",
    "s"
   ]
  },
  {
   "cell_type": "markdown",
   "id": "38ddb893",
   "metadata": {},
   "source": [
    "**在程序中，我们如何来引用这些数据？**\n",
    "\n",
    "- 非常通俗的处理方法：赋值给一个变量"
   ]
  },
  {
   "cell_type": "markdown",
   "id": "322ae546",
   "metadata": {},
   "source": [
    "## 第二部分 变量\n",
    "\n",
    "#### 1. 变量的概念\n",
    "\n",
    "- **\"量\"**：实实在在的对象：如数据、抽象(类实例、函数句柄)\n",
    "- **\"变\"**：可变性：增、删、查、改等\n",
    "- **变量定义二要素：  变量名、赋值**"
   ]
  },
  {
   "cell_type": "code",
   "execution_count": 8,
   "id": "28cbae02",
   "metadata": {},
   "outputs": [],
   "source": [
    "x = 1"
   ]
  },
  {
   "cell_type": "markdown",
   "id": "d6f8c863",
   "metadata": {},
   "source": [
    "### 2. 变量的命名\n",
    "\n",
    "#### 2.1 哪些可以用来做变量名？\n",
    "\n",
    "- 大写字母、小写字母、数字、下划线、汉字及其组合。\n",
    "- 严格区分大小写"
   ]
  },
  {
   "cell_type": "code",
   "execution_count": 11,
   "id": "dffbe0bc",
   "metadata": {},
   "outputs": [],
   "source": [
    "Python_is_第一名 = True\n",
    "python_is_第一名 = False"
   ]
  },
  {
   "cell_type": "markdown",
   "id": "c8fe60af",
   "metadata": {},
   "source": [
    "#### 2.2 哪些情况不被允许？\n",
    "\n",
    "- 首字符不允许为数字"
   ]
  },
  {
   "cell_type": "code",
   "execution_count": 12,
   "id": "1bde8575",
   "metadata": {},
   "outputs": [
    {
     "ename": "SyntaxError",
     "evalue": "invalid decimal literal (<ipython-input-12-e3b1d93d01a0>, line 1)",
     "output_type": "error",
     "traceback": [
      "\u001b[1;36m  File \u001b[1;32m\"<ipython-input-12-e3b1d93d01a0>\"\u001b[1;36m, line \u001b[1;32m1\u001b[0m\n\u001b[1;33m    1_fruit = \"apple\"\u001b[0m\n\u001b[1;37m     ^\u001b[0m\n\u001b[1;31mSyntaxError\u001b[0m\u001b[1;31m:\u001b[0m invalid decimal literal\n"
     ]
    }
   ],
   "source": [
    "1_fruit = \"apple\""
   ]
  },
  {
   "cell_type": "markdown",
   "id": "f3ebe31a",
   "metadata": {},
   "source": [
    "- 变量名中间不能有空格"
   ]
  },
  {
   "cell_type": "code",
   "execution_count": 13,
   "id": "9d51a076",
   "metadata": {},
   "outputs": [
    {
     "ename": "SyntaxError",
     "evalue": "invalid syntax (<ipython-input-13-36327c3a601f>, line 1)",
     "output_type": "error",
     "traceback": [
      "\u001b[1;36m  File \u001b[1;32m\"<ipython-input-13-36327c3a601f>\"\u001b[1;36m, line \u001b[1;32m1\u001b[0m\n\u001b[1;33m    my fruit = \"apple\"\u001b[0m\n\u001b[1;37m       ^\u001b[0m\n\u001b[1;31mSyntaxError\u001b[0m\u001b[1;31m:\u001b[0m invalid syntax\n"
     ]
    }
   ],
   "source": [
    "my fruit = \"apple\""
   ]
  },
  {
   "cell_type": "markdown",
   "id": "30f062a5",
   "metadata": {},
   "source": [
    "- 不能与33个Python保留字相同"
   ]
  },
  {
   "cell_type": "code",
   "execution_count": 14,
   "id": "f5620917",
   "metadata": {},
   "outputs": [
    {
     "ename": "SyntaxError",
     "evalue": "invalid syntax (<ipython-input-14-5b670a85b203>, line 1)",
     "output_type": "error",
     "traceback": [
      "\u001b[1;36m  File \u001b[1;32m\"<ipython-input-14-5b670a85b203>\"\u001b[1;36m, line \u001b[1;32m1\u001b[0m\n\u001b[1;33m    for = 33\u001b[0m\n\u001b[1;37m        ^\u001b[0m\n\u001b[1;31mSyntaxError\u001b[0m\u001b[1;31m:\u001b[0m invalid syntax\n"
     ]
    }
   ],
   "source": [
    "for = 33"
   ]
  },
  {
   "cell_type": "markdown",
   "id": "53e86dcc",
   "metadata": {},
   "source": [
    "#### 2.3 变量名定义技巧\n",
    "\n",
    "- 变量名尽可能有实际意义，表征数据的某种特征，同时尽可能的简单"
   ]
  },
  {
   "cell_type": "code",
   "execution_count": 15,
   "id": "1bce8eae",
   "metadata": {},
   "outputs": [],
   "source": [
    "a = [12,13,14]\n",
    "age_of_student = [12,13,14]\n",
    "age_of_stu = [12,13,14]"
   ]
  },
  {
   "cell_type": "markdown",
   "id": "86c8040b",
   "metadata": {},
   "source": [
    "- 下划线（推荐：变量名和函数名）**变量名由多个单词组成：用_连接多个单词**"
   ]
  },
  {
   "cell_type": "code",
   "execution_count": 20,
   "id": "b7ffbbee",
   "metadata": {},
   "outputs": [],
   "source": [
    "age_of_stu = [12,13,14]"
   ]
  },
  {
   "cell_type": "markdown",
   "id": "51c51ef4",
   "metadata": {},
   "source": [
    "- 驼峰体(推荐：类名) **变量名由多个单词组成：单词首字母大写**"
   ]
  },
  {
   "cell_type": "code",
   "execution_count": null,
   "id": "f63799e7",
   "metadata": {},
   "outputs": [],
   "source": [
    "AgeOfStu"
   ]
  },
  {
   "cell_type": "markdown",
   "id": "0b8205e2",
   "metadata": {},
   "source": [
    "- 尽量避免用中文和拼音做变量名"
   ]
  },
  {
   "cell_type": "code",
   "execution_count": null,
   "id": "11ed32f1",
   "metadata": {},
   "outputs": [],
   "source": []
  },
  {
   "cell_type": "markdown",
   "id": "b9eedef0",
   "metadata": {},
   "source": [
    "- 特殊的变量：常量（不变的量，如π，e）  **变量名所有字母均为大写**"
   ]
  },
  {
   "cell_type": "code",
   "execution_count": 22,
   "id": "3344ad5f",
   "metadata": {},
   "outputs": [],
   "source": [
    "MAX_ITERATION = 1000"
   ]
  },
  {
   "cell_type": "markdown",
   "id": "19287077",
   "metadata": {},
   "source": [
    "### 3. 变量的赋值\n",
    "\n",
    "#### 3.1 一般赋值\n",
    "\n",
    "- 通过等号自右向左进行赋值"
   ]
  },
  {
   "cell_type": "code",
   "execution_count": 25,
   "id": "3688f4d4",
   "metadata": {},
   "outputs": [
    {
     "data": {
      "text/plain": [
       "3"
      ]
     },
     "execution_count": 25,
     "metadata": {},
     "output_type": "execute_result"
    }
   ],
   "source": [
    "x = 1+2\n",
    "x"
   ]
  },
  {
   "cell_type": "markdown",
   "id": "618d2d0c",
   "metadata": {},
   "source": [
    "#### 3.2 增量赋值"
   ]
  },
  {
   "cell_type": "code",
   "execution_count": 26,
   "id": "25acd0f7",
   "metadata": {},
   "outputs": [
    {
     "data": {
      "text/plain": [
       "20"
      ]
     },
     "execution_count": 26,
     "metadata": {},
     "output_type": "execute_result"
    }
   ],
   "source": [
    "x = 10\n",
    "x += 10\n",
    "x"
   ]
  },
  {
   "cell_type": "markdown",
   "id": "ded015f1",
   "metadata": {},
   "source": [
    "#### 3.3 打包赋值"
   ]
  },
  {
   "cell_type": "code",
   "execution_count": 28,
   "id": "7855825e",
   "metadata": {},
   "outputs": [
    {
     "name": "stdout",
     "output_type": "stream",
     "text": [
      "10 20\n",
      "20 10\n"
     ]
    }
   ],
   "source": [
    "x,y = 10,20\n",
    "print(x,y)\n",
    "x,y = y,x\n",
    "print(x,y)"
   ]
  },
  {
   "cell_type": "markdown",
   "id": "5b36f1ef",
   "metadata": {},
   "source": [
    "## 第三部分 控制流程\n",
    "\n",
    "### 1. 顺序流程\n",
    "\n",
    "- 自上而下的依次执行\n",
    "\n"
   ]
  },
  {
   "cell_type": "markdown",
   "id": "21a85455",
   "metadata": {},
   "source": [
    "**【小例子】实现1到5的整数求和**"
   ]
  },
  {
   "cell_type": "code",
   "execution_count": 29,
   "id": "252f3e39",
   "metadata": {},
   "outputs": [
    {
     "data": {
      "text/plain": [
       "15"
      ]
     },
     "execution_count": 29,
     "metadata": {},
     "output_type": "execute_result"
    }
   ],
   "source": [
    "# res = 1+2+3+4+5\n",
    "res = 0     #赋值\n",
    "res += 1\n",
    "res += 2\n",
    "res += 3\n",
    "res += 4\n",
    "res += 5\n",
    "res         #显示结果"
   ]
  },
  {
   "cell_type": "markdown",
   "id": "35ae0039",
   "metadata": {},
   "source": [
    "### 2. 循环流程——遍历循环(for)"
   ]
  },
  {
   "cell_type": "markdown",
   "id": "fc958b76",
   "metadata": {},
   "source": [
    "### 主要形式：\n",
    "* **for** 元素 **in** 可迭代对象：  \n",
    " &emsp;&emsp;执行语句"
   ]
  },
  {
   "cell_type": "markdown",
   "id": "df712212",
   "metadata": {},
   "source": [
    "### 执行过程：\n",
    "\n",
    "- 从可迭代对象中，依次取出每一个元素，并进行相应的操作"
   ]
  },
  {
   "cell_type": "markdown",
   "id": "b1d1079c",
   "metadata": {},
   "source": [
    "**【小例子】实现1到5的整数求和**"
   ]
  },
  {
   "cell_type": "code",
   "execution_count": 30,
   "id": "5bd00a6a",
   "metadata": {},
   "outputs": [
    {
     "data": {
      "text/plain": [
       "15"
      ]
     },
     "execution_count": 30,
     "metadata": {},
     "output_type": "execute_result"
    }
   ],
   "source": [
    "res = 0\n",
    "for i in [1,2,3,4,5]:      #每次迭代，取出一个i\n",
    "    res += i               #对每次迭代取出的 i 进行相应的操作\n",
    "res                        #遍历结束后，执行后续语句"
   ]
  },
  {
   "cell_type": "markdown",
   "id": "e8a31b7f",
   "metadata": {},
   "source": [
    "### 3. 循环流程——无限循环（while True）"
   ]
  },
  {
   "cell_type": "markdown",
   "id": "ecb0aac5",
   "metadata": {},
   "source": [
    "### 主要形式：\n",
    "* **while** 判断条件：\n",
    "* &emsp;&emsp;**条件为真，执行语句**\n",
    "* **条件为假，while 循环结束**"
   ]
  },
  {
   "cell_type": "markdown",
   "id": "4bf7ff7d",
   "metadata": {},
   "source": [
    "**【小例子】实现1到5的整数求和**"
   ]
  },
  {
   "cell_type": "code",
   "execution_count": 31,
   "id": "f2debe30",
   "metadata": {},
   "outputs": [
    {
     "data": {
      "text/plain": [
       "15"
      ]
     },
     "execution_count": 31,
     "metadata": {},
     "output_type": "execute_result"
    }
   ],
   "source": [
    "i = 1\n",
    "res = 0\n",
    "while i<=5:    #若i不大于5，则循环继续\n",
    "    res += i\n",
    "    i += 1\n",
    "res             #若循环条件不成立，循环结束，执行后续语句"
   ]
  },
  {
   "cell_type": "markdown",
   "id": "1fc34c41",
   "metadata": {},
   "source": [
    "### 4. 分支流程（if）\n",
    "\n",
    "### 最简单的形式：\n",
    "\n",
    "- if 判断条件：\n",
    "    \n",
    "        条件为真，执行语句1\n",
    "- else:\n",
    "    \n",
    "        条件为假，执行语句2"
   ]
  },
  {
   "cell_type": "code",
   "execution_count": 32,
   "id": "c1a68f51",
   "metadata": {},
   "outputs": [
    {
     "name": "stdout",
     "output_type": "stream",
     "text": [
      "小屁孩别闹\n"
     ]
    }
   ],
   "source": [
    "age = 14\n",
    "if age >18:\n",
    "    print(\"已经成年啦\")\n",
    "else:\n",
    "    print(\"小屁孩别闹\")"
   ]
  },
  {
   "cell_type": "markdown",
   "id": "774685ed",
   "metadata": {},
   "source": [
    "- 有了数据和变量，以及控制流程这些个中间过程后\n",
    "- 我们回过头来考虑**程序的输入和输出**"
   ]
  },
  {
   "cell_type": "markdown",
   "id": "05050ede",
   "metadata": {},
   "source": [
    "## 第四部分 输入输出"
   ]
  },
  {
   "cell_type": "markdown",
   "id": "06654ba3",
   "metadata": {},
   "source": [
    "### 1. 数据从哪里来？"
   ]
  },
  {
   "cell_type": "markdown",
   "id": "852d3bb2",
   "metadata": {},
   "source": [
    "#### 1.1 外部文件导入\n",
    "\n",
    "- 从本地硬盘、网络端读入等\n",
    "- 该部分内容在《文件、异常和模块》"
   ]
  },
  {
   "cell_type": "markdown",
   "id": "edf8f3aa",
   "metadata": {},
   "source": [
    "#### 1.2 程序中定义"
   ]
  },
  {
   "cell_type": "code",
   "execution_count": 33,
   "id": "9dd25e69",
   "metadata": {},
   "outputs": [],
   "source": [
    "age = 18\n",
    "name = \"涛涛\""
   ]
  },
  {
   "cell_type": "markdown",
   "id": "5a232ba2",
   "metadata": {},
   "source": [
    "#### 1.3 动态交互输入input\n",
    "\n",
    "- 在程序运行的过程中进行输入"
   ]
  },
  {
   "cell_type": "code",
   "execution_count": 38,
   "id": "fdceeda2",
   "metadata": {},
   "outputs": [
    {
     "name": "stdout",
     "output_type": "stream",
     "text": [
      "请输入一个数字：2.5\n"
     ]
    },
    {
     "data": {
      "text/plain": [
       "'2.5'"
      ]
     },
     "execution_count": 38,
     "metadata": {},
     "output_type": "execute_result"
    }
   ],
   "source": [
    "x = input(\"请输入一个数字：\")\n",
    "x"
   ]
  },
  {
   "cell_type": "code",
   "execution_count": 37,
   "id": "5952f649",
   "metadata": {},
   "outputs": [
    {
     "name": "stdout",
     "output_type": "stream",
     "text": [
      "请输入一个数字：10\n"
     ]
    },
    {
     "data": {
      "text/plain": [
       "'10'"
      ]
     },
     "execution_count": 37,
     "metadata": {},
     "output_type": "execute_result"
    }
   ],
   "source": [
    "y = input(\"请输入一个数字：\")\n",
    "y"
   ]
  },
  {
   "cell_type": "code",
   "execution_count": 39,
   "id": "6c2dad3f",
   "metadata": {},
   "outputs": [
    {
     "data": {
      "text/plain": [
       "'2.510'"
      ]
     },
     "execution_count": 39,
     "metadata": {},
     "output_type": "execute_result"
    }
   ],
   "source": [
    "x+y"
   ]
  },
  {
   "cell_type": "markdown",
   "id": "ccde2bbe",
   "metadata": {},
   "source": [
    "- eval()去掉引号"
   ]
  },
  {
   "cell_type": "code",
   "execution_count": 42,
   "id": "e22bdaf1",
   "metadata": {},
   "outputs": [
    {
     "name": "stdout",
     "output_type": "stream",
     "text": [
      "请输入一个数字：10\n"
     ]
    },
    {
     "data": {
      "text/plain": [
       "10"
      ]
     },
     "execution_count": 42,
     "metadata": {},
     "output_type": "execute_result"
    }
   ],
   "source": [
    "x = eval(input(\"请输入一个数字：\"))\n",
    "x"
   ]
  },
  {
   "cell_type": "code",
   "execution_count": 43,
   "id": "4bdf8fce",
   "metadata": {},
   "outputs": [
    {
     "name": "stdout",
     "output_type": "stream",
     "text": [
      "请输入一个数字：2.3\n"
     ]
    },
    {
     "data": {
      "text/plain": [
       "2.3"
      ]
     },
     "execution_count": 43,
     "metadata": {},
     "output_type": "execute_result"
    }
   ],
   "source": [
    "y = eval(input(\"请输入一个数字：\"))\n",
    "y"
   ]
  },
  {
   "cell_type": "code",
   "execution_count": 44,
   "id": "5d4c969b",
   "metadata": {},
   "outputs": [
    {
     "data": {
      "text/plain": [
       "12.3"
      ]
     },
     "execution_count": 44,
     "metadata": {},
     "output_type": "execute_result"
    }
   ],
   "source": [
    "x+y"
   ]
  },
  {
   "cell_type": "markdown",
   "id": "a28584ca",
   "metadata": {},
   "source": [
    "### 2. 数据到哪里去？\n",
    "\n",
    "#### 2.1 存储到本地硬盘或网络端\n",
    "\n",
    "- 在《文件、异常和模块》\n",
    "\n",
    "#### 2.2 打印输出print\n",
    "\n",
    "- 直接打印数据"
   ]
  },
  {
   "cell_type": "code",
   "execution_count": 45,
   "id": "8472c0c8",
   "metadata": {},
   "outputs": [
    {
     "name": "stdout",
     "output_type": "stream",
     "text": [
      "我是你的小星星\n"
     ]
    }
   ],
   "source": [
    "print(\"我是你的小星星\")"
   ]
  },
  {
   "cell_type": "code",
   "execution_count": 46,
   "id": "df6246d2",
   "metadata": {},
   "outputs": [
    {
     "name": "stdout",
     "output_type": "stream",
     "text": [
      "12345\n"
     ]
    }
   ],
   "source": [
    "print(12345)"
   ]
  },
  {
   "cell_type": "markdown",
   "id": "7aa4d286",
   "metadata": {},
   "source": [
    "- 打印变量"
   ]
  },
  {
   "cell_type": "code",
   "execution_count": 47,
   "id": "248ca6da",
   "metadata": {},
   "outputs": [
    {
     "name": "stdout",
     "output_type": "stream",
     "text": [
      "1024\n"
     ]
    }
   ],
   "source": [
    "x = 1024\n",
    "print(x)"
   ]
  },
  {
   "cell_type": "markdown",
   "id": "2949d28d",
   "metadata": {},
   "source": [
    "- print默认换行"
   ]
  },
  {
   "cell_type": "code",
   "execution_count": 48,
   "id": "a4d31a8a",
   "metadata": {},
   "outputs": [
    {
     "name": "stdout",
     "output_type": "stream",
     "text": [
      "1\n",
      "2\n"
     ]
    }
   ],
   "source": [
    "print(1)\n",
    "print(2)"
   ]
  },
  {
   "cell_type": "markdown",
   "id": "bb95cac4",
   "metadata": {},
   "source": [
    "- 如果不想换行怎么办？\n",
    "- 换行控制end="
   ]
  },
  {
   "cell_type": "code",
   "execution_count": 49,
   "id": "a1d5133a",
   "metadata": {},
   "outputs": [
    {
     "name": "stdout",
     "output_type": "stream",
     "text": [
      "123留在这里456\n"
     ]
    }
   ],
   "source": [
    "print(123,end=\"留在这里\")\n",
    "print(456)"
   ]
  },
  {
   "cell_type": "markdown",
   "id": "4b1632df",
   "metadata": {},
   "source": [
    "- 有时候，我需要一些复杂的输出：比如几个变量一起组合输出"
   ]
  },
  {
   "cell_type": "code",
   "execution_count": 2,
   "id": "e03f2b23",
   "metadata": {},
   "outputs": [
    {
     "name": "stdout",
     "output_type": "stream",
     "text": [
      "PI =  3.1415926 , E =  2.71828\n"
     ]
    }
   ],
   "source": [
    "PI = 3.1415926\n",
    "E = 2.71828\n",
    "print(\"PI = \",PI,\", E = \",E)"
   ]
  },
  {
   "cell_type": "markdown",
   "id": "7bdeb923",
   "metadata": {},
   "source": [
    "#### 2.3 格式化输出方法 format"
   ]
  },
  {
   "cell_type": "markdown",
   "id": "a6bc065f",
   "metadata": {},
   "source": [
    "* **基本格式：\"字符{&ensp;0&ensp;}字符{&ensp;1&ensp;}字符\".format(v0,v1)**"
   ]
  },
  {
   "cell_type": "code",
   "execution_count": 54,
   "id": "613b18fe",
   "metadata": {},
   "outputs": [
    {
     "name": "stdout",
     "output_type": "stream",
     "text": [
      "PI = 3.1415926, E = 2.71828\n"
     ]
    }
   ],
   "source": [
    "print(\"PI = {0}, E = {1}\".format(PI,E))"
   ]
  },
  {
   "cell_type": "code",
   "execution_count": 55,
   "id": "2283a4cb",
   "metadata": {},
   "outputs": [
    {
     "name": "stdout",
     "output_type": "stream",
     "text": [
      "PI = 2.71828, E = 3.1415926\n"
     ]
    }
   ],
   "source": [
    "print(\"PI = {1}, E = {0}\".format(PI,E))"
   ]
  },
  {
   "cell_type": "code",
   "execution_count": 56,
   "id": "1e20b3f0",
   "metadata": {
    "scrolled": true
   },
   "outputs": [
    {
     "name": "stdout",
     "output_type": "stream",
     "text": [
      "PI = 3.1415926, E = 2.71828\n"
     ]
    }
   ],
   "source": [
    "print(\"PI = {}, E = {}\".format(PI,E))"
   ]
  },
  {
   "cell_type": "code",
   "execution_count": 57,
   "id": "61841c79",
   "metadata": {},
   "outputs": [
    {
     "name": "stdout",
     "output_type": "stream",
     "text": [
      "PI = 3.1415926, E = 3.1415926\n"
     ]
    }
   ],
   "source": [
    "print(\"PI = {0}, E = {0}\".format(PI,E))"
   ]
  },
  {
   "cell_type": "markdown",
   "id": "58293645",
   "metadata": {},
   "source": [
    "* 再进一步 修饰性输出"
   ]
  },
  {
   "cell_type": "markdown",
   "id": "f1aa36d1",
   "metadata": {},
   "source": [
    "1. 填充输出"
   ]
  },
  {
   "cell_type": "code",
   "execution_count": 31,
   "id": "c81b7f1c",
   "metadata": {
    "scrolled": false
   },
   "outputs": [
    {
     "name": "stdout",
     "output_type": "stream",
     "text": [
      "_____3.1415926______\n"
     ]
    }
   ],
   "source": [
    "# ____3.1415926_____  进行填充\n",
    "print(\"{0:_^20}\".format(PI))"
   ]
  },
  {
   "cell_type": "code",
   "execution_count": 3,
   "id": "d67b9502",
   "metadata": {},
   "outputs": [
    {
     "name": "stdout",
     "output_type": "stream",
     "text": [
      "3.1415926*********************\n"
     ]
    }
   ],
   "source": [
    "print(\"{0:*<30}\".format(PI))3. 浮点数简化输出"
   ]
  },
  {
   "cell_type": "markdown",
   "id": "6a2a065b",
   "metadata": {},
   "source": [
    "2. 浮点数简化输出"
   ]
  },
  {
   "cell_type": "markdown",
   "id": "d21ab32c",
   "metadata": {},
   "source": [
    "* 留2位小数"
   ]
  },
  {
   "cell_type": "code",
   "execution_count": 4,
   "id": "1688c591",
   "metadata": {},
   "outputs": [
    {
     "name": "stdout",
     "output_type": "stream",
     "text": [
      "3.14\n"
     ]
    }
   ],
   "source": [
    "print(\"{0:.2f}\".format(PI))"
   ]
  },
  {
   "cell_type": "markdown",
   "id": "093a2087",
   "metadata": {},
   "source": [
    "* 按百分数输出"
   ]
  },
  {
   "cell_type": "code",
   "execution_count": 5,
   "id": "b79a558e",
   "metadata": {},
   "outputs": [
    {
     "name": "stdout",
     "output_type": "stream",
     "text": [
      "81.9%\n"
     ]
    }
   ],
   "source": [
    "print(\"{0:.1%}\".format(0.818727))"
   ]
  },
  {
   "cell_type": "markdown",
   "id": "2078f63d",
   "metadata": {},
   "source": [
    "4. 整数的进制转换输出"
   ]
  },
  {
   "cell_type": "markdown",
   "id": "aa9135d0",
   "metadata": {},
   "source": [
    "* 十进制整数转二进制、unicode码、十进制、八进制、十六进制输出"
   ]
  },
  {
   "cell_type": "code",
   "execution_count": 6,
   "id": "501e9ddc",
   "metadata": {},
   "outputs": [
    {
     "data": {
      "text/plain": [
       "'二进制111000010,Unicode码ǂ,十进制450,八进制702,十六进制1c2'"
      ]
     },
     "execution_count": 6,
     "metadata": {},
     "output_type": "execute_result"
    }
   ],
   "source": [
    "\"二进制{0:b},Unicode码{0:c},十进制{0:d},八进制{0:o},十六进制{0:x}\".format(450)"
   ]
  },
  {
   "cell_type": "markdown",
   "id": "19b342a4",
   "metadata": {},
   "source": [
    "## 第五部分 程序格式\n",
    "\n",
    "### 1. 行最大长度\n",
    "\n",
    "所有行限制的最大字符数为79"
   ]
  },
  {
   "cell_type": "markdown",
   "id": "3c9a1ea2",
   "metadata": {},
   "source": [
    "### 2. 缩进"
   ]
  },
  {
   "cell_type": "markdown",
   "id": "ddfb383c",
   "metadata": {},
   "source": [
    "- 用缩进来**表示语句间的逻辑**\n",
    "- 在for while if def class等：**之后下一行开始进行缩进**，表明**后续代码与前句之间的从属关系**\n",
    "- 缩进量：4字符"
   ]
  },
  {
   "cell_type": "code",
   "execution_count": 58,
   "id": "61431c99",
   "metadata": {},
   "outputs": [
    {
     "name": "stdout",
     "output_type": "stream",
     "text": [
      "1\n",
      "2\n",
      "3\n",
      "打印结束\n"
     ]
    }
   ],
   "source": [
    "for i in [1,2,3]:\n",
    "    print(i)\n",
    "print(\"打印结束\")"
   ]
  },
  {
   "cell_type": "markdown",
   "id": "8ba2722d",
   "metadata": {},
   "source": [
    "### 3. 使用空格"
   ]
  },
  {
   "cell_type": "markdown",
   "id": "f197c202",
   "metadata": {},
   "source": [
    "- 二元运算符两边加一个空格"
   ]
  },
  {
   "cell_type": "code",
   "execution_count": null,
   "id": "f16ceab9",
   "metadata": {},
   "outputs": [],
   "source": [
    "x = 2     #赋值\n",
    "x += 4    #增量\n",
    "6 > 2     #比较"
   ]
  },
  {
   "cell_type": "markdown",
   "id": "1134b216",
   "metadata": {},
   "source": [
    "- 使用不同优先级的运算符，考虑在最低优先级的运算符周围添加空格"
   ]
  },
  {
   "cell_type": "code",
   "execution_count": null,
   "id": "d24ce064",
   "metadata": {},
   "outputs": [],
   "source": [
    "x = x*2 - 1\n",
    "x = x*x + y*y\n",
    "c = (a+b) * (a-b)"
   ]
  },
  {
   "cell_type": "markdown",
   "id": "231c244f",
   "metadata": {},
   "source": [
    "- 在逗号后使用空格"
   ]
  },
  {
   "cell_type": "code",
   "execution_count": 60,
   "id": "e348ded6",
   "metadata": {},
   "outputs": [],
   "source": [
    "x, y = 1, 2\n",
    "ls = [1, 2, 3]"
   ]
  },
  {
   "cell_type": "markdown",
   "id": "0c2b96c0",
   "metadata": {},
   "source": [
    "- 不要使用一个以上的空格"
   ]
  },
  {
   "cell_type": "code",
   "execution_count": 61,
   "id": "929ef27b",
   "metadata": {},
   "outputs": [],
   "source": [
    "x           = 2     #空格一个就够了，不应过多"
   ]
  },
  {
   "cell_type": "markdown",
   "id": "d447ea95",
   "metadata": {},
   "source": [
    "### 4. 避免使用空格"
   ]
  },
  {
   "cell_type": "markdown",
   "id": "0a3b680a",
   "metadata": {},
   "source": [
    "- 在制定关键字参数或者默认参数值得时候，不要再=附近加上空格"
   ]
  },
  {
   "cell_type": "code",
   "execution_count": 62,
   "id": "496b7686",
   "metadata": {},
   "outputs": [],
   "source": [
    "def fun(n=1, m=2):\n",
    "    print(n,m)"
   ]
  },
  {
   "cell_type": "markdown",
   "id": "f445ded2",
   "metadata": {},
   "source": [
    "### 小结\n",
    "\n",
    "**1. 以上属于PEP8格式指南的部分内容，养成良好的编码规范利人利己**\n",
    "\n",
    "**2. 格式约定的目的：**\n",
    "- 使大量Python代码风格一致\n",
    "- 提升代码可读性\n",
    "\n",
    "**3. 尽信书不如无书，不应死板教条的执行格式规范**"
   ]
  },
  {
   "cell_type": "markdown",
   "id": "b0c07fbc",
   "metadata": {},
   "source": [
    "### 5. 注释\n",
    "\n",
    "- 单行注释\n",
    "- 格式：#注释内容"
   ]
  },
  {
   "cell_type": "code",
   "execution_count": 63,
   "id": "3c6d18b6",
   "metadata": {},
   "outputs": [],
   "source": [
    "a = 1  #我是单行注释"
   ]
  },
  {
   "cell_type": "markdown",
   "id": "8d5e860d",
   "metadata": {},
   "source": [
    "- 多行注释\n",
    "- 格式：\"\"\"注释内容，可分行\"\"\""
   ]
  },
  {
   "cell_type": "code",
   "execution_count": null,
   "id": "a5a4d758",
   "metadata": {},
   "outputs": [],
   "source": [
    "\"\"\"\n",
    "我是一个兵，\n",
    "爱国爱人民。\n",
    "革命战争考验我，\n",
    "意志更坚定。\n",
    "\"\"\""
   ]
  }
 ],
 "metadata": {
  "kernelspec": {
   "display_name": "Python 3",
   "language": "python",
   "name": "python3"
  },
  "language_info": {
   "codemirror_mode": {
    "name": "ipython",
    "version": 3
   },
   "file_extension": ".py",
   "mimetype": "text/x-python",
   "name": "python",
   "nbconvert_exporter": "python",
   "pygments_lexer": "ipython3",
   "version": "3.8.8"
  }
 },
 "nbformat": 4,
 "nbformat_minor": 5
}
